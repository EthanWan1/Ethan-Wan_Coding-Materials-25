{
 "cells": [
  {
   "attachments": {},
   "cell_type": "markdown",
   "metadata": {},
   "source": [
    "# Learning Objectives\n",
    "\n",
    "- [ ]  2.2.1 Understand the different types: integer `int`, real `float`, char `chr`, string `str` and Boolean `Boolean` and initialise arrays `list`, `tuple` (1-dimensional and 2-dimensional). \n",
    "\n",
    "[![Open In Colab](https://colab.research.google.com/assets/colab-badge.svg)](https://colab.research.google.com/github/njc-cz2-2021/Materials/blob/main/365-Days-of-H2-Computing/Day_009.ipynb)"
   ]
  },
  {
   "cell_type": "markdown",
   "metadata": {},
   "source": [
    "# D9 Basic Data Structures\n",
    "\n",
    "In computer science, a data structure is a data organization, management, and storage format that enables efficient access and modification. More precisely, a data structure is a collection of data values, the relationships among them, and the functions or operations that can be applied to the data.\n",
    "\n",
    "## D9.1 Array\n",
    "\n",
    "An array, is a data structure consisting of a collection of elements (values or variables), each identified by at least one array index or key. We will focus on two commonly used ones in Python.\n",
    "\n",
    "### D9.1.1 List\n",
    "\n",
    "**Lists** are the most commonly used data structure in Python. \n",
    "\n",
    "* It is a **mutable** collection, i.e. its items can be added and removed.\n",
    "* Each of these data can be accessed by calling its index value.\n",
    "\n",
    "#### D9.1.1.1 Creating a list\n",
    "\n",
    "Lists are declared/created by just equating a variable to `[ ]` or list.\n",
    ">```python\n",
    ">empty_list = []\n",
    ">print(type(empty_list))\n",
    ">```\n",
    "\n",
    "Items in the list are seperated by comma `,`.\n",
    ">```python\n",
    ">nums = [1, 2, 3, 4]\n",
    ">nums\n",
    ">```"
   ]
  },
  {
   "cell_type": "code",
   "execution_count": null,
   "metadata": {},
   "outputs": [],
   "source": [
    "# YOUR CODE HERE"
   ]
  },
  {
   "cell_type": "markdown",
   "metadata": {},
   "source": [
    "List element can be of any data type.\n",
    "\n",
    ">```python\n",
    ">fruits = ['apple', 'banana', 'cherry', 'durian']\n",
    ">fruits\n",
    ">```"
   ]
  },
  {
   "cell_type": "code",
   "execution_count": null,
   "metadata": {},
   "outputs": [],
   "source": [
    "# YOUR CODE HERE"
   ]
  },
  {
   "cell_type": "markdown",
   "metadata": {},
   "source": [
    "In fact, it is able to hold elements of *mixed data types*, although this is not commonly used.\n",
    "\n",
    ">```python\n",
    ">mixed = ['apple', 3, 'banana', 5.0, True, None, (1,), [1,23]]\n",
    ">mixed\n",
    ">```"
   ]
  },
  {
   "cell_type": "code",
   "execution_count": null,
   "metadata": {},
   "outputs": [],
   "source": [
    "# YOUR CODE HERE"
   ]
  },
  {
   "cell_type": "markdown",
   "metadata": {},
   "source": [
    "List can also have **lists as its element**, which creates a `nested list`.\n",
    "\n",
    ">```python\n",
    ">nested = [ [10, 11, 12, 13], \n",
    ">           [20, 21, 22, 23] ]\n",
    ">nested\n",
    ">```"
   ]
  },
  {
   "cell_type": "code",
   "execution_count": null,
   "metadata": {},
   "outputs": [],
   "source": [
    "# YOUR CODE HERE"
   ]
  },
  {
   "cell_type": "markdown",
   "metadata": {},
   "source": [
    "#### D9.1.1.2 Accessing Elements in a list via Indexing\n",
    "\n",
    "Items in collection can be accessed by their indexes. Python uses zero-based indexing, i.e. index starts from 0.\n",
    "\n",
    ">```python\n",
    ">print(fruits)\n",
    ">print(fruits[0])\n",
    ">print(fruits[1])\n",
    ">```"
   ]
  },
  {
   "cell_type": "code",
   "execution_count": null,
   "metadata": {},
   "outputs": [],
   "source": [
    "# YOUR CODE HERE"
   ]
  },
  {
   "cell_type": "markdown",
   "metadata": {},
   "source": [
    "Indexing can also be done in reverse order by using a negative value as the index. That is the last element of the list has an index of -1, and second last element has index of -2 etc. This is called **negative indexing**.\n",
    "\n",
    "<center><img src=\"./img/list-indexing.png\" alt=\"Set Venn Diagram\" style=\"width: 400px;\"/></center>\n",
    "\n",
    ">```python\n",
    ">fruits[-1]\n",
    ">fruits[-2]\n",
    ">```"
   ]
  },
  {
   "cell_type": "code",
   "execution_count": null,
   "metadata": {},
   "outputs": [],
   "source": [
    "# YOUR CODE HERE"
   ]
  },
  {
   "cell_type": "markdown",
   "metadata": {},
   "source": [
    "For nested list, we can access items by **multi-level indexing**. Each level of the index always starts from 0.\n",
    "\n",
    "For example, access 1st element in 1st list, and 2nd element in 2nd list \n",
    ">```python\n",
    ">print(nested)\n",
    ">print(nested[0][0])\n",
    ">print(nested[1][1])\n",
    ">```"
   ]
  },
  {
   "cell_type": "code",
   "execution_count": null,
   "metadata": {},
   "outputs": [],
   "source": [
    "# YOUR CODE HERE"
   ]
  },
  {
   "cell_type": "markdown",
   "metadata": {},
   "source": [
    "#### Exercise D9.1\n",
    "\n",
    "How do you access element `Blackcurrant` in following list?\n",
    ">```python\n",
    ">nested_fruits = [\n",
    ">    ['Apple', 'Apricots', 'Avocado'], \n",
    ">    ['Banana', 'Blackcurrant', 'Blueberries'],\n",
    ">    ['Cherries', 'Cranberries', 'Custard-Apple']]\n",
    ">```"
   ]
  },
  {
   "cell_type": "code",
   "execution_count": null,
   "metadata": {
    "tags": [
     "hide-cell"
    ]
   },
   "outputs": [],
   "source": [
    "# YOUR CODE HERE"
   ]
  },
  {
   "attachments": {},
   "cell_type": "markdown",
   "metadata": {},
   "source": [
    "#### D9.1.1.2 Accessing Subsets Elements in a list via Slicing\n",
    "\n",
    "**Indexing** was only limited to accessing a single element.\n",
    "**Slicing** on the other hand is accessing a sequence of data inside the list. \n",
    "\n",
    "**Slicing** is done by defining the index values of the `first element` and the `last element` from the parent list that is required in the sliced list. \n",
    "\n",
    ">```python\n",
    ">sub = num[a : b]\n",
    ">sub = num[a : ]\n",
    ">sub = num[: b]\n",
    ">sub = num[:]\n",
    ">```\n",
    " \n",
    "* if both `a` and `b` are specified, `a` is the first index, `b` is the **last index + 1**.\n",
    "* if `b` is omitted, it will slice till last element.\n",
    "* if `a` is omitted, it will starts from first element.\n",
    "* if neither `a` or `b` is specified, it is effectively copy the whole list\n",
    "\n",
    "**Note: the upper bound index is NOT inclusive!**\n",
    "\n",
    "List slicing can also be used to extract elements at indices that differs by a constant `diff` (i.e the indices formed a arithmetic progression) with the following syntax \n",
    ">```python\n",
    ">sub = num[a:b:diff]\n",
    ">```"
   ]
  },
  {
   "cell_type": "markdown",
   "metadata": {},
   "source": [
    "#### Exercise D9.2\n",
    "\n",
    "* Create a list contain number 0-9\n",
    "* Print 3rd to 5th items\n",
    "* Print all items after 6th position\n",
    ">```python\n",
    ">num = [0,1,2,3,4,5,6,7,8,9]\n",
    "\n",
    ">```"
   ]
  },
  {
   "cell_type": "code",
   "execution_count": null,
   "metadata": {},
   "outputs": [],
   "source": [
    "# YOUR CODE HERE"
   ]
  },
  {
   "cell_type": "markdown",
   "metadata": {},
   "source": [
    "#### Exercise D9.3\n",
    "The `num` is a list of integers from 0 to 9, split the list into 2 equal size sub list, `sub1` and `sub2`.\n",
    "\n",
    ">```python\n",
    ">num = [0,1,2,3,4,5,6,7,8,9]\n",
    ">```"
   ]
  },
  {
   "cell_type": "code",
   "execution_count": null,
   "metadata": {
    "tags": [
     "hide-cell"
    ]
   },
   "outputs": [],
   "source": [
    "# YOUR CODE HERE"
   ]
  },
  {
   "attachments": {},
   "cell_type": "markdown",
   "metadata": {},
   "source": [
    "Remember list items can be accessed using **negative index**. Same technique can be applied for slicing too, i.e. we can **slice with negative index**.\n",
    "\n",
    "* Last item has index of -1\n",
    "\n",
    "#### Exercise D9.4\n",
    "\n",
    "For a list with integer 0-9, \n",
    "* How to get last 3 items from a list?\n",
    "* How to ignore last 3 items from a list?\n",
    "* How to strip first and last items from a list?\n",
    "\n",
    ">```python\n",
    ">num = [0,1,2,3,4,5,6,7,8,9]\n",
    ">```"
   ]
  },
  {
   "cell_type": "code",
   "execution_count": null,
   "metadata": {
    "tags": [
     "hide-cell"
    ]
   },
   "outputs": [],
   "source": [
    "# YOUR CODE HERE"
   ]
  }
 ],
 "metadata": {
  "kernelspec": {
   "display_name": "base",
   "language": "python",
   "name": "python3"
  },
  "language_info": {
   "codemirror_mode": {
    "name": "ipython",
    "version": 3
   },
   "file_extension": ".py",
   "mimetype": "text/x-python",
   "name": "python",
   "nbconvert_exporter": "python",
   "pygments_lexer": "ipython3",
   "version": "3.10.2"
  },
  "vscode": {
   "interpreter": {
    "hash": "d4abd50234137fb60a8e52bcd12c63c8cbc1f26b32bc51c54dab6a2ee6deb43f"
   }
  }
 },
 "nbformat": 4,
 "nbformat_minor": 1
}

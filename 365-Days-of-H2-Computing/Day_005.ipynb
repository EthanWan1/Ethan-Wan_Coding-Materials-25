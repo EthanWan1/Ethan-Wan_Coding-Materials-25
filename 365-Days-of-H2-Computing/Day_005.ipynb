{
 "cells": [
  {
   "cell_type": "markdown",
   "metadata": {},
   "source": [
    "# Learning Objectives\n",
    "\n",
    "- [ ]  2.2.3 Apply the fundamental programming constructs to control the flow of program execution:\n",
    "     * Sequence\n",
    "     * Selection\n",
    "     * Iteration \n",
    "\n",
    "[![Open In Colab](https://colab.research.google.com/assets/colab-badge.svg)](https://colab.research.google.com/github/njc-cz2-2021/Materials/blob/main/365-Days-of-H2-Computing/Day_005.ipynb)\n",
    "\n",
    "# References\n",
    "\n",
    "1. https://realpython.com/python-while-loop/#the-python-break-and-continue-statements"
   ]
  },
  {
   "cell_type": "markdown",
   "metadata": {},
   "source": [
    "#### Exercise D5.1\n",
    "Write a program that helps the user to extracting digits from a given integer input and print them out in the reverse order.\n",
    "\n",
    "Example interaction:\n",
    "\n",
    ">```text\n",
    ">Enter a number: 123\n",
    ">3\n",
    ">2\n",
    ">1\n",
    ">```"
   ]
  },
  {
   "cell_type": "code",
   "execution_count": null,
   "metadata": {
    "vscode": {
     "languageId": "plaintext"
    }
   },
   "outputs": [],
   "source": [
    "# YOUR ANSWER HERE"
   ]
  },
  {
   "cell_type": "markdown",
   "metadata": {},
   "source": [
    "#### Example D5.2\n",
    "Write a program that helps the user to prints out all the positive factors of a positive integer $n$.\n",
    "\n",
    "Example interaction:\n",
    "\n",
    ">```text\n",
    ">Please enter a positive integer: 225 \n",
    ">1\n",
    ">3\n",
    ">5\n",
    ">9\n",
    ">15\n",
    ">25\n",
    ">45\n",
    ">75\n",
    ">225\n",
    ">```"
   ]
  },
  {
   "cell_type": "code",
   "execution_count": null,
   "metadata": {
    "vscode": {
     "languageId": "plaintext"
    }
   },
   "outputs": [],
   "source": [
    "# YOUR ANSWER HERE"
   ]
  },
  {
   "cell_type": "markdown",
   "metadata": {},
   "source": [
    "#### Exercise D5.3\n",
    "\n",
    "What is the output for each of the following pieces of code?\n",
    "\n",
    "Note: if the code does not terminate, write infinite loop.\n",
    "\n",
    "1. Code 1\n",
    "\n",
    "    >```python\n",
    "    >a = 5  \t\n",
    "    >while a < 8:  \t \n",
    "    >   print(\"X\", end = \"\") \n",
    "    >print(\"\")\n",
    "    >```\n",
    "\n",
    "2. Code 2\n",
    "\n",
    "    >```python\n",
    "    >a = -1  \t\n",
    "    >while a < 3:  \t \t\n",
    "    >   print(\"X\" , end = \"\") \n",
    "    >a = a + 1 \n",
    "    >print(\"\")\n",
    "    >```\n",
    "\n",
    "3. Code 3\n",
    "\n",
    "    >```python\n",
    "    >a = 1\n",
    "    >while a % 7 != 0:  \t \t\n",
    "    >   if a % 2 == 0: \n",
    "    >       print(\"O\" , end = \"\")  \t \t\n",
    "    >   if a == 2:  \t \t \t\n",
    "    >       print(\"X\" , end = \"\")  \t \t\n",
    "    >   a = a + 1 \n",
    "    >print(\"\")\n",
    "    >```"
   ]
  },
  {
   "cell_type": "code",
   "execution_count": null,
   "metadata": {
    "vscode": {
     "languageId": "plaintext"
    }
   },
   "outputs": [],
   "source": [
    "# YOUR ANSWER HERE"
   ]
  },
  {
   "cell_type": "markdown",
   "metadata": {},
   "source": [
    "#### Exercise D5.4\n",
    "\n",
    "What is the output for each of the following pieces of code?\n",
    "\n",
    "1. Code 1\n",
    "\n",
    "    >```python\n",
    "    >keep_going = True \n",
    "    >a = 0  \t\n",
    "    >b = 0  \t\n",
    "    >while keep_going:  \t \t\n",
    "    >   print(\"O\", end = \"\")  \t \t\n",
    "    >   a = a + 5  \t \t\n",
    "    >   b = b + 7  \t \t\n",
    "    >   if a + b >= 24: \n",
    "    >       |keep_going = False  \t\n",
    "    >print(\"\")\n",
    "    >```\n",
    "\n",
    "2. Code 2\n",
    "\n",
    "    >```python\n",
    "    >keep_going = True \n",
    "    >a = 0  \t\n",
    "    >b = 0  \t\n",
    "    >while keep_going: \n",
    "    >   print(\"O\" , end = \"\")  \t \t\n",
    "    >   if a + b >= 24: \n",
    "    >       keep_going = False  \t \t\n",
    "    >   a = a + 5  \t \t\n",
    "    >   b = b + 7 \n",
    "    >print(\"\")\n",
    "    >```\n",
    "\n",
    "3. Code 3\n",
    "\n",
    "    >```python\n",
    "    >keep_going = True  \t\n",
    "    >a = 0  \t\n",
    "    >b = 0  \t\n",
    "    >while keep_going:  \t \t\n",
    "    >   print(\"O\" , end = \"\")  \t \t\n",
    "    >   a = a + 5  \t \t\n",
    "    >   b = b + 7 \n",
    "    >   if a + b > 24:  # note that \">\" is used here … vs \">=\" in (i)\n",
    "    >       keep_going = False  \t\n",
    "    >print(\"\")\n",
    "    >```\n",
    "\n",
    "4. Code 4\n",
    "\n",
    "    >```python\n",
    "    >keep_going = True \n",
    "    >a = 0  \t\n",
    "    >b = 0  \t\n",
    "    >while keep_going: \n",
    "    >   print(\"O\" , end = \"\")  \t \t\n",
    "    >   if a + b > 24:  \n",
    "    >       keep_going = False  # note that \">\" is used here … vs \">=\" in (ii)  \t \t\n",
    "    >   a = a + 5  \t \t\n",
    "    >   b = b + 7 \n",
    "    >print(\"\")\n",
    "    >```"
   ]
  },
  {
   "cell_type": "code",
   "execution_count": null,
   "metadata": {
    "vscode": {
     "languageId": "plaintext"
    }
   },
   "outputs": [],
   "source": [
    "# YOUR ANSWER HERE"
   ]
  },
  {
   "cell_type": "markdown",
   "metadata": {},
   "source": [
    "#### Exercise D5.5\n",
    "\n",
    "What is the output for each of the following pieces of code? Note: if the code does not terminate, write infinite loop.\n",
    "\n",
    "1. Code 1\n",
    "\n",
    "    >```python\n",
    "    >a = 0  \t\n",
    "    >while a < 3:  \t \t\n",
    "    >   while True:  \t \t \t\n",
    "    >       print(\"X\", end = \"\") \n",
    "    >       break \n",
    "    >   print(\"O\", end = \"\")  \t \t\n",
    "    >   a = a + 1 \n",
    "    >print(\"\")\n",
    "    >```\n",
    "\n",
    "2. Code 2\n",
    "\n",
    "    >```python\n",
    "    >a = 1 \n",
    "    >while a < 3: \n",
    "    >   while a < 3:  \t \t \t\n",
    "    >       print(\"O\", end  = \"\") \n",
    "    >   a = a + 1 \n",
    "    >print(\"\")\n",
    "    >```\n",
    "\n",
    "3. Code 3\n",
    "\n",
    "    >```python\n",
    "    >a = 1 \n",
    "    >while a < 3:  \t \t\n",
    "    >   if a % 2 == 0: \n",
    "    >       b = 1  \t \t \t\n",
    "    >       while b < 3:  \t \t \t \t\n",
    "    >           print(\"X\", end = \"\")  \t \t \t \t\n",
    "    >           b = b + 1 \n",
    "    >           print(\"O\", end = \"\") \n",
    "    >   a = a + 1 \n",
    "    >print(\"\")\n",
    "    >```"
   ]
  },
  {
   "cell_type": "code",
   "execution_count": null,
   "metadata": {
    "vscode": {
     "languageId": "plaintext"
    }
   },
   "outputs": [],
   "source": [
    "# YOUR ANSWER HERE"
   ]
  }
 ],
 "metadata": {
  "language_info": {
   "name": "python"
  }
 },
 "nbformat": 4,
 "nbformat_minor": 2
}

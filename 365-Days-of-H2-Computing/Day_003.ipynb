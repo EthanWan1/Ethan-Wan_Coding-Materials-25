{
 "cells": [
  {
   "cell_type": "markdown",
   "metadata": {},
   "source": [
    "# Learning Objectives\n",
    "\n",
    "- [ ]  2.2.3 Apply the fundamental programming constructs to control the flow of program execution:\n",
    "     * Sequence\n",
    "     * Selection\n",
    "     * Iteration \n",
    "\n",
    "[![Open In Colab](https://colab.research.google.com/assets/colab-badge.svg)](https://colab.research.google.com/github/njc-cz2-2021/Materials/blob/main/365-Days-of-H2-Computing/Day_003.ipynb)\n",
    "\n",
    "# References\n",
    "\n",
    "1. https://realpython.com/python-while-loop/#the-python-break-and-continue-statements"
   ]
  },
  {
   "cell_type": "markdown",
   "metadata": {},
   "source": [
    "# D3 Programming Constructs\n",
    "\n",
    ">A programming construct is an abstract way of describing a concept in terms of the syntax of programming language. These constructs are building blocks that forms the basis of all programs. \n",
    "\n",
    "These are basic programming constructs that we need to know:\n",
    "\n",
    "- Sequence,\n",
    "- Assignment,\n",
    "- Selection,\n",
    "- Iteration.\n",
    "\n",
    "We will explore the Assignment and Selection Construct in the sections below.\n",
    "\n",
    "## D3.0 Programming Construct : Sequence\n",
    "\n",
    "The most general construct of programming corresponds to the sequence of instructions, or more specifically, the sequence of statements that are specified within the program code.\n",
    "\n",
    "## D3.1 Programming Construct : Assignment\n",
    "\n",
    "In order to process data, we typically need to store it in computer memory. This is done via the use of variables. You might be familiar with variables given their use in mathematics. However, variables in mathematics and computing are different.\n",
    "\n",
    "In computing, a variable corresponds to an identifier that references a unit of data in computer memory.\n",
    "\n",
    "In order to define a variable, we must utilise the first programming construct: an **assignment statement**.\n",
    "\n",
    "To understand how assignment and variables work, let us refer to the following example:\n",
    "\n",
    ">```python\n",
    ">#x is the variable, 100 is the data, ← is the assignment operator\n",
    ">#and the whole line below is the assignment statement\n",
    ">x ← 100\n",
    ">```\n",
    "\n",
    "The above is a typical assignment statement. We are specifying a variable, i.e., an identifier `x`, which will reference some part of the computer’s memory, and in that segment of computer memory, store the integer value `100`.\n",
    "\n",
    "Essentially, the assignment statement does 3 things:\n",
    "\n",
    "1. Stores the variable identifier in an identifier table\n",
    "2. Allocates computer memory for the storage of the data type value specified; the memory allocated will correspond to some specific location in memory - i.e., a memory address\n",
    "3. Links the variable identifier to the computer memory location\n",
    "\n",
    "In this manner, whenever the variable is used, the computer knows that we are referring to the value that is stored in the associated location in computer memory.\n",
    "\n",
    "Assignment also allows programmers to:\n",
    "\n",
    "1. Assign new values to a variable\n",
    "2. Copy variable values\n",
    "3. Swap values between variables\n",
    "\n",
    "It should also be noted that when assigning a value, that value may be computed using expressions consisting of arithmetic, logical, comparison and/or string operations. For example:\n",
    "\n",
    ">```python\n",
    ">x ← 10+20\n",
    ">```\n",
    "\n",
    "Such expressions can, and or course, often do include the specification of other variables. For example:\n",
    "\n",
    ">```python\n",
    ">result ← a*x**2 + b*x + c\n",
    ">```\n",
    "\n",
    "In Python, the assignment operator is `=` , which should not be confused with the equal sign $=$ from mathematics.\n",
    "\n",
    "In Python, we can do multivariable assignment in a single line too. Example:\n",
    ">```python\n",
    "> a,b = 10, 20\n",
    "> a,b = b, a\n",
    ">```\n",
    "\n",
    "### D3.1.1 Python Naming Conventions and some Formatting Standards\n",
    "\n",
    "To prevent conflict and to keep consistency between programs, programming languages normally has some naming conventions for the variables, please check [https://www.python.org/dev/peps/pep-0008/#naming-conventions](https://www.python.org/dev/peps/pep-0008/) for updated style guide for python. For example, never use the characters `l` (lowercase letter el), `O` (uppercase letter oh), or `I` (uppercase letter eye) as single character variable names. In some fonts, these characters are indistinguishable from the numerals one and zero. When tempted to use `l`, use `L` instead.\n",
    "\n",
    "Legal variable names of a variable in Python :\n",
    "- Cannot begin with a digit\n",
    "- Cannot include operator symbols\n",
    "- Cannot be reserved words (e.g., `or`, `and`, `not`, `in`, `is`, `def`, `return`, `pass`, `break`, `continue`)\n",
    "- Should not be built-in function names (e.g., `print`, `input`, `range`, `len`, `min`, `max`, `int`, `str`)\n",
    " "
   ]
  },
  {
   "cell_type": "markdown",
   "metadata": {},
   "source": [
    "#### Exercise D3.1\n",
    "What is the output of the following code?\n",
    "\n",
    ">```python\n",
    ">a = 5 \n",
    ">b = a + 7 \n",
    ">a = 10 \n",
    ">print(str(b))\n",
    ">```"
   ]
  },
  {
   "cell_type": "code",
   "execution_count": null,
   "metadata": {},
   "outputs": [],
   "source": [
    "#YOUR ANSWER HERE"
   ]
  },
  {
   "cell_type": "markdown",
   "metadata": {},
   "source": [
    "#### Exercise D3.2\n",
    "\n",
    "The Python interpreter has strict rules for variable names. Which of the following are legal Python variable names? If the name is not legal, state the reason.\n",
    "\n",
    "1. `and`\n",
    "2. `_and`\n",
    "3. `Var`\n",
    "4. `var1`\n",
    "5. `1var`\n",
    "6. `my-name`\n",
    "7. `your_name`\n",
    "8. `COLOUR`"
   ]
  },
  {
   "cell_type": "code",
   "execution_count": null,
   "metadata": {},
   "outputs": [],
   "source": [
    "#YOUR ANSWER HERE"
   ]
  },
  {
   "cell_type": "markdown",
   "metadata": {},
   "source": [
    "## D3.2 Programming Construct : Selection\n",
    "Often, a program consisting of a sequence of statements is insufficient. This is because it is common to face a problem that requires the execution of different sets of statements dependent upon the current state of the data.\n",
    "\n",
    "To remedy this, we utilise the selection programming construct.\n",
    "\n",
    "With the selection programming construct, a query/condition is evaluated. Depending on its result, the program will take one of two possible courses of action. As such, the selection construct is typically referred to as an `if-else` statement (or `if` statement for short), which selects different sets of statements to execute.\n",
    "\n",
    "For example:\n",
    "\n",
    ">```coffeescript\n",
    ">INPUT x\n",
    ">IF x ≥ 50\n",
    ">    THEN\n",
    ">        OUTPUT “PASS”\n",
    ">        OUTPUT “Well done!”\n",
    ">    ELSE\n",
    ">        OUTPUT “FAIL”\n",
    ">        OUTPUT “Please try harder.”\n",
    ">ENDIF\n",
    ">```\n",
    "\n",
    "It should be noted that it is common practice to indent the statements within the `if` or `else` parts of an `if` statement so that it is easier to read the code.\n",
    "\n",
    "Finally, it should also be noted that `if` statements may be nested, i.e., the statements in the `if` or `else` parts may themselves include another `if` statement.\n",
    "\n",
    "In Python, the `if` block follows the structure below:\n",
    "\n",
    ">```python\n",
    ">if <condition_1>:\n",
    ">    <action_1>\n",
    ">else:\n",
    ">    <action_2>\n",
    ">```"
   ]
  },
  {
   "cell_type": "code",
   "execution_count": null,
   "metadata": {},
   "outputs": [],
   "source": [
    "# Python implementation of the example above\n",
    "x = input('Please enter marks')\n",
    "\n",
    "if x >= 50:\n",
    "    print('Pass')\n",
    "    print('Well done!')\n",
    "else:\n",
    "    print('Fail')\n",
    "    print('Please Try Harder')"
   ]
  },
  {
   "cell_type": "markdown",
   "metadata": {},
   "source": [
    "#### Exercise D3.3\n",
    "In cells, DNA (Deoxyribonucleic acid) is the nucleic acid that functions as the original blueprint for the synthesis of proteins. On the other hand, Ribonucleic acid (RNA) is a nucleic acid which is directly involved in protein synthesis.\n",
    "\n",
    "The four nucleotides found in DNA are adenine (A), cytosine (C), guanine (G) and thymine (T). The four nucleotides found in RNA are adenine (A), cytosine (C), guanine (G) and uracil (U).\n",
    "\n",
    "Given a DNA strand, its transcribed RNA strand is formed by replacing each nucleotide with its complement:\n",
    "\n",
    "```\n",
    "G --> C\n",
    "C --> G\n",
    "T --> A\n",
    "A --> U\n",
    "```\n",
    "\n",
    "Write a program that \n",
    "- request the user for a DNA nucleotide string\n",
    "- transcribes a given DNA nucleotide string `dnaNuc` into a RNA string\n",
    "- assign the transcribed string to `rnaNuc`. \n",
    "- print out the transcribed string\n",
    "\n",
    "For example, if the DNA nucleotide is `\"G\"`, the transcribed string will be `\"C\"`. You may assume the given DNA nucleotide is valid."
   ]
  },
  {
   "cell_type": "code",
   "execution_count": null,
   "metadata": {},
   "outputs": [],
   "source": [
    "# YOUR ANSWER HERE"
   ]
  },
  {
   "cell_type": "markdown",
   "metadata": {},
   "source": [
    "Sometimes there are more conditions which require different actions to be carried out when the conditions are met. In Python, we can use `elif` statements inside the `if` block to handle these conditions. In such cases, the `if` follows the structure below:\n",
    "\n",
    ">```python\n",
    ">if <condition_1>:\n",
    ">    <action_1>\n",
    ">elif <condition_2>: #if statements do not always need to be accompanied by elif and else\n",
    ">    <action_2>\n",
    ">else:\n",
    ">    <action_3>\n",
    ">```"
   ]
  },
  {
   "cell_type": "markdown",
   "metadata": {},
   "source": [
    "#### Exercise D3.4\n",
    "Write a program that helps the user to convert a given integer from 0 to 100 inclusive to a grade. \n",
    " \n",
    "The problem: \n",
    "-\tRequest a quantity from the user. \n",
    "-\tif the input quantity is greater or equal to 70, print `A`,\n",
    "-\tif the input quantity is between 60 and 69 inclusive, print `B`,\n",
    "-\tif the input quantity is between 55 and 59 inclusive, print `C`,\n",
    "-\tif the input quantity is between 50 and 54 inclusive, print `D`,\n",
    "-\tif the input quantity is between 45 and 49 inclusive, print `E`,\n",
    "-\tif the input quantity is between 40 and 44 inclusive, print `S`,\n",
    "-\totherwise, print `U`.\n",
    "\n",
    "Example interaction:\n",
    "\n",
    "```\n",
    ">Enter mark: 75 <br>\n",
    ">A\n",
    "```"
   ]
  },
  {
   "cell_type": "code",
   "execution_count": null,
   "metadata": {},
   "outputs": [],
   "source": [
    "# YOUR ANSWER HERE"
   ]
  }
 ],
 "metadata": {
  "kernelspec": {
   "display_name": "Python 3",
   "language": "python",
   "name": "python3"
  },
  "language_info": {
   "name": "python",
   "version": "3.12.1"
  }
 },
 "nbformat": 4,
 "nbformat_minor": 2
}

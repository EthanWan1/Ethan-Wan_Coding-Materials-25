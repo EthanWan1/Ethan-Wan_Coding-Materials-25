{
 "cells": [
  {
   "attachments": {},
   "cell_type": "markdown",
   "metadata": {},
   "source": [
    "# Learning Objectives\n",
    "\n",
    "- [ ]  2.2.4 Use functions and procedures to modularise problem into chunks of code.\n",
    "- [ ]  2.2.5 Understand the concept of recursion. \n",
    "- [ ]  2.2.6 Trace the steps and list the results of recursive and non-recursive programs. \n",
    "- [ ]  2.2.7 Understand the use of stacks in recursive programming. \n",
    "\n",
    "[![Open In Colab](https://colab.research.google.com/assets/colab-badge.svg)](https://colab.research.google.com/github/njc-cz2-2021/Materials/blob/main/365-Days-of-H2-Computing/Day_021.ipynb)"
   ]
  },
  {
   "cell_type": "markdown",
   "metadata": {},
   "source": [
    "## Exercise D21.1\n",
    "\n",
    "Write a function that takes in a list of real numbers and returns the minimum value from that list. You may not use the built-in `min()` and `sorted()` functions, and you may not use the `list.sort()` method.\n",
    "\n",
    ">```python\n",
    ">your_function([1,2,3])\n",
    ">1\n",
    ">```"
   ]
  },
  {
   "cell_type": "code",
   "execution_count": null,
   "metadata": {},
   "outputs": [],
   "source": [
    "#YOUR CODE HERE"
   ]
  },
  {
   "cell_type": "markdown",
   "metadata": {},
   "source": [
    "## Exercise D21.2\n",
    "\n",
    "Recall that we have defined the following vector operations in the previous exercise: \n",
    "- addition $+$, which operates between 2 vectors and returns a vector, $\\left(\\begin{array}{c}\n",
    "a_{1}\\\\\n",
    "a_{2}\\\\\n",
    "a_{3}\n",
    "\\end{array}\\right)+\\left(\\begin{array}{c}\n",
    "b_{1}\\\\\n",
    "b_{2}\\\\\n",
    "b_{3}\n",
    "\\end{array}\\right)=\\left(\\begin{array}{c}\n",
    "a_{1}+b_{1}\\\\\n",
    "a_{2}+b_{2}\\\\\n",
    "a_{3}+b_{3}\n",
    "\\end{array}\\right)$,\n",
    "- dot product $\\cdot$, which operates between 2 vector and returns a real number, $\\left(\\begin{array}{c}\n",
    "a_{1}\\\\\n",
    "a_{2}\\\\\n",
    "a_{3}\n",
    "\\end{array}\\right)\\cdot\\left(\\begin{array}{c}\n",
    "b_{1}\\\\\n",
    "b_{2}\\\\\n",
    "b_{3}\n",
    "\\end{array}\\right)=a_{1}b_{1}+a_{2}b_{2}+a_{3}b_{3}$,\n",
    "- cross product $\\times$, which operates between 2 vectors and returns yet another vector, $\\left(\\begin{array}{c}\n",
    "a_{1}\\\\\n",
    "a_{2}\\\\\n",
    "a_{3}\n",
    "\\end{array}\\right)\\times\\left(\\begin{array}{c}\n",
    "b_{1}\\\\\n",
    "b_{2}\\\\\n",
    "b_{3}\n",
    "\\end{array}\\right)=\\left(\\begin{array}{c}\n",
    "a_{2}b_{3}-a_{3}b_{2}\\\\\n",
    "-\\left(a_{1}b_{3}-a_{3}b_{1}\\right)\\\\\n",
    "a_{1}b_{2}-a_{2}b_{1}\n",
    "\\end{array}\\right)$.\n",
    "\n",
    "First, write 3 functions named `dot`, `cross` and `vec_add` that:\n",
    "- each takes in 2 tuples `(x1,y1,z1)`, `(x2,y2,z2)` as parameters. Obviously, these tuples represent 3D vectors (not points!).\n",
    "- return the corresponding results of the various vector operations.\n",
    "\n",
    "Furthermore, there're more operations on that we can do on vectors.\n",
    "- negation, $-$, that operates on **one** vector and return another vector, $-\\left(\\begin{array}{c}\n",
    "a_{1}\\\\\n",
    "a_{2}\\\\\n",
    "a_{3}\n",
    "\\end{array}\\right)=\\left(\\begin{array}{c}\n",
    "-a_{1}\\\\\n",
    "-a_{2}\\\\\n",
    "-a_{3}\n",
    "\\end{array}\\right)$. Note that this is NOT SUBTRACTION OF TWO VECTOR\n",
    "- modulus (or magnitude or length), $\\left|~~~ \\right|$, of **one** vector and return a real number, $\\left|\\left(\\begin{array}{c}\n",
    "a_{1}\\\\\n",
    "a_{2}\\\\\n",
    "a_{3}\n",
    "\\end{array}\\right)\\right|=\\sqrt{a_{1}^{2}+a_{2}^{2}+a_{3}^{2}}$.\n",
    "- unit $\\hat{}$, of **one** vector and return a vector, $\\hat{\\mathbf{a}}=\\frac{1}{\\left|\\mathbf{a}\\right|}\\left(\\begin{array}{c}\n",
    "a_{1}\\\\\n",
    "a_{2}\\\\\n",
    "a_{3}\n",
    "\\end{array}\\right)$ of magnitude 1.\n",
    "\n",
    "Next, write another 3 functions named `neg`, `mag` and `unit` that:\n",
    "\n",
    "- each takes in a tuple `(x1,y1,z1)` as parameter. Obviously, this tuple represent 3D vectors (not points!).\n",
    "- return the results that corresponds to the negation, modulus of a vector and lastly, the unit vector of the corresponding vector.\n",
    "\n",
    "Example interaction: \n",
    "\n",
    ">``` python\n",
    ">a = (1,2,3)\n",
    ">b = (4,5,6)\n",
    ">dot(a,b)\n",
    ">32\n",
    ">cross(a,b)\n",
    ">(-3,6,-3)\n",
    ">vec_add(a,b)\n",
    ">(5,7,9)\n",
    ">neg(a)\n",
    ">(-1,-2,-3)\n",
    ">mag(a)\n",
    ">3.74165738677\n",
    ">unit(a)\n",
    ">(0.267261, 0.534522, 0.801784)\n",
    ">```"
   ]
  },
  {
   "cell_type": "code",
   "execution_count": null,
   "metadata": {},
   "outputs": [],
   "source": [
    "#DO NOT DELETE THE IMPORT\n",
    "#you can find the square root of a number x by using the expression math.sqrt(x)\n",
    "import math\n",
    "\n",
    "#YOUR CODE HERE"
   ]
  },
  {
   "cell_type": "markdown",
   "metadata": {},
   "source": [
    "## Exercise D21.3 2018/NJC Tutorial/VECTORS I/Q2 H2 Mathematics (Modified) \n",
    "\n",
    "Given that $\\mathbf{a}=2\\mathbf{i}+\\mathbf{j}+\\mathbf{k}$ and $\\mathbf{b}=-4\\mathbf{i}+3\\mathbf{j}$, find the following:\n",
    "\n",
    "1. $\\mathbf{a-2b}$, \n",
    "2. $\\left|\\mathbf{a}\\right|$,\n",
    "3. $\\hat{\\mathbf{b}}$.\n",
    "4. $\\left|3\\mathbf{a}\\right|+\\left|2\\mathbf{b}\\right|$,\n",
    "5. $\\left|3\\mathbf{a}+2\\mathbf{b}\\right|$.\n",
    "\n",
    "Answer:\n",
    "\n",
    "1. $\\left(\\begin{array}{c}\n",
    "10\\\\\n",
    "-5\\\\\n",
    "1\n",
    "\\end{array}\\right)$\n",
    "\n",
    "2. $\\sqrt{6}$\n",
    "\n",
    "3. $\\frac{1}{5}\\left(\\begin{array}{c}\n",
    "-4\\\\\n",
    "3\\\\\n",
    "0\n",
    "\\end{array}\\right)$\n",
    "\n",
    "4. $3\\sqrt{6}+10$\n",
    "\n",
    "5. $\\sqrt{94}$\n"
   ]
  },
  {
   "cell_type": "code",
   "execution_count": null,
   "metadata": {},
   "outputs": [],
   "source": [
    "#DO NOT DELETE THE IMPORT\n",
    "import math\n",
    "\n",
    "#YOUR CODE HERE"
   ]
  },
  {
   "cell_type": "markdown",
   "metadata": {},
   "source": [
    "## Exercise D21.4 Angle between 3D Vectors\n",
    "\n",
    "The acute **angle** $\\theta$ between 2 vectors $\\mathbf{a}=\\left(\\begin{array}{c}\n",
    "a_{1}\\\\\n",
    "a_{2}\\\\\n",
    "a_{3}\n",
    "\\end{array}\\right)$ and $\\mathbf{b}=\\left(\\begin{array}{c}\n",
    "b_{1}\\\\\n",
    "b_{2}\\\\\n",
    "b_{3}\n",
    "\\end{array}\\right)$ is defined to be the value $\\theta$ such that $\\cos\\theta=\\frac{\\left|\\mathbf{a}\\cdot\\mathbf{b}\\right|}{\\left|\\mathbf{a}\\right|\\left|\\mathbf{b}\\right|}$, i.e.,\n",
    "$$\\theta=\\cos^{-1}\\left(\\frac{\\left|\\mathbf{a}\\cdot\\mathbf{b}\\right|}{\\left|\\mathbf{a}\\right|\\left|\\mathbf{b}\\right|}\\right).$$\n",
    "\n",
    "\n",
    "Write a function named `angle` that:\n",
    "- takes in 2 tuples `(x1,y1,z1)`, `(x2,y2,z2)` as parameters. Obviously, these tuples represent 3D vectors (not points!).\n",
    "- return the angle in degrees between the supplied vectors.\n",
    "\n",
    "Example interaction: \n",
    "\n",
    ">``` python\n",
    ">a = (1,-2,3)\n",
    ">b = (3,1,2)\n",
    ">angle(a,b)\n",
    ">60\n",
    ">```\n",
    "\n",
    "What the angle between 2 vectors $\\mathbf{a}$ and $\\mathbf{b}$ is $90^{\\circ}$, we say that the two vectors are perpendicular to each other, or $\\mathbf{a}$ is perpendicular to $\\mathbf{b}$. Find a vector that is perpendicular to $\\left(\\begin{array}{c}\n",
    "3\\\\\n",
    "-1\\\\\n",
    "1\n",
    "\\end{array}\\right)$ and verify it. Hint: $\\cos 90^{\\circ}=0$. What does this tell us about the dot product?"
   ]
  },
  {
   "cell_type": "code",
   "execution_count": null,
   "metadata": {},
   "outputs": [],
   "source": [
    "#DO NOT DELETE THE IMPORT\n",
    "#you can find the cosine inverse of a number x (in radians) -by using the expression math.acos(x) \n",
    "import math\n",
    "\n",
    "#YOUR CODE HERE"
   ]
  },
  {
   "cell_type": "markdown",
   "metadata": {},
   "source": [
    "## Exercise D21.5 Length of Projection of a Vector onto another Vector\n",
    "\n",
    "Let $\\mathbf{a}$, $\\mathbf{b}$ be vectors and $\\theta$ is the acute angle between the vectors.  The **length of projection** of $\\mathbf{a}$ onto $\\mathbf{b}$ is defined as $$\\left|\\mathbf{a}\\right|\\cos\\theta=\\frac{\\left|\\mathbf{a}\\cdot\\mathbf{b}\\right|}{\\left|\\mathbf{b}\\right|}=\\left|\\mathbf{a}\\cdot\\mathbf{\\hat{b}}\\right|.$$\n",
    "\n",
    "Write a function named `length_of_proj` that:\n",
    "- takes in 2 tuples `(x1,y1,z1)`, `(x2,y2,z2)` as parameters. Obviously, these tuples represent 3D vectors (not points!).\n",
    "- return the length of projection of the first vector on the 2nd vector in the parameter.\n",
    "\n",
    "Example interaction: \n",
    "\n",
    ">```python\n",
    ">a = (2, 1, 2)\n",
    ">b = (-2, -2, 4)\n",
    ">length_of_proj(a, b)\n",
    ">0.666666667\n",
    ">length_of_proj(b, a)\n",
    ">0.40824829\n",
    ">```"
   ]
  },
  {
   "cell_type": "code",
   "execution_count": null,
   "metadata": {},
   "outputs": [],
   "source": [
    "#YOUR CODE HERE"
   ]
  }
 ],
 "metadata": {
  "kernelspec": {
   "display_name": "Python 3",
   "language": "python",
   "name": "python3"
  },
  "language_info": {
   "codemirror_mode": {
    "name": "ipython",
    "version": 3
   },
   "file_extension": ".py",
   "mimetype": "text/x-python",
   "name": "python",
   "nbconvert_exporter": "python",
   "pygments_lexer": "ipython3",
   "version": "3.10.2"
  },
  "orig_nbformat": 2,
  "vscode": {
   "interpreter": {
    "hash": "a42ccb73e7d9bfdf27e036f1d2b8b681e55fc0743cc5586bc2474d4a60f4b886"
   }
  }
 },
 "nbformat": 4,
 "nbformat_minor": 2
}

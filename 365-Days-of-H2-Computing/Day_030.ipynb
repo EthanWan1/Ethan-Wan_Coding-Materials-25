{
 "cells": [
  {
   "cell_type": "markdown",
   "metadata": {},
   "source": [
    "# Learning Objectives\n",
    "\n",
    "- [ ]  2.4.1 Explain the difference between data validation and data verification.\n",
    "- [ ]  2.4.2 Understand data validation techniques such as:\n",
    "    - range check\n",
    "    - format check\n",
    "    - length check\n",
    "    - presence check\n",
    "    - check digit\n",
    "- [ ]  2.4.3 Identify, explain and correct syntax, logic and runtime errors.\n",
    "- [ ]  2.4.4 Design appropriate test cases using normal, abnormal and extreme data for testing and debugging programs.\n"
   ]
  },
  {
   "cell_type": "markdown",
   "metadata": {},
   "source": [
    "# D30.1 Program Testing\n",
    "\n",
    "In order to ensure that any code we write will function correctly under all possible circumstances, we must employ testing. This is especially pertinent to logic and arithmetic errors, but is also applicable to static semantic errors (though it typically has no bearing on syntax errors since testing for that is handled by the interpreter/compiler).\n",
    "\n",
    "In order to ensure that the program under scrutiny functions as intended, appropriate test cases must be specified. Test cases fall into 3 categories:\n",
    "\n",
    "- Normal (valid) cases. Normal data values correspond to data that would normally be input into the program. With such test cases, the program should accept the test case, process it, and output a result that is checked to ensure that it is the same as the expected result.\n",
    "- Boundary (extreme) cases. Boundary data values correspond to values that are chosen to be the absolute limits of the normal range. Extreme values are used in testing to make sure that all normal values will be accepted and processed correctly.\n",
    "- Abnormal (erroneous) cases. Abnormal data values correspond to values that should not normally be accepted by the system - the values are invalid. The program should reject any abnormal values. Abnormal values are used in testing to ensure that invalid data does not cause a runtime error.\n",
    "\n",
    "It should be noted that testing encompasses a more complex framework for larger projects that involve many programmers. For the purposes of these notes, we will restrict testing to individual algorithms and smaller snippets of code.\n"
   ]
  },
  {
   "cell_type": "markdown",
   "metadata": {},
   "source": [
    "# D30.2 Data Validation\n",
    "\n",
    "**Data validation** is the process to confirm if input data conforms to required specifications in presence, existence, accuracy, length, range, format, etc, typically validated by computerized means (program testing), and performed at time of data entry. \n",
    "\n",
    "Validation corresponds to automated checking to ensures that input data is acceptable/reasonable - i.e., it ensure that the data has the correct type and format; it does not, however, guarantee that the data is accurate. \n",
    "\n",
    "An example of validation would be to check data strings corresponding to NRIC or car registration plate numbers.\n",
    "\n",
    "Data validation techniques include:\n",
    "- range check : check if the input data is within the acceptable range/region.\n",
    "- format check : check if characters in each position of an input matches the correct layout; this applies to code numbers which may have a complex format.\n",
    "- length check : check if the input data has a specified number/range of characters.\n",
    "- presence check : check for empty fields.\n",
    "- check digit : check for simple errors in the input of a series of digits such as a single mistyped digit or some permutations of two successive digits."
   ]
  },
  {
   "cell_type": "markdown",
   "metadata": {},
   "source": [
    "#### Example\n",
    "\n",
    "Write a Python code to check the validity of a password (input from users).\n",
    "\n",
    "Validation :\n",
    "\n",
    "- Password cannot be an empty string.\n",
    "- At least 1 lowercase letter between `[a-z]` and 1 uppercase letter between `[A-Z]`.\n",
    "- At least 1 number between `[0-9]`.\n",
    "- At least 1 character from `[$#@]`.\n",
    "- Minimum length 6 characters.\n",
    "- Maximum length 16 characters."
   ]
  },
  {
   "cell_type": "code",
   "execution_count": null,
   "metadata": {},
   "outputs": [],
   "source": [
    "#YOUR_CODE_HERE"
   ]
  },
  {
   "cell_type": "markdown",
   "metadata": {},
   "source": [
    "#### Exercise D30.1 ISBN \n",
    "\n",
    "The International Standard Book Number (ISBN) is a numeric commercial book identifier which is intended to be unique. Publishers purchase ISBNs from an affiliate of the International ISBN Agency.\n",
    "\n",
    "Write a code that \n",
    "- takes in a string input,\n",
    "- return `True` if the string is either a valid ISBN-10 or ISBN-13 numbers.\n",
    "\n",
    "Each line in the text file, `ISBN_EXERCISE.TXT` under the folder `resources`, contain ISBN-10 or ISBN-13 which can be valid or invalid.\n",
    "\n",
    "Write a program to:\n",
    "- print out the valid ISBNs in the file.\n",
    "- print out the number of valid ISBNs in the file."
   ]
  },
  {
   "cell_type": "code",
   "execution_count": null,
   "metadata": {},
   "outputs": [],
   "source": [
    "# YOUR ANSWER HERE"
   ]
  },
  {
   "cell_type": "markdown",
   "metadata": {},
   "source": [
    "#### Exercise D30.2 2021/NJC/PROMO/P2/Q3(Modified)\n",
    "A picture element, or a **pixel**, is one of the small squares that make up an image on a computer screen. As such, every digital image can be thought of being made up of pixels. The following is an example of an image of the size 10 by 10 pixels. The first 10 refers to the number of rows in the image and the latter 10 refers to the number of columns in the image.\n",
    "\n",
    "<center>\n",
    "<img src=\"./img/exercise9-pixel.png\"><br>\n",
    "</center>\n",
    "\n",
    "A pixel holds the information of a color and the colors are often represented in a string starting with a hex `#` character followed by 3 pairs of hexadecimal digits. We will call this the hexadecimal representation of the pixel. For example, the color white is `#FFFFF` and the color silver is `#C0C0C0`.\n",
    "\n",
    "##### Task 1\n",
    "Write a program code with the following specification:\n",
    "- input a hexadecimal number as a string\n",
    "- validate the input\n",
    "- calculate the denary value of the hexadecimal number input\n",
    "- output the denary value."
   ]
  },
  {
   "cell_type": "code",
   "execution_count": null,
   "metadata": {},
   "outputs": [],
   "source": [
    "# YOUR ANSWER HERE"
   ]
  },
  {
   "cell_type": "markdown",
   "metadata": {},
   "source": [
    "Each pair of the hexadecimal digits actually represents the intensity of 3 primary colors, red, green and blue, that make up the color in the pixel. As such, instead of having the hexadecimal representation of the pixel, each pixel can be represented by a list of 3 denary values that represents the intensity of the colours, red, green and blue respectively, e.g., the color `#FFCO80` can be represented as the list `[255,192,128]`. We will call this representation of the pixel the `RGB representation`.\n",
    "\n",
    "##### Task 2\n",
    "A 16 by 13 pixels image is stored as hexadecimal form in the text file `TASK3_2.CSV`, where each line represents a row in the image.\n",
    "Write a program code with the following specification: \n",
    "- read the hexadecimal values from the file TASK3_2.CSV and store them in a suitable format\n",
    "- using the program code in Task 3.1,\n",
    "- convert the image from its hexadecimal pixels representation ito the RGB presentation,\n",
    "- write the new presentation into the file `MY_RGB_IMAGE.TXT`. \n",
    "Conversely, sometimes pixels are given in their RGB representation instead and for graphic designers, hexadecimal values are often preferred."
   ]
  },
  {
   "cell_type": "code",
   "execution_count": null,
   "metadata": {},
   "outputs": [],
   "source": [
    "# YOUR ANSWER HERE"
   ]
  },
  {
   "cell_type": "markdown",
   "metadata": {},
   "source": [
    "##### Task 3\n",
    "A 16 by 13 pixels image is stored its RGB representation in the text file `TASK3_3.CSV` in the `resources` folder, where each line represents a row in the image.\n",
    "Write an additional program code with the following specification: \n",
    "- read the rgb values from the file `TASK3_3.CSV` and store them in a suitable format,\n",
    "- write the new presentation into the file `MY_HEX_IMAGE.TXT`."
   ]
  },
  {
   "cell_type": "code",
   "execution_count": null,
   "metadata": {},
   "outputs": [],
   "source": [
    "# YOUR ANSWER HERE"
   ]
  },
  {
   "cell_type": "markdown",
   "metadata": {},
   "source": [
    "# D30.3 Data Verification\n",
    "\n",
    "**Data Verification** is a process in which different types of data are checked for accuracy and inconsistencies after data migration is done. \n",
    "\n",
    "Data Validation differs from **data verification**, which is the process of ensuring transferred data matches source data.  It typically involves automated or manual inspection (by human) and is performed after data is inputted to the system. \n",
    "\n",
    "Here are some examples of data verification techniques.\n",
    "\n",
    "## D30.3.1 During Data Entry\n",
    "- *Visual Check*. The simplest form of data verification. The copied data is compared with the original data by manually inspecting them via sight. \n",
    "- *Double Entry*. For double entry, the user keys in the data value, which is followed by the software blanking out the first entry and ask the user to key in a second time. The two entries are then checked if they match. An example of double entry verification takes place during a typical account registration process, whereby the inputs of email and password are typically asked twice to ensure accuracy.\n",
    "\n",
    "## D30.3.2 During Data Transfer\n",
    "The contents of original data and the copy made during transfer are checked byte-by-byte to check that they match exactly. "
   ]
  }
 ],
 "metadata": {
  "kernelspec": {
   "display_name": "Python 3",
   "language": "python",
   "name": "python3"
  },
  "language_info": {
   "codemirror_mode": {
    "name": "ipython",
    "version": 3
   },
   "file_extension": ".py",
   "mimetype": "text/x-python",
   "name": "python",
   "nbconvert_exporter": "python",
   "pygments_lexer": "ipython3",
   "version": "3.7.6"
  },
  "metadata": {
   "interpreter": {
    "hash": "dcacb0086e9a4f4eabd41c33bf4faac5ea0a3337ed3f5eff0680afa930572c04"
   }
  }
 },
 "nbformat": 4,
 "nbformat_minor": 2
}

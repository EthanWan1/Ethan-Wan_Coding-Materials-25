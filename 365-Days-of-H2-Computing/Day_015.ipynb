{
 "cells": [
  {
   "attachments": {},
   "cell_type": "markdown",
   "metadata": {},
   "source": [
    "# Learning Objectives\n",
    "\n",
    "- [ ]  2.2.1 Understand the different types: integer `int`, real `float`, char `chr`, string `str` and Boolean `Boolean` and initialise arrays `list`, `tuple` (1-dimensional and 2-dimensional). \n",
    "\n",
    "[![Open In Colab](https://colab.research.google.com/assets/colab-badge.svg)](https://colab.research.google.com/github/njc-cz2-2021/Materials/blob/main/365-Days-of-H2-Computing/Day_015.ipynb)"
   ]
  },
  {
   "cell_type": "markdown",
   "metadata": {},
   "source": [
    "## D15 Working with Tuple"
   ]
  },
  {
   "cell_type": "markdown",
   "metadata": {},
   "source": [
    "#### D15.1 Length of tuples `len()`\n",
    "To find the length of the tuple or the number of elements in a tuple, the function `len( )` is used. Syntax is \n",
    ">```python\n",
    ">len(tuples)\n",
    ">```"
   ]
  },
  {
   "cell_type": "markdown",
   "metadata": {},
   "source": [
    "#### D15.2 Maximum `max()`, minimum `min()` and sum `sum()` of all the values in the tuple\n",
    "\n",
    "If the tuple consists of all integer elements, the functions `min( )`, `max( )` and `sum()` gives the minimum item, maximum item and total sum value of the tuple. Syntax is \n",
    ">```python\n",
    ">max(your_tuple)\n",
    ">min(your_tuple)\n",
    ">sum(your_tuple)\n",
    ">```\n",
    "\n",
    "#### Exercise D15.1\n",
    "Print out min value, max value and sum of tuple with items 0-9.\n",
    "\n"
   ]
  },
  {
   "cell_type": "code",
   "execution_count": null,
   "metadata": {},
   "outputs": [],
   "source": [
    "# YOUR CODE HERE"
   ]
  },
  {
   "cell_type": "markdown",
   "metadata": {},
   "source": [
    "#### Exercise D15.2\n",
    "How do you create a tuple by reversing another tuple? "
   ]
  },
  {
   "cell_type": "code",
   "execution_count": null,
   "metadata": {},
   "outputs": [],
   "source": [
    "# YOUR CODE HERE"
   ]
  },
  {
   "cell_type": "markdown",
   "metadata": {},
   "source": [
    "If elements are string type, `max()` and `min()` is still applicable. `max()` would return a string element whose ASCII value is the highest and the lowest when `min()` is used. Note that only the first index of each element is considered each time and if they value is the same then second index considered so on and so forth."
   ]
  },
  {
   "cell_type": "markdown",
   "metadata": {},
   "source": [
    "#### Exercise D15.3\n",
    "What's the minimum and the maximum value of tuple `poly = ('np','sp','tp','rp','nyp')`?"
   ]
  },
  {
   "cell_type": "code",
   "execution_count": null,
   "metadata": {},
   "outputs": [],
   "source": [
    "# YOUR CODE HERE"
   ]
  },
  {
   "cell_type": "markdown",
   "metadata": {},
   "source": [
    "#### D15.3 Checking Values in the tuple with `any()` and `all()` function\n",
    "\n",
    "`any()` function returns `True` if any item in tuple (collection) is evaluated `True`.\n",
    "\n",
    "`all()` function returns `True` if all items in tuple (collection) is evaluated `True`.\n",
    "\n",
    "Python evaluates following values as `False`\n",
    "* `False`, `None`, numeric zero of all types\n",
    "* Empty strings and containers (including strings, tuples, lists, dictionaries, sets and frozensets)\n",
    "\n",
    "#### Exercise D15.4\n",
    "\n",
    "For each list of `[2, 4, 0, 9]`, `['', 'hello', 'world']`.\n",
    "* use `any()` to check if the list contains any non-zero item.\n",
    "* use `all()` to check if all items in the list are non-zero  . "
   ]
  },
  {
   "cell_type": "code",
   "execution_count": null,
   "metadata": {},
   "outputs": [],
   "source": [
    "# YOUR CODE HERE"
   ]
  },
  {
   "cell_type": "markdown",
   "metadata": {},
   "source": [
    "#### D15.4 Reversing the values in a tuple with `reversed()` function\n",
    "\n",
    "Unlike list, tuple is immutable. Thus `.reverse()` method is **NOT** applicable to tuple. \n",
    "\n",
    "The `reversed()` function returns a reversed object which can be converted to be a tuple or list. Syntax is\n",
    "\n",
    ">```python\n",
    ">reversed(my_tuple)\n",
    ">```\n",
    "\n",
    "E.g.,\n",
    "\n",
    "```python\n",
    "poly = ('np','sp','tp','rp','nyp')\n",
    "r = reversed(poly)\n",
    "print(type(r), tuple(r))\n",
    "```"
   ]
  },
  {
   "cell_type": "code",
   "execution_count": null,
   "metadata": {},
   "outputs": [],
   "source": [
    "# YOUR CODE HERE"
   ]
  },
  {
   "cell_type": "markdown",
   "metadata": {},
   "source": [
    "#### D15.5 Arranging the values in a tuple with `sorted()` function\n",
    "\n",
    "Similarly, `.sort()` method cannot be applied directly to tuple itself. \n",
    "\n",
    "`sorted()` function to arrange the elements in **ascending** order. Syntax is\n",
    "\n",
    ">```python\n",
    ">sorted(my_tuple)\n",
    ">```\n",
    "\n",
    "E.g.,\n",
    "\n",
    "```python\n",
    "poly = ('np','sp','tp','rp','nyp')\n",
    "s = sorted(poly)\n",
    "print(poly)\n",
    "print(s)\n",
    "```"
   ]
  },
  {
   "cell_type": "code",
   "execution_count": null,
   "metadata": {},
   "outputs": [],
   "source": [
    "# YOUR CODE HERE"
   ]
  },
  {
   "cell_type": "markdown",
   "metadata": {},
   "source": [
    "For **descending** order, specify the named argument `reverse = True`.\n",
    "\n",
    "By default the reverse condition will be `False` for `reverse`. Hence changing it to `True` would arrange the elements in descending order."
   ]
  },
  {
   "cell_type": "markdown",
   "metadata": {},
   "source": [
    "The `sort()` function has another named argument `key`, which allows us to specify a callable function. The sorting will be done based on returned value from this callable function. \n",
    "\n",
    "For example, `len()` function returns length of a string. \n",
    "\n",
    "To sort based on string length, `key = len` can be specified as shown."
   ]
  },
  {
   "cell_type": "code",
   "execution_count": null,
   "metadata": {},
   "outputs": [],
   "source": [
    "names = ('duck', 'chicken', 'goose')\n",
    "s1 = sorted(names, key=len)\n",
    "print(s1)\n",
    "# YOUR CODE HERE where s2 is in reverse order\n",
    "print(s2)"
   ]
  },
  {
   "cell_type": "markdown",
   "metadata": {},
   "source": [
    "Two tuples can also be join together simply using `+` operator."
   ]
  },
  {
   "cell_type": "markdown",
   "metadata": {},
   "source": [
    "Besides tuples, `str` objects are also immutable. New string will be created when a string is modified."
   ]
  },
  {
   "cell_type": "code",
   "execution_count": null,
   "metadata": {},
   "outputs": [],
   "source": [
    "(1,2,3)+(4,5)"
   ]
  },
  {
   "cell_type": "code",
   "execution_count": null,
   "metadata": {},
   "outputs": [],
   "source": [
    "s = \"hello world.\"\n",
    "t = s\n",
    "print(t == s, t is s)\n",
    "s = s + \"abc\"\n",
    "print(t == s, t is s)"
   ]
  },
  {
   "cell_type": "markdown",
   "metadata": {},
   "source": [
    "Similarly, tuple is immutable. Modification to tuple will return a new tuple object."
   ]
  },
  {
   "cell_type": "markdown",
   "metadata": {},
   "source": [
    "Similar to list, we can repeat a tuple multiple times with `*` operator."
   ]
  },
  {
   "cell_type": "code",
   "execution_count": null,
   "metadata": {},
   "outputs": [],
   "source": [
    "t1 = (1,2,3,4,5,6)\n",
    "t2 = t1 * 2\n",
    "print(t1, t2)"
   ]
  },
  {
   "cell_type": "markdown",
   "metadata": {},
   "source": [
    "### D15.6 Membership and Searching elements in a tuple\n",
    "\n",
    "You might need to check if a particular item is in a tuple.\n",
    "\n",
    "Instead of using `for` loop to iterate over the tuple and use the `if` condition, Python provides a simple `in` statement to check membership of an item. \n",
    "\n",
    ">```python\n",
    ">names = ('duck', 'chicken', 'goose')\n",
    ">found1 = 'duck' in names\n",
    ">found2 = 'dog' in names\n",
    ">print(found1, found2)\n",
    ">```"
   ]
  },
  {
   "cell_type": "markdown",
   "metadata": {},
   "source": [
    "`count()` is used to count the occurence of a particular item in a list."
   ]
  },
  {
   "cell_type": "code",
   "execution_count": null,
   "metadata": {},
   "outputs": [],
   "source": [
    "names = ('duck', 'chicken', 'goose') * 2\n",
    "print(names)\n",
    "names.count('duck')"
   ]
  },
  {
   "cell_type": "markdown",
   "metadata": {},
   "source": [
    "`index()` is used to find the index value of a particular item. \n",
    "* Note that if there are multiple items of the same value, the first index value of that item is returned.\n",
    "* You can add 2nd argument `x` to start searching from index `x` onwards."
   ]
  },
  {
   "cell_type": "code",
   "execution_count": null,
   "metadata": {},
   "outputs": [],
   "source": [
    "names2 = ('duck', 'chicken', 'goose') * 2\n",
    "idx = names2.index('goose')\n",
    "idx2 = names2.index('goose', 4)\n",
    "print('Gooses at index {} and {}'.format(idx, idx2))"
   ]
  },
  {
   "cell_type": "markdown",
   "metadata": {},
   "source": [
    "### D15.7 Membership and Searching elements in a tuple\n",
    "\n",
    "To iterate through a tuple (collection), you can use `for` loop."
   ]
  },
  {
   "cell_type": "code",
   "execution_count": null,
   "metadata": {},
   "outputs": [],
   "source": [
    "names = ('duck', 'chicken', 'goose')\n",
    "for name in names:\n",
    "    print(name)"
   ]
  },
  {
   "cell_type": "markdown",
   "metadata": {},
   "source": [
    "\n",
    "If you need the index value, you can use `enumerate()` function."
   ]
  },
  {
   "cell_type": "code",
   "execution_count": null,
   "metadata": {},
   "outputs": [],
   "source": [
    "for idx, name in enumerate(names):\n",
    "    print(idx, name)"
   ]
  },
  {
   "cell_type": "markdown",
   "metadata": {},
   "source": [
    "### D15.8 Function with Multiple Returning Values\n",
    "\n",
    "In most programming languages, function/method can only return a single value. It is the same practice in Python.\n",
    "\n",
    "But in Python, you can return a tuple which can easily pack multiple values together.\n",
    "\n",
    "#### Exercise D15.5\n",
    "\n",
    "Define a function `minmax()` which fulfils following conditions. Test the function with list `[1,2,3,4,5]`.\n",
    "\n",
    "- accept a list as input\n",
    "- return both min and max values of the list"
   ]
  },
  {
   "cell_type": "markdown",
   "metadata": {},
   "source": [
    "Tuple can be easily unpacked into multiple values.\n",
    "\n",
    "During unpacking, number of variable needs to match number of items in tuple"
   ]
  },
  {
   "cell_type": "code",
   "execution_count": null,
   "metadata": {},
   "outputs": [],
   "source": [
    "x, y, z = 1, 2, 3\n",
    "print(x, y, z)"
   ]
  },
  {
   "cell_type": "markdown",
   "metadata": {},
   "source": [
    "It is common to use underscore `_` for items to be ignored."
   ]
  },
  {
   "cell_type": "code",
   "execution_count": null,
   "metadata": {},
   "outputs": [],
   "source": [
    "times = '9am to 5pm to 6pm to 8pm'.split('to')\n",
    "print(times)\n",
    "start, _, end, _ = tuple(times)\n",
    "print(start, end)"
   ]
  },
  {
   "cell_type": "markdown",
   "metadata": {},
   "source": [
    "#### Exercise D15.6\n",
    "\n",
    "How to swap two values `x` and `y` in a single statement?"
   ]
  },
  {
   "cell_type": "code",
   "execution_count": null,
   "metadata": {},
   "outputs": [],
   "source": [
    "x = 10\n",
    "y = 20\n",
    "# YOUR CODE HERE"
   ]
  },
  {
   "cell_type": "markdown",
   "metadata": {},
   "source": [
    "You can use `*` to hold any number of unpacked values.\n",
    "\n",
    "For example, from a tuple, you would like to get its last item, and put all other items in a list."
   ]
  },
  {
   "cell_type": "code",
   "execution_count": null,
   "metadata": {},
   "outputs": [],
   "source": [
    "t = (1,2,3,4,5)\n",
    "#a,b =t\n",
    "*a, b = t\n",
    "print(a, b)"
   ]
  },
  {
   "cell_type": "markdown",
   "metadata": {},
   "source": [
    "#### Exercise D15.7\n",
    "\n",
    "How to extract only first and last items from a tuple `(1, 2, 3, 4, 5)`."
   ]
  },
  {
   "cell_type": "code",
   "execution_count": null,
   "metadata": {},
   "outputs": [],
   "source": [
    "t = (1,2,3,4,5)\n",
    "# YOUR CODE HERE"
   ]
  },
  {
   "cell_type": "markdown",
   "metadata": {},
   "source": [
    "## Recap\n",
    "\n",
    "### Difference between Tuple and List\n",
    "\n",
    "A tuple is **immutable** whereas a list is **mutable**.\n",
    "\n",
    "* You can't add elements to a tuple. Tuples have no append or extend method.\n",
    "* You can't remove elements from a tuple. Tuples have no remove or pop method.\n",
    "\n",
    "### When to use Tuple?\n",
    "\n",
    "* Tuples are used in function to return multiple values together.\n",
    "* Tuples are lighter-weight and are more memory efficient and often faster if used in appropriate places.\n",
    "* When using a tuple you protect against accidental modification when passing it between functions.\n",
    "* Tuples, being immutable, can be used as a key in a dictionary, which we’re about to learn about."
   ]
  }
 ],
 "metadata": {
  "kernelspec": {
   "display_name": "base",
   "language": "python",
   "name": "python3"
  },
  "language_info": {
   "codemirror_mode": {
    "name": "ipython",
    "version": 3
   },
   "file_extension": ".py",
   "mimetype": "text/x-python",
   "name": "python",
   "nbconvert_exporter": "python",
   "pygments_lexer": "ipython3",
   "version": "3.10.2"
  },
  "vscode": {
   "interpreter": {
    "hash": "d4abd50234137fb60a8e52bcd12c63c8cbc1f26b32bc51c54dab6a2ee6deb43f"
   }
  }
 },
 "nbformat": 4,
 "nbformat_minor": 1
}

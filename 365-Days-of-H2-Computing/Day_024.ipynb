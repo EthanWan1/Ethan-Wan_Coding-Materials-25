{
 "cells": [
  {
   "attachments": {},
   "cell_type": "markdown",
   "metadata": {},
   "source": [
    "# Learning Objectives\n",
    "\n",
    "- [ ]  2.2.4 Use functions and procedures to modularise problem into chunks of code.\n",
    "- [ ]  2.2.5 Understand the concept of recursion. \n",
    "- [ ]  2.2.6 Trace the steps and list the results of recursive and non-recursive programs. \n",
    "- [ ]  2.2.7 Understand the use of stacks in recursive programming. \n",
    "\n",
    "[![Open In Colab](https://colab.research.google.com/assets/colab-badge.svg)](https://colab.research.google.com/github/njc-cz2-2021/Materials/blob/main/365-Days-of-H2-Computing/Day_024.ipynb)"
   ]
  },
  {
   "cell_type": "markdown",
   "metadata": {},
   "source": [
    "## Exercise D24.1\n",
    "\n",
    "Write two functions, one iterative and another recursive, where each of the function takes in a positive integer, $n$, and returns `True` if $n$ is a prime number and `False` if it's not.\n",
    "\n",
    "**Example Interaction**\n",
    ">``` python\n",
    ">your_function(7)\n",
    ">True\n",
    ">your_function(9)\n",
    ">False\n",
    ">```"
   ]
  },
  {
   "cell_type": "code",
   "execution_count": null,
   "metadata": {},
   "outputs": [],
   "source": [
    "#YOUR CODE HERE"
   ]
  },
  {
   "cell_type": "markdown",
   "metadata": {},
   "source": [
    "## Exercise D24.2\n",
    "Write two functions, one iterative and another recursive, where each of the function takes in a positive integer $n$, and prints outs the digits in English word form. For example, when given as input: `3214`, the function should print: `three two one four` in one line.\n",
    "\n",
    "**Example Interaction**\n",
    ">``` python\n",
    ">your_function(3214)\n",
    ">three two one four\n",
    ">```"
   ]
  },
  {
   "cell_type": "code",
   "execution_count": null,
   "metadata": {},
   "outputs": [],
   "source": [
    "#YOUR CODE HERE"
   ]
  },
  {
   "cell_type": "markdown",
   "metadata": {},
   "source": [
    "## Exercise D24.3 Greatest Common Divisor\n",
    "\n",
    "Let $a$ be an integer. A **divisor** of $a$, also called a **factor** of $a$ is an integer $r$ such that there exists an integer $m$ such that $mr=a$. For example, if $a=20$, then $2$ and $5$ are both divisors of $a$ as $2\\times 10=20$ and $5 \\times 4=20$.\n",
    "\n",
    "Write a function that takes in a positive integer $n$, and return a list of all positive integers that is the divisor of $n$.\n",
    "\n",
    "**Example Interaction**\n",
    ">``` python\n",
    ">your_function(20)\n",
    ">[1, 2, 4, 5, 10, 20]\n",
    ">```\n",
    "\n",
    "Let $a$ and $b$ be positive integers. A **common divisor** of $a$ and $b$ is a positive integer $r$ such that there exists positive integers $m_1,m_2$ such that $a=m_1*r$ and $b=m_2*r$. The highest of such integer is called the **greatest of common divisor of $a$ and $b$**, denoted as $\\gcd(a,b)$.\n",
    "\n",
    "Using the function you have defined previously, Write a function `gcd` that takes in 2 positive integer $a$ and $b$, and return the greatest common divisor of $a$ and $b$. \n",
    "\n",
    "**Example Interaction**\n",
    ">``` python\n",
    ">gcd(4,10)\n",
    ">2\n",
    ">```"
   ]
  },
  {
   "cell_type": "code",
   "execution_count": null,
   "metadata": {},
   "outputs": [],
   "source": [
    "#YOUR CODE HERE"
   ]
  },
  {
   "cell_type": "markdown",
   "metadata": {},
   "source": [
    "## Exercise 24.4 Euclidean Algorithm\n",
    "\n",
    "A more efficient method to compute the greatest common divisor of two integers $a$ and $b$ is by using the Euclidean algorithm. It is based on the principle that the greatest common divisor of two numbers does not change if the larger number is replaced by its difference with the smaller number. For example,\n",
    "\n",
    "$$\n",
    "\\begin{align*}\n",
    "\\gcd(252,105)&=21\\\\ \n",
    "&=\\gcd(252-2(105)=42,105)\\\\\n",
    "&=\\gcd(42,105-2(42)=21)\\\\\n",
    "&=\\gcd(42,21)\n",
    "\\end{align*}\n",
    "$$\n",
    "\n",
    "In particular, assume $a>b$, then by Division Algorithm, there exists $q\\in \\mathbb{Z}$ such that $a=qb+r$, where $0\\leq r<b$. Then, \n",
    "$$\n",
    "\\begin{align*}\n",
    "\\gcd(a,b)&=\\gcd(a-qb,b)\\\\\n",
    "&=\\gcd(r,b).\n",
    "\\end{align*}\n",
    "$$\n",
    "\n",
    "Write two functions, one iterative and another recursive, where each of the function takes in 2 positive integer $a$ and $b$, and return the greatest common divisor of $a$ and $b$.\n",
    "\n",
    "**Example Interaction**\n",
    ">``` python\n",
    ">your_function(4,10)\n",
    ">2\n",
    ">```"
   ]
  },
  {
   "cell_type": "code",
   "execution_count": null,
   "metadata": {},
   "outputs": [],
   "source": [
    "#YOUR CODE HERE"
   ]
  },
  {
   "cell_type": "markdown",
   "metadata": {},
   "source": [
    "## Exercise 24.5\n",
    "Write a function that takes in a list of positive integers, $N$, and returns the greatest common divisor (i.e., the highest common factor) of all integers in $N$."
   ]
  },
  {
   "cell_type": "code",
   "execution_count": null,
   "metadata": {},
   "outputs": [],
   "source": [
    "#YOUR CODE HERE"
   ]
  }
 ],
 "metadata": {
  "kernelspec": {
   "display_name": "Python 3",
   "language": "python",
   "name": "python3"
  },
  "language_info": {
   "codemirror_mode": {
    "name": "ipython",
    "version": 3
   },
   "file_extension": ".py",
   "mimetype": "text/x-python",
   "name": "python",
   "nbconvert_exporter": "python",
   "pygments_lexer": "ipython3",
   "version": "3.10.2"
  },
  "orig_nbformat": 2,
  "vscode": {
   "interpreter": {
    "hash": "a42ccb73e7d9bfdf27e036f1d2b8b681e55fc0743cc5586bc2474d4a60f4b886"
   }
  }
 },
 "nbformat": 4,
 "nbformat_minor": 2
}

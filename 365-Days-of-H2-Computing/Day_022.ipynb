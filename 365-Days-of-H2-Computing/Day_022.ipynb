{
 "cells": [
  {
   "attachments": {},
   "cell_type": "markdown",
   "metadata": {},
   "source": [
    "# Learning Objectives\n",
    "\n",
    "- [ ]  2.2.4 Use functions and procedures to modularise problem into chunks of code.\n",
    "- [ ]  2.2.5 Understand the concept of recursion. \n",
    "- [ ]  2.2.6 Trace the steps and list the results of recursive and non-recursive programs. \n",
    "- [ ]  2.2.7 Understand the use of stacks in recursive programming. \n",
    "\n",
    "[![Open In Colab](https://colab.research.google.com/assets/colab-badge.svg)](https://colab.research.google.com/github/njc-cz2-2021/Materials/blob/main/365-Days-of-H2-Computing/Day_022.ipynb)"
   ]
  },
  {
   "cell_type": "markdown",
   "metadata": {},
   "source": [
    "## Exercise D22.1\n",
    "\n",
    "There are 5 usernames with their respective password. \n",
    "* user1: password1\n",
    "* user2: password2\n",
    "* user3: password3\n",
    "\n",
    "Implement a script such that:\n",
    "\n",
    "1. Use a suitable data structure to store usernames and passwords,\n",
    "2. User enters username and password\n",
    "3. Check user username and password\n",
    "    * If username does not exists, print \"User not found\"\n",
    "    * if username exists, but password doesn't match, print \"Wrong password\"\n",
    "    * If both username and password match, print \"You are in\"\n",
    "\n",
    "\n",
    "**Example Interaction**\n",
    ">```text\n",
    ">Enter username: user10\n",
    ">Enter password: pass10\n",
    ">User not found\n",
    ">\n",
    ">Enter username: user1\n",
    ">Enter password: pass1\n",
    ">Wrong password\n",
    ">\n",
    ">Enter username: user1\n",
    ">Enter password: password1\n",
    ">You are in\n",
    ">```"
   ]
  },
  {
   "cell_type": "code",
   "execution_count": null,
   "metadata": {},
   "outputs": [],
   "source": [
    "#YOUR CODE HERE"
   ]
  },
  {
   "cell_type": "markdown",
   "metadata": {},
   "source": [
    "## Exercise D22.2\n",
    "The winning number of Toto this week is `7, 20, 29, 41, 47, 49`. Implement a script to help user check result. \n",
    "* Define a function `match_count(win_nums, your_nums)` which returns the number of matched numbers. It takes in 2 lists as parameters, `win_nums` and `your_num`. The `winning_nums` contains winnning numbers, and `your_nums` contains number enters by user.\n",
    "* Ask user to input a list of numbers separated by space ` `.\n",
    "\n",
    "You probably need to use the `str.split()` method for this question. Use `help(str.split)` or search online. \n",
    "\n",
    "**Example Interaction**\n",
    ">``` text\n",
    ">Enter your Toto numbers separated by space: \n",
    ">1 7 20 29 41 47 49 50\n",
    ">Count of matched numbers:  6\n",
    ">```"
   ]
  },
  {
   "cell_type": "code",
   "execution_count": null,
   "metadata": {},
   "outputs": [],
   "source": [
    "#YOUR CODE HERE"
   ]
  },
  {
   "attachments": {},
   "cell_type": "markdown",
   "metadata": {},
   "source": [
    "## Exercise D22.3 Cartesian Equation of a Plane in 3D Space\n",
    "\n",
    "The geometric interpretation of $\\left(\\begin{array}{c}\n",
    "a_{1}\\\\\n",
    "a_{2}\\\\\n",
    "a_{3}\n",
    "\\end{array}\\right)\\times\\left(\\begin{array}{c}\n",
    "b_{1}\\\\\n",
    "b_{2}\\\\\n",
    "b_{3}\n",
    "\\end{array}\\right)$, the cross product of vectors $\\left(\\begin{array}{c}\n",
    "a_{1}\\\\\n",
    "a_{2}\\\\\n",
    "a_{3}\n",
    "\\end{array}\\right)$ and $\\left(\\begin{array}{c}\n",
    "b_{1}\\\\\n",
    "b_{2}\\\\\n",
    "b_{3}\n",
    "\\end{array}\\right)$, is a vector that is perpendicular to both the vectors $\\left(\\begin{array}{c}\n",
    "a_{1}\\\\\n",
    "a_{2}\\\\\n",
    "a_{3}\n",
    "\\end{array}\\right)$ and $\\left(\\begin{array}{c}\n",
    "b_{1}\\\\\n",
    "b_{2}\\\\\n",
    "b_{3}\n",
    "\\end{array}\\right)$. \n",
    "\n",
    "A plane in 3D space can be characterised by any vector $\\mathbf{n}$ that is perpendicular to the plane, termed a **normal vector**. \n",
    "\n",
    "If the point $P$ is an **arbitrary** point with coordinates $(x,y,z)$ on the plane and $A$ with coordinates $(a_1,a_2,a_3)$ is a **known** point on the plane,then the vector $\\overrightarrow{AP}$ must be perpendicular to a normal vector $\\mathbf{n}$ to the plane . Consequently, \n",
    "\n",
    "$$\\begin{align*}\n",
    "\\overrightarrow{AP}\\cdot\\mathbf{n}\t&=&0\\\\\n",
    "\\left(\\overrightarrow{OP}-\\overrightarrow{OA}\\right)\\cdot\\mathbf{n}\t&=&0\\\\\n",
    "\\overrightarrow{OP}\\cdot\\mathbf{n}-\\overrightarrow{OA}\\cdot\\mathbf{n}\t&=&0\\\\\n",
    "\\overrightarrow{OP}\\cdot\\mathbf{n}\t&=&\\overrightarrow{OA}\\cdot\\mathbf{n}\\\\\n",
    "\\end{align*}$$\n",
    "\n",
    "where $\\overrightarrow{OP}=\\left(\\begin{array}{c}\n",
    "x\\\\\n",
    "y\\\\\n",
    "z\n",
    "\\end{array}\\right)$ and $\\overrightarrow{OA}=\\left(\\begin{array}{c}\n",
    "a_{1}\\\\\n",
    "a_{2}\\\\\n",
    "a_{3}\n",
    "\\end{array}\\right)$ are position vectors of the points $P$ and $A$ respectively. If $\\mathbf{n}=\\left(\\begin{array}{c}\n",
    "n_{1}\\\\\n",
    "n_{2}\\\\\n",
    "n_{3}\n",
    "\\end{array}\\right)$, the above equation reduces to $$n_1 x+n_2 y+n_3 z=\\overrightarrow{OA}\\cdot\\mathbf{n}.$$\n",
    "\n",
    "Write a function named `plane_equation` that:\n",
    "- takes in 3 tuples `(x1, y1, z1)`, `(x2, y2, z2)`, `(x3, y3, z3)` as parameters. These tuples represent **points** on the plane.\n",
    "- return the cartesian equation of the plane that contains the 3 points.\n",
    "\n",
    "Example interaction: \n",
    "\n",
    ">```python\n",
    ">c = (0, 1, 1)\n",
    ">d = (-2, 1, 3)\n",
    ">e = (2, 0, 1)\n",
    ">plane_equation(c, d, e)\n",
    ">The plane that passes the 3 supplied points has the cartesian form : 2x + 4y + 2z = 6.\n",
    ">```"
   ]
  },
  {
   "cell_type": "code",
   "execution_count": null,
   "metadata": {},
   "outputs": [],
   "source": [
    "#YOUR CODE HERE"
   ]
  },
  {
   "cell_type": "markdown",
   "metadata": {},
   "source": [
    "## Exercise D22.4 Gradient of Secant Lines.\n",
    "\n",
    "A mathematical function $f(x)$ has a **rule** associated with it that tells how to map the element $x$, e.g., for the function $f(x)=x^2$, $x^2$ is the rule, for $g(x)=e^x+\\sin(x)$, $e^x+\\sin(x)$ is the rule. \n",
    "\n",
    "In mathematics, we can represent a mathematical function $f(x)$ as a curve using cartesian coordinates system. The points on the curve are of the form $\\left( a, f(a)\\right)$.\n",
    "\n",
    "A **gradient of a straight line** passing through 2 distinct points $\\left(x_1,y_1\\right)$ and $\\left(x_2,y_2\\right)$ where $y_1 \\neq y_2$ is defined as the ratio of the difference of $y$-coordinates to the $x$-coordinates of the two points, i.e., $$\\frac{y_2-y_1}{x_2-x_1}$$\n",
    "\n",
    "A **secant line of a curve** is a straight line that passes through 2 distinct points $\\left(a,f(a)\\right)$ and $\\left(b,f(b)\\right)$ on the curve $y=f\\left(x\\right)$.\n",
    "\n",
    "Write a program that:\n",
    "- implements a function `gradient` that:\n",
    "    - accept 2 parameters, tuple `(x1, y1)` and `(x2, y2)`, that each represents the points $(x_1, y_1)$ and $(x_2, y_2)$,\n",
    "    - return the gradient of the straight line passing through the points $(x_1, y_1)$ and $(x_2, y_2)$.\n",
    "- implements a function `gradient_secant` that:\n",
    "    - accept 2 parameters, a float `x_point1` and a positive float `x_difference`.\n",
    "    - return the value of the gradient of the secant line that passes through the points on the curve $y=x^2+5x$ with $x$-values being `x_point` and `x_point + x_difference`\n",
    "- print out the value of gradient of the secant lines of the curve $y=x^2+5x$ at $x=-5,-2,0,1,3$ with `x_difference` being $1,0.1,0.01,0.001,0.0001$ respectively. (So for each values of $x$ there's 5 of such secant lines)\n",
    "\n",
    "Example interaction: \n",
    ">```python\n",
    ">gradient((5, 1), (2, 5))\n",
    ">-1.3333333333333\n",
    ">gradient_secant(5, 0.01)\n",
    ">15.01\n",
    ">```\n",
    "\n",
    "What do you observe about the values of the gradients of the secant lines in relation to the value of `x_difference`?"
   ]
  },
  {
   "cell_type": "code",
   "execution_count": null,
   "metadata": {},
   "outputs": [],
   "source": [
    "#YOUR CODE HERE"
   ]
  }
 ],
 "metadata": {
  "kernelspec": {
   "display_name": "Python 3",
   "language": "python",
   "name": "python3"
  },
  "language_info": {
   "codemirror_mode": {
    "name": "ipython",
    "version": 3
   },
   "file_extension": ".py",
   "mimetype": "text/x-python",
   "name": "python",
   "nbconvert_exporter": "python",
   "pygments_lexer": "ipython3",
   "version": "3.10.2"
  },
  "orig_nbformat": 2,
  "vscode": {
   "interpreter": {
    "hash": "a42ccb73e7d9bfdf27e036f1d2b8b681e55fc0743cc5586bc2474d4a60f4b886"
   }
  }
 },
 "nbformat": 4,
 "nbformat_minor": 2
}

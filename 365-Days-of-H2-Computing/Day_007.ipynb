{
 "cells": [
  {
   "cell_type": "markdown",
   "metadata": {},
   "source": [
    "# Learning Objectives\n",
    "\n",
    "- [ ]  2.2.3 Apply the fundamental programming constructs to control the flow of program execution:\n",
    "     * Sequence\n",
    "     * Selection\n",
    "     * Iteration \n",
    "\n",
    "[![Open In Colab](https://colab.research.google.com/assets/colab-badge.svg)](https://colab.research.google.com/github/njc-cz2-2021/Materials/blob/main/365-Days-of-H2-Computing/Day_007.ipynb)\n",
    "\n",
    "# References\n",
    "\n",
    "1. https://realpython.com/python-while-loop/#the-python-break-and-continue-statements"
   ]
  },
  {
   "cell_type": "markdown",
   "metadata": {},
   "source": [
    "#### Exercise D7.1\n",
    "\n",
    "In mathematics, an **arithmetic sequence** is a sequence of real numbers \n",
    "$$u_1,u_2,\\cdots, u_n$$\n",
    "such that the difference between two consecutive terms is constant, i.e. $u_{n+1}-u_n=d$ for some constant $d\\in \\mathbb{R}$, called the **common difference** and $n\\geq 1$.\n",
    "\n",
    "For example, the sequence $2,5,8,11,14,\\dots$ is an arithmetic sequence with first term $2$ and common difference $3$.\n",
    "\n",
    "Write a program to generate the first $n$ terms of an arithmetic sequence with a user defined first term $a$ and common difference $d$.\n",
    "\n",
    "The problem: \n",
    "- Request a numeric input from the user to be used as the first term.  Let us denote this input as `first_term`.\n",
    "- Request a numeric input from the user to be used as the common difference.  Let us denote this input as `common_difference`.\n",
    "- Request an integer input from the user for the number of terms.  Let us denote this input as `number_of_terms`.\n",
    "- Print out the sequence up to the $n$th term.\n",
    "\n",
    "Example interaction: \n",
    "\n",
    ">```text\n",
    ">Please input the first term in the arithmetic sequence:\n",
    ">2\n",
    ">Please input the common difference:\n",
    ">3\n",
    ">Please input the number of terms:\n",
    ">5\n",
    ">The first 5 terms of the arithmetic sequence are:\n",
    ">2\n",
    ">5\n",
    ">8\n",
    ">11\n",
    ">14\n",
    ">```"
   ]
  },
  {
   "cell_type": "code",
   "execution_count": null,
   "metadata": {
    "vscode": {
     "languageId": "plaintext"
    }
   },
   "outputs": [],
   "source": [
    "# YOUR ANSWER HERE"
   ]
  },
  {
   "cell_type": "markdown",
   "metadata": {},
   "source": [
    "#### Exercise D7.2\n",
    "\n",
    "Given an arithmetic sequence with first term $a$ and common difference $d$.\n",
    "\n",
    "Write a program that:\n",
    "- Request a numeric input from the user to be used as the first term.  Let us denote this input as `first_term`.\n",
    "- Request a numeric input from the user to be used as the common difference.  Let us denote this input as `common_difference`.\n",
    "- Request an integer input from the user for the index for the term in the sequence.  Let us denote this input as `n`.\n",
    "- Print out the $n$ th term in the sequence.\n",
    "- Print out the sum of the first $n$ terms in the sequence.\n",
    "\n",
    "Example interaction: \n",
    "\n",
    ">```text\n",
    ">Please input the first term in the arithmetic sequence:\n",
    ">2\n",
    ">Please input the common difference:\n",
    ">3\n",
    ">Please input the index :\n",
    ">5\n",
    ">The 5th term in the sequence is:\n",
    ">14\n",
    ">The sum of the first 5 terms in the sequence is:\n",
    ">40\n",
    ">```"
   ]
  },
  {
   "cell_type": "code",
   "execution_count": null,
   "metadata": {
    "vscode": {
     "languageId": "plaintext"
    }
   },
   "outputs": [],
   "source": [
    "# YOUR ANSWER HERE"
   ]
  },
  {
   "cell_type": "markdown",
   "metadata": {},
   "source": [
    "#### Exercise D7.3\n",
    "\n",
    "An arithmetic sequence $u_1, u_2, u_3, \\cdots$ is defined by $u_r=3r-1$ for $r\\in \\mathbb{Z}^{+}$. Find the least value of $n$ such that $u_3+u_6+u_9+\\cdots+u_n$ exceeds $1700$, where $n$ is a multiple of 3. "
   ]
  },
  {
   "cell_type": "code",
   "execution_count": null,
   "metadata": {
    "vscode": {
     "languageId": "plaintext"
    }
   },
   "outputs": [],
   "source": [
    "# YOUR ANSWER HERE"
   ]
  },
  {
   "cell_type": "markdown",
   "metadata": {},
   "source": [
    "#### Exercise D7.4\n",
    "\n",
    "On 1 January 2001 Mrs $A$ put \\$100 into a bank account, and on the first day of each subsequent month she put in \\$10 more than in the previous month. Thus on 1 February she put \\$110 into the account and on 1 March she put \\$120 into the account, and so on. The account pays no interest.\n",
    "\n",
    "On what date did the value of Mrs $A$'s account first become greater than $5000?"
   ]
  },
  {
   "cell_type": "code",
   "execution_count": null,
   "metadata": {
    "vscode": {
     "languageId": "plaintext"
    }
   },
   "outputs": [],
   "source": [
    "# YOUR ANSWER HERE"
   ]
  }
 ],
 "metadata": {
  "language_info": {
   "name": "python"
  }
 },
 "nbformat": 4,
 "nbformat_minor": 2
}

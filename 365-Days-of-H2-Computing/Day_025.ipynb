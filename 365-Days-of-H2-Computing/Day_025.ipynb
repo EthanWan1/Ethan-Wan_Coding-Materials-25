{
 "cells": [
  {
   "cell_type": "markdown",
   "metadata": {},
   "source": [
    "# Learning Objectives\n",
    "\n",
    "- [ ]  2.2.4 Use functions and procedures to modularise problem into chunks of code.\n",
    "- [ ]  2.2.5 Understand the concept of recursion. \n",
    "- [ ]  2.2.6 Trace the steps and list the results of recursive and non-recursive programs. \n",
    "- [ ]  2.2.7 Understand the use of stacks in recursive programming. \n",
    "\n",
    "[![Open In Colab](https://colab.research.google.com/assets/colab-badge.svg)](https://colab.research.google.com/github/njc-cz2-2021/Materials/blob/main/365-Days-of-H2-Computing/Day_025.ipynb)"
   ]
  },
  {
   "cell_type": "markdown",
   "metadata": {},
   "source": [
    "# D25.1 How Function Calls Work\n",
    "\n",
    "When a program starts, a portion of the computer RAM is set aside to store variables and to keep track of the function calls in the program. This portion of the RAM is called **run time stack** or just **stack** for short.\n",
    "\n",
    "The run time stack includes two kinds of things:\n",
    "\n",
    "1. **call frames** (also **activation records**), an area of memory that is set aside to keep track of a function call in progress. Each function call creates a call frame and when the function returns, the call frame is removed from the memory. Each call frame contains the name of the function that was called, and \"where to pick up from\" when the function call returns.\n",
    "2. storage for local variables.\n",
    "\n",
    "As functions are called, more call frames are put on the stack. The call frame on top of the stack is always the currently running function. When that function returns, it's call frame is popped off the stack. \n",
    "\n",
    "A stack follows the LIFO (Last In First Out) principle, i.e., the function called last is the first element to come out.\n",
    "\n",
    "<center>\n",
    "<img src=\"https://i.imgur.com/QnzHmTb.png\"><br>\n",
    "(A stack in Magic: The Gathering)\n",
    "</center>\n",
    "\n",
    "Reference : \n",
    "- https://sites.cs.ucsb.edu/~pconrad/cs8/topics.beta/theStack/02/\n",
    "- https://forum.rpg.net/index.php?threads/using-mtgs-stack-as-a-game-rule.793647/\n",
    "- https://www.youtube.com/watch?v=TuMWC26z6Vs"
   ]
  },
  {
   "cell_type": "markdown",
   "metadata": {},
   "source": [
    "# D25.2 Visualizing Recursion via Frames\n",
    "\n",
    "<center>\n",
    "<img src=\".\\img\\frames-recursion.png\"><br>\n",
    "</center>"
   ]
  },
  {
   "cell_type": "markdown",
   "metadata": {},
   "source": [
    "# D25.3 Visualizing Recursion via Trace Tree\n",
    "\n",
    "<center>\n",
    "<img src=\".\\img\\trace-tree-recursion.png\"><br>\n",
    "</center>"
   ]
  },
  {
   "cell_type": "code",
   "execution_count": null,
   "metadata": {},
   "outputs": [],
   "source": [
    "# Author: Bishal Sarang\n",
    "# Import Visualiser class from module visualiser\n",
    "from visualiser.visualiser import Visualiser as vs\n",
    "\n",
    "# Add decorator\n",
    "# Decorator accepts optional arguments: ignore_args , show_argument_name, show_return_value and node_properties_kwargs\n",
    "@vs(node_properties_kwargs={\"shape\":\"record\", \"color\":\"#f57542\", \"style\":\"filled\", \"fillcolor\":\"grey\"})\n",
    "def fib(n):\n",
    "    if n <= 1:\n",
    "        return n\n",
    "    return fib(n-1) + fib(n-2)\n",
    "\n",
    "def main():\n",
    "    # Call function\n",
    "    print(fib(n=4))\n",
    "    # Save recursion tree to a file\n",
    "    vs.make_animation(\"fibonacci_4.gif\", delay=2)\n",
    "\n",
    "if __name__ == \"__main__\":\n",
    "    main()"
   ]
  },
  {
   "cell_type": "markdown",
   "metadata": {},
   "source": [
    "Recursion is very powerful, and often results in a very elegant solution to a problem. However, as explained previously, each time a routine is called, it invokes a new stack. Thus, because of the stack overheads, recursive algorithms may not be as efficient as iterative solutions. In contrast, an iterative solution typically only utilises a single stack. Additionally, if many recursive calls are made, stack space could run out. This is known as a stack overflow.\n",
    "\n"
   ]
  },
  {
   "cell_type": "markdown",
   "metadata": {},
   "source": [
    "# D25.4 Recursion Summary\n",
    "\n",
    "Advantages:\n",
    "* Recursive functions make the code look clean and elegant.\n",
    "* A complex task can be broken down into simpler sub-problems using recursion.\n",
    "* Sequence generation is easier with recursion than using some nested iteration.\n",
    "\n",
    "Disadvantage\n",
    "* Sometimes the logic behind recursion is hard to follow through.\n",
    "* Recursive functions are hard to debug.\n",
    "* Recursive calls are expensive (inefficient) as they take up a lot of memory and time.\n",
    "\n",
    "How recursion works\n",
    "1. Each time a recursive function is called, a new stack frame, containing function's local variables, parameters, and the return address (the point to return to after the function finishes execution), is created. \n",
    "2. The newly created stack frame is pushed onto the call stack. This means that the execution context of the current function call is saved at the top of the stack. The stack grows with each recursive call.\n",
    "3. The execution of the current function is suspended. The new function call is executed with its own stack frame at the top of the stack.\n",
    "4. When a base case is reached or the function completes its task, the function returns a value. The current stack frame is then popped from the stack, and the execution resumes from the return address saved in the stack frame of the previous function call. This process continues until all recursive calls are resolved and the stack is empty again.\n",
    "\n",
    "Recursion in Python\n",
    "* Python stops the function calls after a depth of 1000 calls, and throws a `RecursionError: maximum recursion depth exeeded..` error.\n",
    "* You can increase recursion depth using `sys.setrecursionlimit(limit)` function.\n",
    "\n",
    ">```python\n",
    ">import sys\n",
    ">\n",
    ">sys.setrecursionlimit(1050)\n",
    ">fib(1050)\n",
    ">```"
   ]
  },
  {
   "cell_type": "markdown",
   "metadata": {},
   "source": []
  }
 ],
 "metadata": {
  "kernelspec": {
   "display_name": "Python 3.9.1 64-bit",
   "metadata": {
    "interpreter": {
     "hash": "dcacb0086e9a4f4eabd41c33bf4faac5ea0a3337ed3f5eff0680afa930572c04"
    }
   },
   "name": "python3"
  },
  "language_info": {
   "codemirror_mode": {
    "name": "ipython",
    "version": 3
   },
   "file_extension": ".py",
   "mimetype": "text/x-python",
   "name": "python",
   "nbconvert_exporter": "python",
   "pygments_lexer": "ipython3",
   "version": "3.9.1-final"
  },
  "orig_nbformat": 2
 },
 "nbformat": 4,
 "nbformat_minor": 2
}

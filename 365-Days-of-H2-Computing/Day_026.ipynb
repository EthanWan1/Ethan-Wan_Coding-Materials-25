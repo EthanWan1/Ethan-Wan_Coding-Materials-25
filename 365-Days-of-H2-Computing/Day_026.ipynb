{
 "cells": [
  {
   "cell_type": "markdown",
   "metadata": {},
   "source": [
    "# Learning Objectives\n",
    "\n",
    "- [ ]  2.2.2 Use common library functions for input/output, strings and mathematical operations.\n",
    "\n",
    "[![Open In Colab](https://colab.research.google.com/assets/colab-badge.svg)](https://colab.research.google.com/github/njc-cz2-2021/Materials/blob/main/365-Days-of-H2-Computing/Day_026.ipynb)"
   ]
  },
  {
   "cell_type": "markdown",
   "metadata": {},
   "source": [
    "# D26 File IO\n",
    "\n",
    "File is a named location on disk to store related information. It uses non-volatile memory, e.g. hard disk, to store data permanently.\n",
    "\n",
    "A file operation takes place in following order:\n",
    "* Open a file\n",
    "* Read or Write (perform operations)\n",
    "* Close the file\n",
    "\n",
    "A file can be **text** or **binary** format.\n"
   ]
  },
  {
   "cell_type": "markdown",
   "metadata": {},
   "source": [
    "## D26.1 Opening and Writing Files\n",
    "Python has a built-in function `open(file_path)` to open a file. The `open()` function returns a `file` *object*, also called a file handler, as it is used to read or modify the file accordingly.\n",
    "\n",
    "The parameter `file_path` in `open()` can be a relative or absolute path. \n",
    "* If only file name is specified, Python assume the file is in the same folder as current Python kernel\n",
    "* When specifying full path, use `/` instead of `\\`, which is used as escape character in string\n",
    "\n",
    "To prevent further read and write on the opened file, we need to close a file object using the `close()` method.\n",
    "\n",
    "**Question:** \n",
    "\n",
    "What if we foget to close the file?  \n",
    "\n",
    "### D26.2 `open()` Operation Mode\n",
    "\n",
    "You can specify the mode used to open a file by applying a second argument to the open function.\n",
    "* `r`/`w`/`a`: Are you reading, writing or appending a file?\n",
    "* `t`/`b`: Is it a text or binary file?\n",
    "\n",
    "Syntax is\n",
    ">``` python\n",
    ">f = open(filepath, mode)\n",
    ">```\n",
    "\n",
    "The `mode` specifies how you want to work with the file.\n",
    "* `r`: read mode, which is the default. \n",
    "* `w`: write mode, for overwriting the contents of a file. Existing file content will be lost.\n",
    "* `a`: append mode, for appending new content to the end of the file. Existing content in the file will not be lost.\n",
    "\n",
    "### D26.3 Read By Characters\n",
    "\n",
    "The `read()` method reads the characters from the file and returns all the characters read as a string. It also accepts an argument `no_of_char` which specifies the number of character to read. If the read hits EOF (End of File) before obtaining `no_of_char` characters, then it reads only available ones. Without this argument, it will read till EOF. Syntax is\n",
    ">``` python\n",
    ">your_file.read(no_of_char)\n",
    ">```\n",
    "\n",
    "The `seek()` method change the position from where the file is to be read from or written to to a given specific position. \n",
    "\n",
    "#### Example\n",
    "\n",
    "- Read and print out all the content in file `mad_joke.txt`, which is found in `/resources/`.\n",
    "- Read and print out the first 10 characters in the file.\n",
    "- Read and print out the 11th until the 20th character in the file. \n",
    "\n",
    ">```\n",
    ">f = open('./resources/mad_joke.txt') \n",
    ">s = f.read()\n",
    ">f.seek(10) #skips the first 10 characters\n",
    ">print(s)\n",
    ">s = f.read()\n",
    ">print(s)\n",
    ">f.close()\n",
    ">```"
   ]
  },
  {
   "cell_type": "code",
   "execution_count": null,
   "metadata": {},
   "outputs": [],
   "source": []
  },
  {
   "cell_type": "markdown",
   "metadata": {},
   "source": [
    "A better way to open a file is by using `with` code block. As it will automatically close the file when the code block exits.\n",
    "\n",
    "Syntax is\n",
    ">```python\n",
    ">with open(file_name) as f:\n",
    ">    print(f.read())\n",
    ">```\n",
    "\n",
    "#### Example\n",
    "\n",
    "Use the `with` code block and try the previous example. \n",
    "\n",
    "- Read and print out all the content in file `mad_joke.txt`, which is found in `/resources/`.\n",
    "- Read and print out the first 10 characters in the file.\n",
    "- Read and print out the 11th until the 20th character in the file. "
   ]
  },
  {
   "cell_type": "code",
   "execution_count": null,
   "metadata": {},
   "outputs": [],
   "source": [
    "#YOUR_CODE_HERE"
   ]
  },
  {
   "cell_type": "markdown",
   "metadata": {},
   "source": [
    "You would have noticed some weird characters when you print out the contents of the file, e.g.\n",
    "- `\\t` tab character\n",
    "- `\\n` newline character. It is used to indicate the end of a line of text\n",
    "\n",
    "If you are only concerned out the output, you can use `repr()` function which will represent special characters as symbols in a string. It helps to print string unambigously.\n",
    "\n",
    "#### Example\n",
    "\n",
    ">``` python\n",
    ">with open('./resources/mad_joke.txt', 'r') as f:\n",
    ">    print(repr(f.read(10)))\n",
    ">    print(repr(f.read(10)))\n",
    ">    print(repr(f.read()))\n",
    ">```"
   ]
  },
  {
   "cell_type": "markdown",
   "metadata": {},
   "source": [
    "### D26.4 Write a String\n",
    "\n",
    "Python file method `write()` writes a string `str` to the file.\n",
    "\n",
    "#### Example\n",
    "\n",
    ">``` python\n",
    ">s = \"Alexa\\tGood morning!\\nWhat time is it?\"\n",
    ">print(len(s))\n",
    ">with open(\"test.txt\", \"w\") as f:\n",
    ">    x = f.write(s)\n",
    ">    print(x)\n",
    ">```"
   ]
  },
  {
   "cell_type": "markdown",
   "metadata": {},
   "source": [
    "### Exercise\n",
    "\n",
    "Create a file called `test.txt` in the same directory as your Jupyter Notebook and write a line in the `.txt` file. Complete following operations using `with` code block:\n",
    "\n",
    "- Write `\"Alexa, \"` to the file `test.txt` . This operator will overwrite any content in the file.\n",
    "- Append `\"Good morning!\\n\"` to the file `test.txt` .\n",
    "- Append `\"What time is it?\"` to the file `test.txt` .\n",
    "- Read and print out content from the file `test.txt` ."
   ]
  },
  {
   "cell_type": "code",
   "execution_count": null,
   "metadata": {},
   "outputs": [],
   "source": [
    "#YOUR_CODE_HERE"
   ]
  },
  {
   "cell_type": "markdown",
   "metadata": {},
   "source": [
    "### D26.1.4 Read by Lines\n",
    "\n",
    "Compared to `read()` function, which return all content in a single string, the `readlines()` function returns a list, where each item contains a line.\n",
    "\n",
    "**NOTE:** No character is removed, e.g. new line character `\\n` at the end of a line.\n",
    "\n",
    "#### Example\n",
    "\n",
    ">``` python\n",
    ">with open('test.txt') as f:\n",
    ">    s = f.read()\n",
    ">    print(str(s))\n",
    ">\n",
    ">with open('test.txt', 'r') as f:\n",
    ">    s = f.readlines()\n",
    ">    print(s)\n",
    ">```"
   ]
  },
  {
   "cell_type": "markdown",
   "metadata": {},
   "source": [
    "### D26.5 Write Multiple Lines\n",
    "\n",
    "To write a list of strings to a file, method `writelines()` can be used.\n",
    "\n",
    "**NOTE:** No character, e.g. `\\n`, will be added or removed.\n",
    "\n",
    "#### Example\n",
    "\n",
    ">``` python\n",
    ">s = ['Hello', 'World', '\\nfrom', '\\nSingapore']\n",
    ">with open('test.txt', 'a') as f:\n",
    ">    f.writelines(s)\n",
    ">```"
   ]
  },
  {
   "cell_type": "code",
   "execution_count": null,
   "metadata": {},
   "outputs": [],
   "source": [
    "#YOUR_CODE_HERE"
   ]
  },
  {
   "cell_type": "markdown",
   "metadata": {},
   "source": [
    "## Exercise D26.1\n",
    "\n",
    "Write following list `s` into a text file `q1.txt` with each item occupying 1 line.\n",
    "\n",
    ">``` python\n",
    ">s = [chr(i) + '.txt' for i in range(ord('A'), ord('F'))]\n",
    ">```\n",
    "\n",
    "Use following command in Jupyter Notebook to open `q1.txt` to verify the content in the file.\n",
    "\n",
    ">``` bash\n",
    ">!notepad q1.txt\n",
    ">```"
   ]
  },
  {
   "cell_type": "code",
   "execution_count": null,
   "metadata": {},
   "outputs": [],
   "source": [
    "#YOUR_CODE_HERE"
   ]
  },
  {
   "cell_type": "markdown",
   "metadata": {},
   "source": [
    "## Exercise D26.2\n",
    "\n",
    "For each line of text in `q1.txt`, generate an empty text file and name the file using that line of text. If file already exists, remove it before generating a new file. \n",
    "\n",
    "Use the following code to check if a file exists.\n",
    "\n",
    ">```python\n",
    ">import os\n",
    ">if os.path.exists(file_path): pass\n",
    ">```\n",
    "\n",
    "Use following command in Jupyter Notebook to confirm that you have generated all files.\n",
    "\n",
    ">```bash\n",
    ">!ls *.txt\n",
    ">```"
   ]
  },
  {
   "cell_type": "code",
   "execution_count": null,
   "metadata": {},
   "outputs": [],
   "source": [
    "#YOUR_CODE_HERE"
   ]
  },
  {
   "cell_type": "markdown",
   "metadata": {},
   "source": [
    "## Exercise D27.3\n",
    "\n",
    "Write code to generate all the positive integers up to $n$ that are perfect squares and save them in a text file called `PERFECT_SQUARES.TXT`. Note that each line within the file should contain one integer, and the last character within the file should be an end line character."
   ]
  },
  {
   "cell_type": "code",
   "execution_count": null,
   "metadata": {},
   "outputs": [],
   "source": [
    "#YOUR_CODE_HERE"
   ]
  },
  {
   "cell_type": "markdown",
   "metadata": {},
   "source": [
    "## Exercise D27.4\n",
    "\n",
    "Write code to generate all the positive integers from $n + 1$ to $n + m$, and then append them to the file used in Exercise D27.3. (Note, do not overwrite the perfect squares from Exercise D27.3.) "
   ]
  },
  {
   "cell_type": "code",
   "execution_count": null,
   "metadata": {},
   "outputs": [],
   "source": [
    "#YOUR_CODE_HERE"
   ]
  },
  {
   "cell_type": "markdown",
   "metadata": {},
   "source": [
    "## Exercise D27.5\n",
    "\n",
    "Each line in the file at: http://itu.dk/people/pagh/sad12/primes1000000.txt represents a prime number below 1,000,000.\n",
    " \n",
    "Write a function that uses the above file to test if a given positive integer below 1,000,000 is a prime number. If the given numbers exceeds 1,000,000, then utilise a separate function to calculate if it is a prime. "
   ]
  },
  {
   "cell_type": "code",
   "execution_count": null,
   "metadata": {},
   "outputs": [],
   "source": [
    "#YOUR_CODE_HERE"
   ]
  }
 ],
 "metadata": {
  "kernelspec": {
   "display_name": "Python 3.10.2 64-bit",
   "language": "python",
   "name": "python3"
  },
  "language_info": {
   "codemirror_mode": {
    "name": "ipython",
    "version": 3
   },
   "file_extension": ".py",
   "mimetype": "text/x-python",
   "name": "python",
   "nbconvert_exporter": "python",
   "pygments_lexer": "ipython3",
   "version": "3.10.2"
  },
  "metadata": {
   "interpreter": {
    "hash": "dcacb0086e9a4f4eabd41c33bf4faac5ea0a3337ed3f5eff0680afa930572c04"
   }
  },
  "orig_nbformat": 2,
  "vscode": {
   "interpreter": {
    "hash": "a42ccb73e7d9bfdf27e036f1d2b8b681e55fc0743cc5586bc2474d4a60f4b886"
   }
  }
 },
 "nbformat": 4,
 "nbformat_minor": 2
}

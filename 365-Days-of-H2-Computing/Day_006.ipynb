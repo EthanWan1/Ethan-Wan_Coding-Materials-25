{
 "cells": [
  {
   "cell_type": "markdown",
   "metadata": {},
   "source": [
    "# Learning Objectives\n",
    "\n",
    "- [ ]  2.2.3 Apply the fundamental programming constructs to control the flow of program execution:\n",
    "     * Sequence\n",
    "     * Selection\n",
    "     * Iteration \n",
    "\n",
    "[![Open In Colab](https://colab.research.google.com/assets/colab-badge.svg)](https://colab.research.google.com/github/njc-cz2-2021/Materials/blob/main/365-Days-of-H2-Computing/Day_006.ipynb)\n",
    "\n",
    "# References\n",
    "\n",
    "1. https://realpython.com/python-while-loop/#the-python-break-and-continue-statements"
   ]
  },
  {
   "cell_type": "markdown",
   "metadata": {},
   "source": [
    "#### Exercise D6.1\n",
    "\n",
    "The following code loops infinitely when run, fix the code so that its output is `OOOXOXOO`.\n",
    "\n",
    ">```python\n",
    ">a = 1 \n",
    ">while a < 3: \n",
    ">   b = 1  \t\n",
    ">   while b < 3:  \t \t\n",
    ">       if a == 2:  \t \t \t\n",
    ">           print(\"X\", end = \"\")  \t \t\n",
    ">       print \"O\"\t \t\n",
    ">       b = b + 1 \n",
    ">   print(\"O\", end = \"\") \n",
    ">print(\"\")\n",
    ">```"
   ]
  },
  {
   "cell_type": "code",
   "execution_count": null,
   "metadata": {},
   "outputs": [],
   "source": [
    "# YOUR ANSWER HERE"
   ]
  },
  {
   "cell_type": "markdown",
   "metadata": {},
   "source": [
    "#### Exercise D6.2\n",
    "\n",
    "Carl Friedrich Gauss (1777-1855) was one of those remarkable infant prodigies whose natural aptitude for mathematics soon becomes apparent. As a child of three, according to a well-authenticated story, he corrected an error in his father's payroll calculations. His arithmetical powers so overwhelmed his schoolmasters that, by the time Gauss was 10 years old, they admitted that there was nothing more they could teach the boy. It is said that in his first arithmetic class Gauss astonished his teacher by instantly solving what was intended to be a \"busy work\" problem: Find the sum of all the numbers from 1 to 100. \n",
    "\n",
    "How would you find this sum yourself? No Googling for answer kthx."
   ]
  },
  {
   "cell_type": "code",
   "execution_count": null,
   "metadata": {},
   "outputs": [],
   "source": [
    "# YOUR ANSWER HERE"
   ]
  },
  {
   "cell_type": "markdown",
   "metadata": {},
   "source": [
    "#### Exercise D6.3 Unit Converter\n",
    " \n",
    "Write a program that helps the user to convert a given quantity from one unit of (distance, area or volume) measurement to another. \n",
    " \n",
    "The problem: \n",
    "-\tRequest a quantity from the user. \n",
    "-\tHave the user specify if the quantity is a `length`, `area` or `volume`. \n",
    "-\tHave the user select the base unit of measurement from the following list: \n",
    "    - `mm`, \n",
    "    - `cm`, \n",
    "    - `m`, or \n",
    "    - `km`. \n",
    "-\tThen have the user select the desired base unit of measurement that the given quantity should be converted to. \n",
    "-\tPrint out converted quantity (including the new unit of measurement). \n",
    " \n",
    "Example interaction: \n",
    "\n",
    ">```text\n",
    ">Input a quantity: 10 \n",
    ">Select either length, area or volume: area \n",
    ">Select the base unit of measurement (m, cm, m, km) : m \n",
    ">Select which base unit of measurement to convert to (mm, cm, m, km) : cm \n",
    ">10 m^2 = 100000 cm^2 \n",
    ">```"
   ]
  },
  {
   "cell_type": "code",
   "execution_count": null,
   "metadata": {},
   "outputs": [],
   "source": [
    "# YOUR ANSWER HERE"
   ]
  },
  {
   "cell_type": "markdown",
   "metadata": {},
   "source": [
    "#### Exercise D6.4 Power\n",
    " \n",
    "Write a program that prints out the first $m$ numbers that can be written as a positive integer taken to the power $n$. \n",
    "\n",
    "Example interaction: \n",
    "\n",
    ">```text\n",
    ">Input the number of terms, m: 5 \n",
    ">Input the n-th power: 3 \n",
    ">1\n",
    ">8\n",
    ">27\n",
    ">64\n",
    ">125\n",
    ">```"
   ]
  },
  {
   "cell_type": "code",
   "execution_count": null,
   "metadata": {},
   "outputs": [],
   "source": [
    "# YOUR ANSWER HERE"
   ]
  },
  {
   "cell_type": "markdown",
   "metadata": {},
   "source": [
    "#### Exercise D6.5 Guess The Secret Number\n",
    " \n",
    "Write a program that stores a secret integer in a variable. The user has to guess the secret integer, the program should loop until they get it right.\n",
    "\n",
    "The problem: \n",
    "-   Decide on a secret integer between 1 and 100 inclusive yourself.\n",
    "-\tRequest an integer from the user. \n",
    "-\tif the user inputted a value that is too high, print 'Your number is too high. Try again.' and the program loops\n",
    "-   if the user inputted a value that is too low, print 'Your number is too low. Try again.' and the program loops\n",
    "-   if the user inputted a value that is the same as the secret integer, print 'Congratulations. You guessed correctly.' and the program ends.\n",
    "\n",
    "Example interaction: \n",
    "\n",
    ">```text\n",
    ">#Secret number is 31\n",
    ">Input a quantity: 37 \n",
    ">Your number is too high. Try again. \n",
    ">Input a quantity: 25 \n",
    ">Your number is too low. Try again.\n",
    ">Input a quantity: 31 \n",
    ">Congratulations. You guessed correctly.\n",
    ">```"
   ]
  },
  {
   "cell_type": "code",
   "execution_count": null,
   "metadata": {},
   "outputs": [],
   "source": [
    "# YOUR ANSWER HERE"
   ]
  }
 ],
 "metadata": {
  "kernelspec": {
   "display_name": "Python 3",
   "language": "python",
   "name": "python3"
  },
  "language_info": {
   "name": "python",
   "version": "3.12.1"
  }
 },
 "nbformat": 4,
 "nbformat_minor": 2
}

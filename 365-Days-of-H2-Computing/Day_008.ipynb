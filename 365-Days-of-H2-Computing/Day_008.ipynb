{
 "cells": [
  {
   "cell_type": "markdown",
   "metadata": {},
   "source": [
    "# Learning Objectives\n",
    "\n",
    "- [ ]  2.2.3 Apply the fundamental programming constructs to control the flow of program execution:\n",
    "     * Sequence\n",
    "     * Selection\n",
    "     * Iteration \n",
    "\n",
    "[![Open In Colab](https://colab.research.google.com/assets/colab-badge.svg)](https://colab.research.google.com/github/njc-cz2-2021/Materials/blob/main/365-Days-of-H2-Computing/Day_008.ipynb)\n",
    "\n",
    "# References\n",
    "\n",
    "1. https://realpython.com/python-while-loop/#the-python-break-and-continue-statements"
   ]
  },
  {
   "cell_type": "markdown",
   "metadata": {},
   "source": [
    "## Exercise D8.1\n",
    "\n",
    "In mathematics, a **geometric sequence** is a sequence of real numbers \n",
    "$$u_1,u_2,\\cdots, u_n$$\n",
    "such that the ratio between two consecutive terms is constant, i.e. $\\frac{u_{n+1}}{u_n}=r$ for some constant $r\\in \\mathbb{R}\\backslash \\{0,1\\}$, called the **common ratio** and $n\\geq 1$.\n",
    "\n",
    "For example, the sequence $2,6,18,54,162,\\dots$ is an geometric sequence with first term $2$ and common ratio $3$.\n",
    "\n",
    "Write a program to generate the first $n$ terms of an geometric sequence with a user defined first term $a$ and common ratio $r$.\n",
    "\n",
    "The problem: \n",
    "- Request a numeric input from the user to be used as the first term.  Let us denote this input as `first_term`.\n",
    "- Request a numeric input from the user to be used as the common difference.  Let us denote this input as `common_ratio`.\n",
    "- Request an integer input from the user for the number of terms.  Let us denote this input as `number_of_terms`.\n",
    "- Print out the sequence up to the $n$ th term.\n",
    "\n",
    "Example interaction: \n",
    "\n",
    ">```text\n",
    ">Please input the first term in the geometric sequence:\n",
    ">2\n",
    ">Please input the common ratio:\n",
    ">3\n",
    ">Please input the number of terms:\n",
    ">5\n",
    ">The first 5 terms of the geometric sequence are:\n",
    ">2\n",
    ">6\n",
    ">18\n",
    ">54\n",
    ">162\n",
    ">```"
   ]
  },
  {
   "cell_type": "code",
   "execution_count": null,
   "metadata": {
    "vscode": {
     "languageId": "plaintext"
    }
   },
   "outputs": [],
   "source": [
    "#YOUR CODE HERE"
   ]
  },
  {
   "cell_type": "markdown",
   "metadata": {},
   "source": [
    "## Exercise D8.2\n",
    "\n",
    "Given a geometric sequence with first term $a$ and common ratio $r$.\n",
    "\n",
    "Write a program that:\n",
    "- Request a numeric input from the user to be used as the first term.  Let us denote this input as `first_term`.\n",
    "- Request a numeric input from the user to be used as the common difference.  Let us denote this input as `common_ratio`.\n",
    "- Request an integer input from the user for the index for the term in the sequence.  Let us denote this input as `n`.\n",
    "- Print out the $n$th term in the sequence.\n",
    "- Print out the sum of the first $n$ terms in the sequence.\n",
    "\n",
    "Example interaction: \n",
    "\n",
    ">```text\n",
    ">Please input the first term in the geometric sequence:\n",
    ">2\n",
    ">Please input the common ratio:\n",
    ">3\n",
    ">Please input the index :\n",
    ">5\n",
    ">The 5th term in the sequence is:\n",
    ">162\n",
    ">The sum of the first 5 terms in the sequence is:\n",
    ">242\n",
    ">```"
   ]
  },
  {
   "cell_type": "code",
   "execution_count": null,
   "metadata": {
    "vscode": {
     "languageId": "plaintext"
    }
   },
   "outputs": [],
   "source": [
    "#YOUR CODE HERE"
   ]
  },
  {
   "cell_type": "markdown",
   "metadata": {},
   "source": [
    "## Exercise D8.3\n",
    "\n",
    "Given a geometric sequence with first term $1$ and common ratio $r$. Find the sum of the first 100 terms of the sequence if:\n",
    "- $r=2$ \n",
    "- $r=\\frac{1}{2}$ \n",
    "- $r=-3$ \n",
    "- $r=-\\frac{5}{6}$ \n",
    "- $r=4.1$\n",
    "- $r=0.7$\n",
    "\n",
    "What can you conclude about the relationship between the common ratio of the geometric sequence with the sum of the first $n$ terms of the geometric sequence as $n$ grows larger and larger? i.e., as $n\\rightarrow \\infty$. You might want to try with more values of $r$."
   ]
  },
  {
   "cell_type": "code",
   "execution_count": null,
   "metadata": {
    "vscode": {
     "languageId": "plaintext"
    }
   },
   "outputs": [],
   "source": [
    "#YOUR CODE HERE"
   ]
  },
  {
   "cell_type": "markdown",
   "metadata": {},
   "source": [
    "## Exercise 2.6 2019/NJC Tutorial/APGP/QB8 H2 Mathematics (Modified)\n",
    "\n",
    "An athlete is considering two plans for a training program.\n",
    "\n",
    "Plan I: Run 2000 m on day 1, 2400 m on day 2, and on each successive day increase the distance run by 400 m.\n",
    "\n",
    "Plan II: Run 2000 m on day 1, 2200 m on day 2, and on each successive day multiply the distance run by a constant factor $\\frac{11}{10}$.\n",
    "\n",
    "- **(a)** For Plan I, find the least value of $n$ for which the total distance run on days 1 to $n$, inclusive, exceeds 200 000 m.\n",
    "\n",
    "- **(b)** For Plan II, find the least value of N for which the distance run on day $N$ exceeds 16 000.\n",
    "\n",
    "- **(c)** Assume that athlete $A$ decided to go with Plan I and another athlete $B$ decided to with Plan II, when will athlete $B$'s total distance run first exceeds athlete $A$'s total distance run? "
   ]
  },
  {
   "cell_type": "code",
   "execution_count": null,
   "metadata": {
    "vscode": {
     "languageId": "plaintext"
    }
   },
   "outputs": [],
   "source": [
    "#YOUR CODE HERE"
   ]
  }
 ],
 "metadata": {
  "language_info": {
   "name": "python"
  }
 },
 "nbformat": 4,
 "nbformat_minor": 2
}

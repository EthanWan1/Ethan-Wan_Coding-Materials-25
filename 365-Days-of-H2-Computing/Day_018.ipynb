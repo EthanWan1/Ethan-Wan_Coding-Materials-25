{
 "cells": [
  {
   "attachments": {},
   "cell_type": "markdown",
   "metadata": {},
   "source": [
    "# Learning Objectives\n",
    "\n",
    "- [ ]  2.2.1 Understand the different types: integer `int`, real `float`, char `chr`, string `str` and Boolean `Boolean` and initialise arrays `list`, `tuple` (1-dimensional and 2-dimensional). \n",
    "\n",
    "[![Open In Colab](https://colab.research.google.com/assets/colab-badge.svg)](https://colab.research.google.com/github/njc-cz2-2021/Materials/blob/main/365-Days-of-H2-Computing/Day_018.ipynb)"
   ]
  },
  {
   "cell_type": "markdown",
   "metadata": {},
   "source": [
    "# D18 Set\n",
    "\n",
    "A set is an **unordered** collection of **unique** values. In Python, `set` is the data type for Sets.\n",
    "\n",
    "* Every element in set is unique (no duplicates) and must be **immutable** (which cannot be changed).\n",
    "* `set` itself is mutable. We can add or remove items from it.\n",
    "* `set` is often used to eliminate repeated numbers in a sequence/list.\n",
    "\n",
    "## D18.1 How to create a set?\n",
    "\n",
    "A set is created by either of following methods:\n",
    "* Placing all the items (elements) inside curly braces `{}`, separated by comma `,`\n",
    "* Using the built-in constructor function `set()`, which takes in a collection (list or tuple)\n",
    "\n",
    "**Note:** \n",
    "* Set can contain mixed data type.\n",
    "* All duplicate value will be discarded.\n",
    "\n",
    "#### Example"
   ]
  },
  {
   "cell_type": "code",
   "execution_count": null,
   "metadata": {},
   "outputs": [],
   "source": [
    "s = [1,2,3,4]*3\n",
    "print(s)\n",
    "set3 = set(s)\n",
    "print(set3)"
   ]
  },
  {
   "cell_type": "markdown",
   "metadata": {},
   "source": [
    "**Question**\n",
    "* Why we can't use `{}` to create an empty set?\n",
    "\n",
    "#### Example"
   ]
  },
  {
   "cell_type": "code",
   "execution_count": null,
   "metadata": {},
   "outputs": [],
   "source": [
    "s = {}\n",
    "print(type(s))\n",
    "# empty set\n",
    "set0 = set()\n",
    "print(type(set0))"
   ]
  },
  {
   "cell_type": "markdown",
   "metadata": {},
   "source": [
    "## D18.2 How to modify a set?\n",
    "\n",
    "Set is mutable. Thus you can perform following actions on a set.\n",
    "* Add a single item\n",
    "* Updae/add multiple items\n",
    "* remove items"
   ]
  },
  {
   "cell_type": "markdown",
   "metadata": {},
   "source": [
    "### D18.2.1 Add a Single Item with `add()`\n",
    "\n",
    "`add()` function is used to add a single item to the list.\n",
    "\n",
    "If the item is already exists in the set, it will be ignored.\n",
    "\n",
    "#### Example\n"
   ]
  },
  {
   "cell_type": "code",
   "execution_count": null,
   "metadata": {},
   "outputs": [],
   "source": [
    "set1 = {1,2,3,4}\n",
    "set1.add(5)\n",
    "set1.add(5)\n",
    "print(set1)"
   ]
  },
  {
   "cell_type": "markdown",
   "metadata": {},
   "source": [
    "### D18.2.2 Add Multiple Items with `update()`\n",
    "\n",
    "`update()` function is used to add multiple items to a set. It can take in one or more collections, e.g. list, tuple or another set.\n",
    "\n",
    "* If the item already exists, it will be discarded.\n",
    "* If the item does not exist, it will be added.\n",
    "\n",
    "#### Example"
   ]
  },
  {
   "cell_type": "code",
   "execution_count": null,
   "metadata": {},
   "outputs": [],
   "source": [
    "set1 = {1,2,3,4}\n",
    "print(set1)\n",
    "set1.update([2,3,4,5])\n",
    "print(set1)\n",
    "set1.update([(5,6)], {7,8}, (9,10))\n",
    "print(set1)"
   ]
  },
  {
   "cell_type": "markdown",
   "metadata": {},
   "source": [
    "### D18.2.3 Remove Item by Value\n",
    "\n",
    "An item can be removed from set using `discard()` and `remove()` methods.\n",
    "* `discard()` method does not throw exception if the item is not found in the set.\n",
    "* `remove()` method will raise an `Exception` in such condition."
   ]
  },
  {
   "cell_type": "code",
   "execution_count": null,
   "metadata": {},
   "outputs": [],
   "source": [
    "set1 = {1,2,3,4}\n",
    "\n",
    "set1.discard(4)\n",
    "set1.discard(44)\n",
    "print(set1)\n",
    "\n",
    "set1.remove(33)\n",
    "print(set1)"
   ]
  },
  {
   "cell_type": "markdown",
   "metadata": {},
   "source": [
    "### D18.2.4 Remove an Arbitrary Item\n",
    "\n",
    "`pop()` function can be used to remove an **arbitrary** item from set. This is because set is unordered.\n",
    "* The popped value may seem following a sequence. But that is due to the internal hashmap implementation. It is not reliable and depends on values."
   ]
  },
  {
   "cell_type": "code",
   "execution_count": null,
   "metadata": {},
   "outputs": [],
   "source": [
    "set1 = {1,2,3,4}\n",
    "print(set1.pop())\n",
    "print(set1.pop())\n",
    "print(set1)"
   ]
  },
  {
   "cell_type": "markdown",
   "metadata": {},
   "source": [
    "### D18.2.5  More Set Operations\n",
    "Sets can be used to carry out mathematical set operations\n",
    "* intersection\n",
    "* union\n",
    "* symmetric difference\n",
    "* difference (subtracting)\n",
    "\n",
    "<img src=\".img/set-venn.png\" alt=\"Set Venn Diagram\" style=\"width: 500px;\"/>\n",
    "\n",
    "##### Example\n",
    "Create 2 sets using `set()` constructor."
   ]
  },
  {
   "cell_type": "code",
   "execution_count": 1,
   "metadata": {},
   "outputs": [
    {
     "name": "stdout",
     "output_type": "stream",
     "text": [
      "{0, 1, 2, 3, 4, 5, 6, 7}\n",
      "{5, 6, 7, 8, 9, 10, 11, 12}\n"
     ]
    }
   ],
   "source": [
    "set1 = set(range(0,8))\n",
    "set2 = set(range(5,13))\n",
    "print(set1)\n",
    "print(set2)"
   ]
  },
  {
   "cell_type": "markdown",
   "metadata": {},
   "source": [
    "### D18.2.6 Intersection\n",
    "\n",
    "`intersection()` function outputs a set which contains all the elements that are in both sets.\n",
    "* Operator `&` can be used for Intersection operation."
   ]
  },
  {
   "cell_type": "code",
   "execution_count": null,
   "metadata": {},
   "outputs": [],
   "source": [
    "print(set1.intersection(set2))\n",
    "print(set1 & set2)"
   ]
  },
  {
   "cell_type": "markdown",
   "metadata": {},
   "source": [
    "### D18.2.7 Union\n",
    "\n",
    "`union()` function returns a set which contains all the elements of both the sets without repition.\n",
    "* Operator `|` can be used for Union operation."
   ]
  },
  {
   "cell_type": "code",
   "execution_count": null,
   "metadata": {},
   "outputs": [],
   "source": [
    "print(set1.union(set2))\n",
    "print(set1 | set2)"
   ]
  },
  {
   "cell_type": "markdown",
   "metadata": {},
   "source": [
    "### D18.2.8 Difference (Subtracting)\n",
    "\n",
    "`difference()` function ouptuts a set which contains elements that are in set1 and not in set2.\n",
    "* Operator `-` can be use for Subtracting operation."
   ]
  },
  {
   "cell_type": "code",
   "execution_count": null,
   "metadata": {},
   "outputs": [],
   "source": [
    "print(set1.difference(set2))\n",
    "print(set1 - set2)"
   ]
  },
  {
   "cell_type": "markdown",
   "metadata": {},
   "source": [
    "### D18.2.9 Symetric Difference\n",
    "\n",
    "`symmetric_difference()` function ouputs a function which contains elements that are in one of the sets."
   ]
  },
  {
   "cell_type": "code",
   "execution_count": null,
   "metadata": {},
   "outputs": [],
   "source": [
    "s7 = set1.symmetric_difference(set2)\n",
    "print(s7) "
   ]
  },
  {
   "cell_type": "markdown",
   "metadata": {},
   "source": [
    "### D18.2.10 Subset, Superset\n",
    "\n",
    "`issubset()`, `issuperset()` is used to check if the set1/set2 is a subset, superset of set2/set1 respectively."
   ]
  },
  {
   "cell_type": "code",
   "execution_count": null,
   "metadata": {},
   "outputs": [],
   "source": [
    "set3 = set(range(0,15))\n",
    "set4 = set(range(5,10))\n",
    "print(set3)\n",
    "print(set4)\n",
    "\n",
    "r1 = set3.issubset(set4)\n",
    "r2 = set3.issuperset(set4)\n",
    "print(r1, r2)"
   ]
  },
  {
   "cell_type": "code",
   "execution_count": null,
   "metadata": {},
   "outputs": [],
   "source": [
    "set3 = set(range(0,15))\n",
    "set4 = set(range(5,10))\n",
    "\n",
    "r1 = set4.issubset(set3)\n",
    "r2 = set3.issuperset(set4)\n",
    "print(r1, r2)"
   ]
  },
  {
   "cell_type": "markdown",
   "metadata": {},
   "source": [
    "### D18.2.11 Disjoint\n",
    "\n",
    "`isdisjoint()` is used to check if the set1/set2 is disjoint."
   ]
  },
  {
   "cell_type": "code",
   "execution_count": null,
   "metadata": {},
   "outputs": [],
   "source": [
    "r3 = set3.isdisjoint(set4)\n",
    "print(r3)\n",
    "\n",
    "set5 = set(range(5))\n",
    "set6 = set(range(6,10))\n",
    "r4 = set5.isdisjoint(set6)\n",
    "print(r4)"
   ]
  }
 ],
 "metadata": {
  "kernelspec": {
   "display_name": "Python 3",
   "language": "python",
   "name": "python3"
  },
  "language_info": {
   "codemirror_mode": {
    "name": "ipython",
    "version": 3
   },
   "file_extension": ".py",
   "mimetype": "text/x-python",
   "name": "python",
   "nbconvert_exporter": "python",
   "pygments_lexer": "ipython3",
   "version": "3.12.1"
  }
 },
 "nbformat": 4,
 "nbformat_minor": 1
}

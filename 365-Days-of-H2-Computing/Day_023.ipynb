{
 "cells": [
  {
   "cell_type": "markdown",
   "metadata": {},
   "source": [
    "# Learning Objectives\n",
    "\n",
    "- [ ]  2.2.4 Use functions and procedures to modularise problem into chunks of code.\n",
    "- [ ]  2.2.5 Understand the concept of recursion. \n",
    "- [ ]  2.2.6 Trace the steps and list the results of recursive and non-recursive programs. \n",
    "- [ ]  2.2.7 Understand the use of stacks in recursive programming. \n",
    "\n",
    "[![Open In Colab](https://colab.research.google.com/assets/colab-badge.svg)](https://colab.research.google.com/github/njc-cz2-2021/Materials/blob/main/365-Days-of-H2-Computing/Day_023.ipynb)"
   ]
  },
  {
   "cell_type": "markdown",
   "metadata": {},
   "source": [
    "# D23.1 Variable Scope - Global vs Local\n",
    "\n",
    "A local variable is a variable that is only accessible within the routine in which it is declared, whereas a global variable is a variable that is accessible from all parts of the program.\n",
    "\n",
    "It is good programming practice to avoid the use of global variables. Variables that are only used within a routine should be declared as local variables within the routine. Values that are required by several routines should be passed as parameters. By doing so, we help to ensure that any defined routines are fully modular, and do not require the specification of any global variables outside the routine in question.\n",
    "\n",
    "The scope of a variable determines the portion of the program where you can access a particular variable. There are two basic variable scopes in Python:\n",
    "\n",
    "* **Global variables:** variables defined **outside** a function body.\n",
    "* **Local variables:** variables defined **inside** a function body.\n",
    "\n",
    "Global and Local variables are in different **scopes**.\n",
    "* Local variables can be accessed only inside the function in which they are declared.\n",
    "* Global variables can be accessed throughout the program body.\n",
    "\n",
    "#### Example "
   ]
  },
  {
   "cell_type": "code",
   "execution_count": null,
   "metadata": {},
   "outputs": [],
   "source": [
    "k = 20\n",
    "\n",
    "def hi():\n",
    "    j = 10\n",
    "    print(f'j={j}, k={k}')\n",
    "    \n",
    "hi()\n",
    "print(j,k)"
   ]
  },
  {
   "cell_type": "code",
   "execution_count": null,
   "metadata": {},
   "outputs": [],
   "source": [
    "j = 10\n",
    "\n",
    "def hi():\n",
    "    j = 1\n",
    "    j = j + 10\n",
    "    print(j,k)\n",
    "    \n",
    "hi()\n",
    "print(j,k)"
   ]
  },
  {
   "cell_type": "markdown",
   "metadata": {},
   "source": [
    "In Python, if we declare the variable as global and again declare inside the function with the same name, it behaves like a local variable and it won’t be considered as the global one."
   ]
  },
  {
   "cell_type": "markdown",
   "metadata": {},
   "source": [
    "What if same name of variable that has appeared in the global scope is attempted to be used in a body of a function (e.g., in local scope)?\n",
    "\n",
    "#### Example"
   ]
  },
  {
   "cell_type": "code",
   "execution_count": null,
   "metadata": {},
   "outputs": [],
   "source": [
    "x = 5\n",
    "\n",
    "def foo():\n",
    "    x = x * 2\n",
    "    print(x)\n",
    "\n",
    "foo()"
   ]
  },
  {
   "cell_type": "markdown",
   "metadata": {},
   "source": [
    "The `UnboundLocalError: local variable referenced before assignment` error is raised when you try to assign a value to a local variable before it has been declared in the local scope. A variable can't be both local and global inside a function. So Python decides that we want a local variable due to the assignment to `x` inside `foo()`, so the first print statement before the definition of `x` inside the function body throws the error message above. "
   ]
  },
  {
   "cell_type": "markdown",
   "metadata": {},
   "source": [
    "To **modify** a global variable in a function, you can use the `global` keyword in the body of the function. Syntax is\n",
    ">```python\n",
    "> global my_variable\n",
    ">```\n",
    "\n",
    "#### Example"
   ]
  },
  {
   "cell_type": "code",
   "execution_count": null,
   "metadata": {},
   "outputs": [],
   "source": [
    "x = 5\n",
    "\n",
    "def foo():\n",
    "    global x\n",
    "    x = x * 2\n",
    "    print(x)\n",
    "\n",
    "foo()\n",
    "print(x)\n"
   ]
  },
  {
   "cell_type": "markdown",
   "metadata": {},
   "source": [
    "In Python, variables that are only **referenced** inside a function are implicitly global. If a variable is assigned a value anywhere within the function’s body, it’s assumed to be a local unless explicitly declared as global. [Link to documentation here.](https://docs.python.org/3/faq/programming.html#what-are-the-rules-for-local-and-global-variables-in-python)"
   ]
  },
  {
   "cell_type": "code",
   "execution_count": null,
   "metadata": {},
   "outputs": [],
   "source": [
    "a = 1\n",
    "\n",
    "def fn():\n",
    "    print a  # This is \"referencing a variable\" == \"reading its value\", a is implicitly global\n",
    "\n",
    "# Prints: 1"
   ]
  },
  {
   "cell_type": "code",
   "execution_count": null,
   "metadata": {},
   "outputs": [],
   "source": [
    "a = 1\n",
    "\n",
    "def fn():\n",
    "    print a \n",
    "    a = 2  # <<< We're adding this, a is treated as local\n",
    "\n",
    "fn()"
   ]
  },
  {
   "cell_type": "markdown",
   "metadata": {},
   "source": [
    "Reference:\n",
    "https://stackoverflow.com/questions/23458854/python-why-is-it-said-that-variables-that-are-only-referenced-are-implicitly-g"
   ]
  },
  {
   "cell_type": "markdown",
   "metadata": {},
   "source": [
    "# D23.2 Recursion\n",
    "\n",
    "Recursion describes the ability of a routine to call itself. This means that a recursive routine is defined in terms of itself. More specifically, a recursive routine corresponds to a function or procedure defined in terms of itself.\n",
    "\n",
    "When writing a recursive subroutine, there are three rules you must observe. A recursive subroutine must:\n",
    "- have a **base case**,\n",
    "- have a **general case**,\n",
    "- reach the base case after a finite number of calls to itself, i.e. when the subroutine reaches the **termination condition**.\n",
    "\n",
    "The base case gives a result without involving the general case. It corresponds to an explicit solution to a recursive function; the base case has a solution which does not involve any reference to the general case solution.\n",
    "\n",
    "The general case corresponds to a definition of a recursive function in terms of itself. It is very important that the general case must come closer to the base case with each recursion, for any starting point.\n",
    "\n",
    "Recursion typically works only if the routine is called with the current value or values passed as parameters. \n",
    "\n",
    "### Example\n",
    "\n",
    "Implement a `count-down` function using while-loop in Python that:\n",
    "- takes in a parameter `n`, which is a positive integer, which is the starting number to count down.\n",
    "- after 1, the function will print `Done!`.\n",
    "\n",
    "Example interaction: \n",
    "\n",
    ">```python\n",
    ">count_down(3)\n",
    ">3\n",
    ">2\n",
    ">1\n",
    ">Done!\n",
    ">```"
   ]
  },
  {
   "cell_type": "code",
   "execution_count": null,
   "metadata": {},
   "outputs": [],
   "source": [
    "def count_down(n):\n",
    "    while n > 0:\n",
    "        print(n)\n",
    "        n -= 1\n",
    "    print('Done!')\n",
    "\n",
    "count_down(3)"
   ]
  },
  {
   "cell_type": "markdown",
   "metadata": {},
   "source": [
    "How can we convert above function `count_down()` into a recursive function?\n",
    "\n",
    "<u>Analysis Steps:</u>\n",
    "* What is the common actions in each loop? (Hint: check the loop statements)\n",
    "* What is its termination condition?\n",
    "* What is its base case, i.e. what does it do when it is at termination condition?\n",
    "\n",
    "<u>Analysis Result:</u>\n",
    "\n",
    "* In each iteration, it prints out current `n` value.\n",
    "* The termination condition is `n = 0`. \n",
    "* If termination condition is True, it prints `Done`. \n",
    "\n",
    "<u>Thus, </u>\n",
    "* In the recursive function, it check termination condiction `n > 0`.\n",
    "* If termination condition is true, it prints `Done`, else it prints current `n` value and recurses (call its own function). "
   ]
  },
  {
   "cell_type": "code",
   "execution_count": null,
   "metadata": {},
   "outputs": [],
   "source": [
    "def recursive_down(n):\n",
    "    if n > 0:\n",
    "        print(n)\n",
    "        recursive_down(n-1)\n",
    "    else:\n",
    "        print('Done!')\n",
    "\n",
    "recursive_down(3)"
   ]
  },
  {
   "cell_type": "markdown",
   "metadata": {},
   "source": [
    "The `factorial` function is defined to be a function that accepts integer `n` as a parameter and return the product of the numbers from 1 to `n`. Furthermore, we define `factorial(0)` to be the value 1. In pseudocode, we have the following:\n",
    "\n",
    ">```coffeescript\n",
    ">FUNCTION factorial(n : INTEGER) : INTEGER\n",
    ">    DECLARE result : INTEGER\n",
    ">    result ← 1\n",
    ">    FOR i ← 1 TO n\n",
    ">        result ← result * i\n",
    ">    ENDFOR\n",
    ">    RETURN result\n",
    ">ENDFUNCTION\n",
    ">```\n",
    "\n",
    "### Example\n",
    "\n",
    "Implement a `factorial` function using while-loop in Python that:\n",
    "- takes in a parameter `n`, which is a nonnegative integer, \n",
    "- return the value of the factorial of the integer inputted.\n",
    "\n",
    "Example interaction: \n",
    "\n",
    ">```python\n",
    ">factorial(3)\n",
    ">6\n",
    ">factorial(0)\n",
    ">1\n",
    ">```"
   ]
  },
  {
   "cell_type": "code",
   "execution_count": null,
   "metadata": {},
   "outputs": [],
   "source": [
    "#YOUR CODE HERE"
   ]
  },
  {
   "cell_type": "markdown",
   "metadata": {},
   "source": [
    "**Question:** \n",
    "\n",
    "How to convert above function into recursive function `factorial_recurse()`?\n",
    "\n",
    "<u>Analysis Steps:</u>\n",
    "* What is the common actions in each iteration? (Hint: check the loop statements)\n",
    "* What is its termination condition?\n",
    "* If termination condition is True, what does it do?\n",
    "\n",
    "<u>Analysis Result:</u>\n",
    "* It sets `result = result * n`, and it recurse with `n-1` (common action)\n",
    "* The termination condiction is `n == 1`.\n",
    "* If condition is True, it returns `1`.\n",
    "\n",
    "### Example\n",
    "\n",
    "Implement a `recursive_factorial` function using recursion in Python that:\n",
    "- takes in a parameter `n`, which is a nonnegative integer, \n",
    "- return the value of the factorial of the integer inputted.\n",
    "\n",
    "Example interaction: \n",
    "\n",
    ">```python\n",
    ">recursive_factorial(3)\n",
    ">6\n",
    ">recursive_factorial(0)\n",
    ">1\n",
    ">```"
   ]
  },
  {
   "cell_type": "code",
   "execution_count": null,
   "metadata": {},
   "outputs": [],
   "source": [
    "#YOUR CODE HERE"
   ]
  },
  {
   "cell_type": "markdown",
   "metadata": {},
   "source": [
    "### Example The Fibonacci Sequence \n",
    "\n",
    "The *Fibonacci sequence* is a sequence of integers, $F_1,F_2,\\cdots F_n \\cdots$ where $F_1=1$, $F_2=1$ and for $n\\geq 3$, $$F_n = F_{n-1} + F_{n-2}.$$\n",
    "\n",
    "### Example\n",
    "\n",
    "Implement a `fib_loop` function using while-loop in Python that:\n",
    "- takes in a parameter `n`, which is a positive integer, \n",
    "- return $F_n$, the $n$th term of the Fibonacci sequence.\n",
    "\n",
    "Example interaction: \n",
    "\n",
    ">```python\n",
    ">fib_loop(1)\n",
    ">1\n",
    ">fib_loop(2)\n",
    ">1\n",
    ">fib_loop(5)\n",
    ">8\n",
    ">```"
   ]
  },
  {
   "cell_type": "code",
   "execution_count": null,
   "metadata": {},
   "outputs": [],
   "source": [
    "# YOUR CODE HERE"
   ]
  },
  {
   "cell_type": "markdown",
   "metadata": {},
   "source": [
    "**Question:** \n",
    "\n",
    "How to convert above function into recursive function `recursive_fib`?\n",
    "\n",
    "<u>Analysis Steps:</u>\n",
    "* What is the common actions in each iteration? (Hint: check the loop statements)\n",
    "* What is its termination condition?\n",
    "* If termination condition is True, what does it do?\n",
    "\n",
    "### Example\n",
    "\n",
    "Implement a `recursive_fib` function using recursion in Python that:\n",
    "- takes in a parameter `n`, which is a nonnegative integer, \n",
    "- return the $F_n$, the $n$th term of the Fibonacci sequence.\n",
    "\n",
    "Example interaction: \n",
    "\n",
    ">```python\n",
    ">recursive_fib(1)\n",
    ">0\n",
    ">recursive_fib(2)\n",
    ">1\n",
    ">recursive_fib(5)\n",
    ">8\n",
    ">```"
   ]
  },
  {
   "cell_type": "code",
   "execution_count": null,
   "metadata": {},
   "outputs": [],
   "source": [
    "# YOUR CODE HERE"
   ]
  }
 ],
 "metadata": {
  "kernelspec": {
   "display_name": "Python 3.9.1 64-bit",
   "metadata": {
    "interpreter": {
     "hash": "dcacb0086e9a4f4eabd41c33bf4faac5ea0a3337ed3f5eff0680afa930572c04"
    }
   },
   "name": "python3"
  },
  "language_info": {
   "codemirror_mode": {
    "name": "ipython",
    "version": 3
   },
   "file_extension": ".py",
   "mimetype": "text/x-python",
   "name": "python",
   "nbconvert_exporter": "python",
   "pygments_lexer": "ipython3",
   "version": "3.9.1-final"
  },
  "orig_nbformat": 2
 },
 "nbformat": 4,
 "nbformat_minor": 2
}

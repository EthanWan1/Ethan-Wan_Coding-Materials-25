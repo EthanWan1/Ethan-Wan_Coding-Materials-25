{
 "cells": [
  {
   "cell_type": "markdown",
   "metadata": {},
   "source": [
    "# Learning Objectives\n",
    "\n",
    "- [ ]  2.2.2 Use common library functions for input/output, strings and mathematical operations.\n",
    "\n",
    "[![Open In Colab](https://colab.research.google.com/assets/colab-badge.svg)](https://colab.research.google.com/github/njc-cz2-2021/Materials/blob/main/365-Days-of-H2-Computing/Day_026.ipynb)"
   ]
  },
  {
   "cell_type": "markdown",
   "metadata": {},
   "source": [
    "# D27 Basic CSV Processing\n",
    "\n",
    "Comma Separated Values (CSV) files are plain text files which use specific format to store tabular data.\n",
    "\n",
    "* Each line of the file is a data record. \n",
    "* Each record consists of one or more fields, separated by commas.\n",
    "* Normally first line of the file gives table header.\n",
    "\n",
    "```\n",
    "year,sex,type_of_course,no_of_graduates\n",
    "1993,Males,Humanities & Social Sciences,481\n",
    "1993,Males,Mass Communication,na\n",
    "1993,Males,Accountancy,295\n",
    "1993,Males,Business & Administration,282\n",
    "```\n",
    "\n",
    "## D27.1 Why Use CSV?\n",
    "\n",
    "* CSV is a common format for data exchange because it is simple and compact.\n",
    "* Most relational databases provides tools to import and export CSV files.\n",
    "* CSV files can be easily opened in Excel.\n",
    "\n",
    "## D27.2 Read File into List\n",
    "\n",
    "* Read the csv file using `readlines()` method, which returns data in a list.\n",
    "* Use list slicing to remove header row\n",
    "* Use string `strip()` method to remove any surrounding white spaces (space, tab, new line characters)\n",
    "\n",
    "\n",
    "#### Example\n",
    "* Read `sample-sales-data.csv` file into a list.\n",
    "* Discard header row.\n",
    "* Strip any leading & trailing white space from each line. You might want to use the string `.strip()` method for this.\n",
    "* Print out first 3 items of the list."
   ]
  },
  {
   "cell_type": "code",
   "execution_count": 3,
   "metadata": {},
   "outputs": [
    {
     "data": {
      "text/plain": [
       "['2015-01-21,Streeplex,Hardware,11',\n",
       " '2015-01-09,Streeplex,Service,abc',\n",
       " '2015-01-06,Initech,Hardware,-17',\n",
       " '2015-01-02,Hooli,Hardware,',\n",
       " '2015-01-11,Hooli,Hardware,11',\n",
       " '2015-01-01,Acme Coporation,Software,18',\n",
       " '2015-01-24,Initech,Software,1',\n",
       " '2015-01-25,Initech,Service,6',\n",
       " '2015-01-13,Hooli,Service,7',\n",
       " '2015-01-03,Hooli,Service,19',\n",
       " '2015-01-16,Hooli,Hardware,17',\n",
       " '2015-01-16,Initech,Service,13',\n",
       " '2015-01-20,Acme Coporation,Hardware,12',\n",
       " '2015-01-26,Acme Coporation,Software,14',\n",
       " '2015-01-15,Acme Coporation,Service,16',\n",
       " '2015-01-06,Acme Coporation,Software,16',\n",
       " '2015-01-15,Mediacore,Hardware,7',\n",
       " '2015-01-27,Streeplex,Service,18',\n",
       " '2015-01-20,Streeplex,Software,13',\n",
       " '2015-01-16,Mediacore,Service,8',\n",
       " '2015-02-26,Streeplex,Service,4',\n",
       " '2015-02-16,Hooli,Software,10',\n",
       " '2015-02-03,Initech,Software,13',\n",
       " '2015-02-02,Hooli,Software,3',\n",
       " '2015-02-25,Initech,Service,10',\n",
       " '2015-02-05,Acme Coporation,Software,19',\n",
       " '2015-02-09,Streeplex,Service,19',\n",
       " '2015-02-11,Initech,Software,7',\n",
       " '2015-02-04,Acme Coporation,Hardware,14',\n",
       " '2015-02-09,Mediacore,Software,7',\n",
       " '2015-02-07,Acme Coporation,Hardware,1',\n",
       " '2015-02-11,Hooli,Software,4',\n",
       " '2015-02-26,Streeplex,Service,1',\n",
       " '2015-02-05,Hooli,Service,10',\n",
       " '2015-02-04,Streeplex,Software,13',\n",
       " '2015-02-19,Mediacore,Service,10',\n",
       " '2015-02-19,Mediacore,Hardware,16',\n",
       " '2015-02-02,Mediacore,Hardware,9',\n",
       " '2015-02-21,Mediacore,Software,3',\n",
       " '2015-02-21,Hooli,Hardware,3',\n",
       " '2015-03-22,Mediacore,Software,6',\n",
       " '2015-03-12,Initech,Service,19',\n",
       " '2015-03-22,Streeplex,Software,8',\n",
       " '2015-03-15,Hooli,Hardware,19',\n",
       " '2015-03-17,Hooli,Hardware,10',\n",
       " '2015-03-16,Mediacore,Software,3',\n",
       " '2015-03-25,Initech,Hardware,9',\n",
       " '2015-03-25,Streeplex,Hardware,12',\n",
       " '2015-03-26,Streeplex,Software,3',\n",
       " '2015-03-06,Mediacore,Software,17',\n",
       " '2015-03-22,Initech,Hardware,11',\n",
       " '2015-03-17,Hooli,Hardware,8',\n",
       " '2015-03-28,Acme Coporation,Service,5',\n",
       " '2015-03-13,Streeplex,Hardware,8',\n",
       " '2015-03-06,Mediacore,Software,17',\n",
       " '2015-03-13,Initech,Software,11',\n",
       " '2015-03-27,Mediacore,Software,6',\n",
       " '2015-03-21,Mediacore,Hardware,19',\n",
       " '2015-03-15,Initech,Hardware,18',\n",
       " '2015-03-13,Streeplex,Software,9']"
      ]
     },
     "execution_count": 3,
     "metadata": {},
     "output_type": "execute_result"
    }
   ],
   "source": [
    "with open('./resources/sample-sales-data.csv') as f:\n",
    "    x=f.readlines()\n",
    "    x=x[1:]\n",
    "    \n",
    "x = [i.strip() for i in x]\n",
    "x"
   ]
  },
  {
   "cell_type": "markdown",
   "metadata": {},
   "source": [
    "Each a row in csv file is a record. The record is delimited by comma `,` .\n",
    "- Use string `split(delimiter)` method to split the record into a list or a tuple.\n",
    "- Use multi-level indexing to get a cell value\n",
    "\n",
    "#### Example\n",
    "\n",
    "- Read the file into a list such that each record is represented as a tuple\n",
    "- Print out first 2 records in the list\n",
    "- Print out company name of 1st record"
   ]
  },
  {
   "cell_type": "code",
   "execution_count": null,
   "metadata": {},
   "outputs": [],
   "source": [
    "#YOUR_CODE_HERE"
   ]
  },
  {
   "cell_type": "markdown",
   "metadata": {},
   "source": [
    "## D27.3 Python `csv` Module\n",
    "\n",
    "While we could use the built-in `open()` function to work with CSV files in Python, there is a dedicated `csv` module that makes working with CSV files much easier. It contains following built-in convenient functions:\n",
    "\n",
    "* `csv.reader`\n",
    "* `csv.writer`\n",
    "* `csv.writer.writerow()`\n",
    "\n",
    "### D27.3.1 Read CSV Files using `csv.reader`\n",
    "\n",
    "After opening a CSV file, create a `csv.reader` object which returns a iterable object to process CSV data. Syntax is\n",
    "\n",
    ">```Python\n",
    ">csv.reader(your_file_here)\n",
    ">```\n",
    "\n",
    "* Each record is represented as a list.\n",
    "* All fields are `str` type.\n",
    "\n",
    "#### Example\n",
    "\n",
    "* Use `csv.reader` to read and print out all rows in `'olympics-medals-sample.csv'`.\n",
    "* Instead of printing out, save all rows in `'olympics-medals-sample.csv'` into a list `data`."
   ]
  },
  {
   "cell_type": "code",
   "execution_count": 4,
   "metadata": {},
   "outputs": [
    {
     "name": "stdout",
     "output_type": "stream",
     "text": [
      "[['Date', 'Company', 'Product', 'Units'], ['2015-01-21', 'Streeplex', 'Hardware', '11'], ['2015-01-09', 'Streeplex', 'Service', 'abc'], ['2015-01-06', 'Initech', 'Hardware', '-17'], ['2015-01-02', 'Hooli', 'Hardware', ''], ['2015-01-11', 'Hooli', 'Hardware', '11'], ['2015-01-01', 'Acme Coporation', 'Software', '18'], ['2015-01-24', 'Initech', 'Software', '1'], ['2015-01-25', 'Initech', 'Service', '6'], ['2015-01-13', 'Hooli', 'Service', '7'], ['2015-01-03', 'Hooli', 'Service', '19'], ['2015-01-16', 'Hooli', 'Hardware', '17'], ['2015-01-16', 'Initech', 'Service', '13'], ['2015-01-20', 'Acme Coporation', 'Hardware', '12'], ['2015-01-26', 'Acme Coporation', 'Software', '14'], ['2015-01-15', 'Acme Coporation', 'Service', '16'], ['2015-01-06', 'Acme Coporation', 'Software', '16'], ['2015-01-15', 'Mediacore', 'Hardware', '7'], ['2015-01-27', 'Streeplex', 'Service', '18'], ['2015-01-20', 'Streeplex', 'Software', '13'], ['2015-01-16', 'Mediacore', 'Service', '8'], ['2015-02-26', 'Streeplex', 'Service', '4'], ['2015-02-16', 'Hooli', 'Software', '10'], ['2015-02-03', 'Initech', 'Software', '13'], ['2015-02-02', 'Hooli', 'Software', '3'], ['2015-02-25', 'Initech', 'Service', '10'], ['2015-02-05', 'Acme Coporation', 'Software', '19'], ['2015-02-09', 'Streeplex', 'Service', '19'], ['2015-02-11', 'Initech', 'Software', '7'], ['2015-02-04', 'Acme Coporation', 'Hardware', '14'], ['2015-02-09', 'Mediacore', 'Software', '7'], ['2015-02-07', 'Acme Coporation', 'Hardware', '1'], ['2015-02-11', 'Hooli', 'Software', '4'], ['2015-02-26', 'Streeplex', 'Service', '1'], ['2015-02-05', 'Hooli', 'Service', '10'], ['2015-02-04', 'Streeplex', 'Software', '13'], ['2015-02-19', 'Mediacore', 'Service', '10'], ['2015-02-19', 'Mediacore', 'Hardware', '16'], ['2015-02-02', 'Mediacore', 'Hardware', '9'], ['2015-02-21', 'Mediacore', 'Software', '3'], ['2015-02-21', 'Hooli', 'Hardware', '3'], ['2015-03-22', 'Mediacore', 'Software', '6'], ['2015-03-12', 'Initech', 'Service', '19'], ['2015-03-22', 'Streeplex', 'Software', '8'], ['2015-03-15', 'Hooli', 'Hardware', '19'], ['2015-03-17', 'Hooli', 'Hardware', '10'], ['2015-03-16', 'Mediacore', 'Software', '3'], ['2015-03-25', 'Initech', 'Hardware', '9'], ['2015-03-25', 'Streeplex', 'Hardware', '12'], ['2015-03-26', 'Streeplex', 'Software', '3'], ['2015-03-06', 'Mediacore', 'Software', '17'], ['2015-03-22', 'Initech', 'Hardware', '11'], ['2015-03-17', 'Hooli', 'Hardware', '8'], ['2015-03-28', 'Acme Coporation', 'Service', '5'], ['2015-03-13', 'Streeplex', 'Hardware', '8'], ['2015-03-06', 'Mediacore', 'Software', '17'], ['2015-03-13', 'Initech', 'Software', '11'], ['2015-03-27', 'Mediacore', 'Software', '6'], ['2015-03-21', 'Mediacore', 'Hardware', '19'], ['2015-03-15', 'Initech', 'Hardware', '18'], ['2015-03-13', 'Streeplex', 'Software', '9']]\n"
     ]
    }
   ],
   "source": [
    "import csv\n",
    "\n",
    "with open ('./resources/sample-sales-data.csv') as f:\n",
    "    reader = csv.reader(f)\n",
    "    data = [row for row in reader]\n",
    "\n",
    "print(data)"
   ]
  },
  {
   "cell_type": "markdown",
   "metadata": {},
   "source": [
    "The character used to separate values is called a **delimiter**. Apart from comma (`,`), other delimiters include the tab (`\\t`), colon (`:`) and semi-colon (`;`) characters.\n",
    "\n",
    "For tab separated values, it is common to save it with extension `*.tsv`.\n",
    "\n",
    "#### Example\n",
    "* Use `csv.reader` to read file `'olympics-medals-sample.tsv'`; save both header and data in list."
   ]
  },
  {
   "cell_type": "code",
   "execution_count": 30,
   "metadata": {},
   "outputs": [
    {
     "name": "stdout",
     "output_type": "stream",
     "text": [
      "<_csv.reader object at 0x000001B9965CC9A0>\n",
      "['NOC', 'Country', 'Total', 'Medal']\n",
      "[['USA', 'United States', '2088', 'Gold'], ['URS', 'Soviet Union', '838', 'Gold'], ['GBR', 'United Kingdom', '498', 'Gold'], ['FRA', 'France', '378', 'Gold'], ['GER', 'Germany', '407', 'Gold'], ['AUS', 'Australia', '293', 'Gold']]\n"
     ]
    }
   ],
   "source": [
    "#YOUR_CODE_HERE\n",
    "\n",
    "with open ('./resources/olympics-medals-sample.tsv') as f:\n",
    "    reader = csv.reader(f, delimiter='\\t')\n",
    "    print(reader)\n",
    "    data = [row for row in reader]\n",
    "    header = data[0]\n",
    "    data = data[1:]\n",
    "\n",
    "print(header)\n",
    "print(data)"
   ]
  },
  {
   "cell_type": "markdown",
   "metadata": {},
   "source": [
    "The `csv.reader()` function only has one required argument, which is the file object, but it has a couple of other optional arguments:\n",
    "\n",
    "* `delimiter`: This argument specifies which delimiter the writer will use. It defaults to `','`, but you can set it to any other character.\n",
    "* `quotechar`: This specifies which character will be used for quoting. It defaults to `'\"'`\n",
    "* `escapechar`: This specifies the character that will be used to escape the delimiter if quoting is not being used. It defaults to nothing."
   ]
  },
  {
   "cell_type": "markdown",
   "metadata": {},
   "source": [
    "### D27.3.1 Write CSV Files using `csv.writer`\n",
    "\n",
    "A `csv.writer` can be used to write a CSV file. The `csv.writer()` function returns a `writer` object that converts the user's data into a delimited string and write to file using its `writerow()` function.\n",
    "\n",
    "The `newline` argument is set to '' when opening a file which the `csv.writer` will write each row in a line.\n",
    "\n",
    "#### Example\n",
    "* Use `csv.writer` to save following data into a csv file `'sample.csv'`.\n",
    "\n",
    ">``` text\n",
    ">[\"Symbol\", \"Name\", \"Price (Intraday)\"]\n",
    ">[\"TMVWY\", \"TeamViewer AG\", 21.05]\n",
    ">[\"AXSM\", \"Axsome Therapeutics, Inc.\", 88.87]\n",
    ">[\"SAGE\", \"Sage Therapeutics, Inc.\",\t53.36]\n",
    ">```"
   ]
  },
  {
   "cell_type": "code",
   "execution_count": 32,
   "metadata": {},
   "outputs": [],
   "source": [
    "#YOUR_CODE_HERE\n",
    "\n",
    "data=[[\"Symbol\", \"Name\", \"Price (Intraday)\"],\n",
    "[\"TMVWY\", \"TeamViewer AG\", 21.05],\n",
    "[\"AXSM\", \"Axsome Therapeutics, Inc.\", 88.87],\n",
    "[\"SAGE\", \"Sage Therapeutics, Inc.\",\t53.36]]\n",
    "\n",
    "with open('sample.csv','w',newline='') as f:\n",
    "    writer=csv.writer(f)\n",
    "    for row in data:\n",
    "        writer.writerow(row)"
   ]
  },
  {
   "cell_type": "markdown",
   "metadata": {},
   "source": [
    "The `csv.writer()` function has only 1 required parameter, the file object. You can also add following optional keyword arguments:\n",
    "\n",
    "* `delimiter`: This argument specifies which delimiter the writer will use. It defaults to ',', but you can set it to any other character.\n",
    "* `quotechar`: This specifies which character will be used for quoting. It defaults to '\"'\n",
    "* `escapechar`: This specifies the character that will be used to escape the delimiter if quoting is not being used. It defaults to nothing.\n",
    "\n",
    "The `quoting` argument: this specifies which fields should be quoted, there are a few options:\n",
    "* `csv.QUOTE_ALL`: All fields will be quoted\n",
    "* `csv.QUOTE_MINIMAL`: Only fields containing the delimiter or quotechar will be quoted.\n",
    "* `csv.QUOTE_NONNUMERIC`: The writer will quote all fields containing text and it converts all numbers to float values\n",
    "* `csv.QUOTE_NONE`: No fields will be quoted, the writer instead escapes delimiters. If you use this value, you also need to provide the escapechar argument.\n",
    "\n",
    "### Example"
   ]
  },
  {
   "cell_type": "code",
   "execution_count": 11,
   "metadata": {},
   "outputs": [],
   "source": [
    "import csv\n",
    "with open('stock_sample.tsv', 'w', newline='') as file:\n",
    "    writer = csv.writer(\n",
    "        file,\n",
    "        delimiter='\\t',\n",
    "        quotechar='|',\n",
    "        quoting=csv.QUOTE_ALL\n",
    "    )\n",
    "    writer.writerow(['stock', 'price', 'cost', 'profit'])\n",
    "    writer.writerow(['21', '121.34', '45.34', '76'])"
   ]
  },
  {
   "cell_type": "markdown",
   "metadata": {},
   "source": [
    "The `writerows()` method of `csv.writer` allow you to write 2-dimensional list to a CSV file.\n",
    "\n",
    "#### Example\n",
    "\n",
    "Save following data to a csv file `stock_sample.csv` using `csv.writer`.\n",
    "\n",
    "```\n",
    "[['stock', 'price', 'cost', 'profit'], ['21', '121.34', '45.34', '76']]\n",
    "```"
   ]
  },
  {
   "cell_type": "code",
   "execution_count": 17,
   "metadata": {},
   "outputs": [],
   "source": [
    "import csv\n",
    "\n",
    "ls=[['stock', 'price', 'cost', 'profit'], [21, 121.34, 45.34, 76]]\n",
    "\n",
    "with open('stock_sample.csv', 'w', newline='') as file:\n",
    "    writer = csv.writer(\n",
    "        file,\n",
    "        delimiter=',',\n",
    "        quotechar='|',\n",
    "        quoting=csv.QUOTE_NONNUMERIC\n",
    "    )\n",
    "    writer.writerows(ls)"
   ]
  },
  {
   "cell_type": "markdown",
   "metadata": {},
   "source": [
    "## Exercise 8.6\n",
    "\n",
    "Download the file: https://archive.ics.uci.edu/ml/machine-learning-databases/iris/iris.data\n",
    "\n",
    "Write code to read and store the contents of this comma separated file within a 2D List, $L$, such that $L[i]$ corresponds to the sample entry on the $i$-th line of the file, and $L[i][j]$ corresponds to the $j$-th value of the $i$-th entry.\n",
    "Print the contents of the 2D List to verify that you have stored the contents correctly."
   ]
  },
  {
   "cell_type": "code",
   "execution_count": null,
   "metadata": {},
   "outputs": [],
   "source": [
    "#YOUR_CODE_HERE"
   ]
  },
  {
   "cell_type": "markdown",
   "metadata": {},
   "source": [
    "# D27.3 Common Things to do with CSV\n",
    "\n",
    "## D27.3.1 Load Data into List\n",
    "\n",
    "#### Example\n",
    "\n",
    "Read `sample-sales-data.csv` file; save its header into variable `header` and its data into variable `data`."
   ]
  },
  {
   "cell_type": "code",
   "execution_count": null,
   "metadata": {},
   "outputs": [],
   "source": [
    "#YOUR_CODE_HERE"
   ]
  },
  {
   "cell_type": "markdown",
   "metadata": {},
   "source": [
    "## D27.3.2 Find Distinct Values\n",
    "\n",
    "You can use `set()` constructor function to find distinct value of a column.\n",
    "\n",
    "#### Example\n",
    "\n",
    "* List all the companies contained in the file `sample-sales-data.csv`."
   ]
  },
  {
   "cell_type": "code",
   "execution_count": null,
   "metadata": {},
   "outputs": [],
   "source": [
    "#YOUR_CODE_HERE"
   ]
  },
  {
   "cell_type": "markdown",
   "metadata": {},
   "source": [
    "## D27.3.3 Filter Data\n",
    "\n",
    "The list can be filtered based on condition(s) by using: \n",
    "* `for` loop, or\n",
    "* list comprehension.\n",
    "\n",
    "#### Example\n",
    "* Find all sales records by company `Initech` and print out first 3 records.\n",
    "* Find all sales done on date '2015-01-06'."
   ]
  },
  {
   "cell_type": "code",
   "execution_count": null,
   "metadata": {},
   "outputs": [],
   "source": [
    "#YOUR_CODE_HERE"
   ]
  },
  {
   "cell_type": "markdown",
   "metadata": {},
   "source": [
    "## D27.3.4 Filter Data\n",
    "\n",
    "Both `isdigit()` and `isnumeric()` can be used to check a string which can be converted to **a positive integer**, e.g. `'1234'`.\n",
    "* But it will return `False` for either `'-1234'` or `'12.34'`\n",
    "\n",
    "#### Example"
   ]
  },
  {
   "cell_type": "code",
   "execution_count": 8,
   "metadata": {},
   "outputs": [
    {
     "name": "stdout",
     "output_type": "stream",
     "text": [
      "True True\n",
      "False False\n",
      "False False\n",
      "False True\n"
     ]
    }
   ],
   "source": [
    "print('1234'.isdigit(),'1234'.isnumeric())\n",
    "print('-1234'.isdigit(),'-1234'.isnumeric())\n",
    "print('12.34'.isdigit(),'12.34'.isnumeric())\n",
    "print('一二三四五'.isdigit(),'一二三四五'.isnumeric())"
   ]
  },
  {
   "cell_type": "markdown",
   "metadata": {},
   "source": [
    "## D27.3.5 Compute on Records\n",
    "\n",
    "You can perform simple data analysis on the data:\n",
    "* `sum()`, `count()`, `min()`, `max()` etc.\n",
    "* Remember to convert data to numerical value for computation or comparison.\n",
    "\n",
    "#### Example\n",
    "* Remove records with invalid Units value.\n",
    "* Find total units of sales on \"Hardware\"."
   ]
  },
  {
   "cell_type": "code",
   "execution_count": null,
   "metadata": {},
   "outputs": [],
   "source": [
    "#YOUR_CODE_HERE"
   ]
  },
  {
   "cell_type": "markdown",
   "metadata": {},
   "source": [
    "#### Exercise D27.1\n",
    "\n",
    "A log of a certain boss fight from a certain game is stored inside the file `log_ex8.csv` under the folder `resources`. The csv file contains the following header.\n",
    "\n",
    "- `'Parse%'`  refers to the performance of the character relative to all other players in the world,\n",
    "- `'Name'` refers to the name of the character in the game,\n",
    "- `'Amount'`  refers to the amount of damage\n",
    "- `'iLvL'`  refers to the quality of the equipment the character is using,\n",
    "- `'iLvL%'` refers to the performance of the player relative to players with similar quality of equipment,\n",
    "- `'Active Time'` refers to the percentage of time spend by the character doing damage during the fight.\n",
    "- `'DPS'` refers to the amount of damage done per second in the fight.\n",
    "\n",
    "Your task is to:\n",
    "\n",
    "- Store the contents of the csv file into a list `records` where each element in the list is itself a list where the elements correspond to the `Parse%`,`Name`,`Amount`,`iLvL`,`iLvL%`,`Active Time`,`DPS` values for each line in the csv file.\n",
    "- Create an empty list called `player_name`.\n",
    "- iterate over each element of `records` appending the player names to `player_name`.\n",
    "- Print each name in `player_name` in alphabetical order."
   ]
  },
  {
   "cell_type": "code",
   "execution_count": null,
   "metadata": {},
   "outputs": [],
   "source": [
    "#YOUR_CODE_HERE"
   ]
  }
 ],
 "metadata": {
  "kernelspec": {
   "display_name": "Python 3.10.2 64-bit",
   "language": "python",
   "name": "python3"
  },
  "language_info": {
   "codemirror_mode": {
    "name": "ipython",
    "version": 3
   },
   "file_extension": ".py",
   "mimetype": "text/x-python",
   "name": "python",
   "nbconvert_exporter": "python",
   "pygments_lexer": "ipython3",
   "version": "3.10.2"
  },
  "metadata": {
   "interpreter": {
    "hash": "dcacb0086e9a4f4eabd41c33bf4faac5ea0a3337ed3f5eff0680afa930572c04"
   }
  },
  "orig_nbformat": 2,
  "vscode": {
   "interpreter": {
    "hash": "a42ccb73e7d9bfdf27e036f1d2b8b681e55fc0743cc5586bc2474d4a60f4b886"
   }
  }
 },
 "nbformat": 4,
 "nbformat_minor": 2
}

{
 "cells": [
  {
   "cell_type": "markdown",
   "metadata": {},
   "source": [
    "# Learning Objectives\n",
    "\n",
    "- [ ]  2.2.2 Use common library functions for input/output, strings and mathematical operations.\n",
    "\n",
    "[![Open In Colab](https://colab.research.google.com/assets/colab-badge.svg)](https://colab.research.google.com/github/njc-cz2-2021/Materials/blob/main/365-Days-of-H2-Computing/Day_028.ipynb)"
   ]
  },
  {
   "cell_type": "markdown",
   "metadata": {},
   "source": [
    "# D28 Basic CSV Processing\n",
    "\n",
    "CSV files are plain text files which use specific format to store tabular data. CSV stands for \"Comma Separated Values\".\n",
    "\n",
    "* Each line of the file is a data record. \n",
    "* Each record consists of one or more fields, separated by commas.\n",
    "* Normally first line of the file gives table header.\n",
    "\n",
    ">``` text\n",
    ">year, sex, type_of_course, no_of_graduates\n",
    ">1993, Males, Humanities & Social Sciences, 481\n",
    ">1993, Males, Mass Communication, na\n",
    ">1993, Males, Accountancy, 295\n",
    ">1993, Males, Business & Administration, 282\n",
    ">```\n",
    "\n",
    "## D28.1 Why Use CSV?\n",
    "\n",
    "* CSV is a common format for data exchange because it is simple and compact.\n",
    "* Most relational databases provides tools to import and export CSV files.\n",
    "* CSV files can be easily opened in Excel.\n",
    "\n",
    "## D28.2 Read File into List\n",
    "\n",
    "* Read the csv file using `readlines()` method, which returns data in a list.\n",
    "* Use list slicing to remove header row\n",
    "* Use string `strip()` method to remove any surrounding white spaces (space, tab, new line characters)\n",
    "\n",
    "\n",
    "#### Example\n",
    "* Read `sample-sales-data.csv` file into a list.\n",
    "* Discard header row.\n",
    "* Strip any leading & trailing white space from each line. You might want to use the string `.strip()` method for this.\n",
    "* Print out first 3 items of the list.\n",
    "\n",
    ">``` python\n",
    ">with open('./resources/sample-sales-data.csv') as f:\n",
    ">    x = f.readlines()\n",
    ">    x = x[1 : ]\n",
    ">    \n",
    ">x = [i.strip() for i in x]\n",
    ">x\n",
    ">```"
   ]
  },
  {
   "cell_type": "code",
   "execution_count": null,
   "metadata": {},
   "outputs": [],
   "source": [
    "with open('./resources/sample-sales-data.csv') as f:\n",
    "    x=f.readlines()\n",
    "    x=x[1:]\n",
    "    \n",
    "x = [i.strip() for i in x]\n",
    "x"
   ]
  },
  {
   "cell_type": "markdown",
   "metadata": {},
   "source": [
    "Each a row in csv file is a record. The record is delimited by comma `,` .\n",
    "- Use string `split(delimiter)` method to split the record into a list or a tuple.\n",
    "- Use multi-level indexing to get a cell value\n",
    "\n",
    "### Exercise \n",
    "\n",
    "- Read the file into a list such that each record is represented as a tuple\n",
    "- Print out first 2 records in the list\n",
    "- Print out company name of 1st record"
   ]
  },
  {
   "cell_type": "code",
   "execution_count": null,
   "metadata": {},
   "outputs": [],
   "source": [
    "#YOUR_CODE_HERE"
   ]
  },
  {
   "cell_type": "markdown",
   "metadata": {},
   "source": [
    "## D28.3 Python `csv` Module\n",
    "\n",
    "While we could use the built-in `open()` function to work with CSV files in Python, there is a dedicated `csv` module that makes working with CSV files much easier. It contains following built-in convenient functions:\n",
    "\n",
    "* `csv.reader`\n",
    "* `csv.writer`\n",
    "* `csv.writer.writerow()`\n",
    "\n",
    "### D28.3.1 Read CSV Files using `csv.reader`\n",
    "\n",
    "After opening a CSV file, create a `csv.reader` object which returns a iterable object to process CSV data. Syntax is\n",
    "\n",
    ">``` python\n",
    ">csv.reader(your_file_here)\n",
    ">```\n",
    "\n",
    "* Each record is represented as a list.\n",
    "* All fields are `str` type.\n",
    "\n",
    "#### Example\n",
    "\n",
    "* Use `csv.reader` to read and print out all rows in `'olympics-medals-sample.csv'`.\n",
    "* Instead of printing out, save all rows in `'olympics-medals-sample.csv'` into a list `data`.\n",
    "\n",
    ">``` python\n",
    ">import csv\n",
    ">\n",
    ">with open ('./resources/sample-sales-data.csv') as f:\n",
    ">    reader = csv.reader(f)\n",
    ">    data = [row for row in reader]\n",
    ">\n",
    ">print(data)\n",
    ">```"
   ]
  },
  {
   "cell_type": "markdown",
   "metadata": {},
   "source": [
    "The character used to separate values is called a **delimiter**. Apart from comma (`,`), other delimiters include the tab (`\\t`), colon (`:`) and semi-colon (`;`) characters.\n",
    "\n",
    "For tab separated values, it is common to save it with extension `*.tsv`.\n",
    "\n",
    "#### Exercise\n",
    "* Use `csv.reader` to read file `'olympics-medals-sample.tsv'`; save both header and data in list."
   ]
  },
  {
   "cell_type": "code",
   "execution_count": null,
   "metadata": {},
   "outputs": [],
   "source": [
    "#YOUR_CODE_HERE"
   ]
  },
  {
   "cell_type": "markdown",
   "metadata": {},
   "source": [
    "The `csv.reader()` function only has one required argument, which is the file object, but it has a couple of other optional arguments:\n",
    "\n",
    "* `delimiter`: This argument specifies which delimiter the writer will use. It defaults to `','`, but you can set it to any other character.\n",
    "* `quotechar`: This specifies which character will be used for quoting. It defaults to `'\"'`\n",
    "* `escapechar`: This specifies the character that will be used to escape the delimiter if quoting is not being used. It defaults to nothing."
   ]
  },
  {
   "cell_type": "markdown",
   "metadata": {},
   "source": [
    "### D28.3.2 Write CSV Files using `csv.writer`\n",
    "\n",
    "A `csv.writer` can be used to write a CSV file. The `csv.writer()` function returns a `writer` object that converts the user's data into a delimited string and write to file using its `writerow()` function.\n",
    "\n",
    "The `newline` argument is set to '' when opening a file which the `csv.writer` will write each row in a line.\n",
    "\n",
    "**Exercise:**\n",
    "* Use `csv.writer` to save following data into a csv file `'sample.csv'`.\n",
    "\n",
    ">``` text\n",
    ">[\"Symbol\", \"Name\", \"Price (Intraday)\"]\n",
    ">[\"TMVWY\", \"TeamViewer AG\", 21.05]\n",
    ">[\"AXSM\", \"Axsome Therapeutics, Inc.\", 88.87]\n",
    ">[\"SAGE\", \"Sage Therapeutics, Inc.\",\t53.36]\n",
    ">```"
   ]
  },
  {
   "cell_type": "code",
   "execution_count": null,
   "metadata": {},
   "outputs": [],
   "source": [
    "#YOUR_CODE_HERE"
   ]
  },
  {
   "cell_type": "markdown",
   "metadata": {},
   "source": [
    "The `csv.writer()` function has only 1 required parameter, the file object. You can also add following optional keyword arguments:\n",
    "\n",
    "* `delimiter`: This argument specifies which delimiter the writer will use. It defaults to ',', but you can set it to any other character.\n",
    "* `quotechar`: This specifies which character will be used for quoting. It defaults to '\"'\n",
    "* `escapechar`: This specifies the character that will be used to escape the delimiter if quoting is not being used. It defaults to nothing.\n",
    "\n",
    "The `quoting` argument: this specifies which fields should be quoted, there are a few options:\n",
    "* `csv.QUOTE_ALL`: All fields will be quoted\n",
    "* `csv.QUOTE_MINIMAL`: Only fields containing the delimiter or quotechar will be quoted.\n",
    "* `csv.QUOTE_NONNUMERIC`: The writer will quote all fields containing text and it converts all numbers to float values\n",
    "* `csv.QUOTE_NONE`: No fields will be quoted, the writer instead escapes delimiters. If you use this value, you also need to provide the escapechar argument.\n",
    "\n",
    "#### Example\n",
    ">``` python\n",
    ">import csv\n",
    ">with open('stock_sample.tsv', 'w', newline = '') as file:\n",
    ">    writer = csv.writer(\n",
    ">        file,\n",
    ">        delimiter = '\\t',\n",
    ">        quotechar = '|',\n",
    ">        quoting = csv.QUOTE_ALL\n",
    ">    )\n",
    ">    writer.writerow(['stock', 'price', 'cost', 'profit'])\n",
    ">    writer.writerow(['21', '121.34', '45.34', '76'])"
   ]
  },
  {
   "cell_type": "markdown",
   "metadata": {},
   "source": [
    "The `writerows()` method of `csv.writer` allow you to write 2-dimensional list to a CSV file.\n",
    "\n",
    "#### Exercise\n",
    "\n",
    "Save following data to a csv file `stock_sample.csv` using `csv.writer`.\n",
    "\n",
    ">``` python\n",
    ">[['stock', 'price', 'cost', 'profit'], ['21', '121.34', '45.34', '76']]\n",
    ">```"
   ]
  },
  {
   "cell_type": "code",
   "execution_count": null,
   "metadata": {},
   "outputs": [],
   "source": [
    "#YOUR_CODE_HERE"
   ]
  },
  {
   "cell_type": "markdown",
   "metadata": {},
   "source": [
    "## D28.3 Common Things to do with CSV\n",
    "\n",
    "### D28.3.1 Load Data into List\n",
    "\n",
    "#### Exercise\n",
    "\n",
    "Read `sample-sales-data.csv` file; save its header into variable `header` and its data into variable `data`."
   ]
  },
  {
   "cell_type": "code",
   "execution_count": null,
   "metadata": {},
   "outputs": [],
   "source": [
    "#YOUR_CODE_HERE"
   ]
  },
  {
   "cell_type": "markdown",
   "metadata": {},
   "source": [
    "### D28.3.2 Find Distinct Values\n",
    "\n",
    "You can use `set()` constructor function to find distinct value of a column.\n",
    "\n",
    "#### Exercise\n",
    "\n",
    "* List all the companies contained in the file `sample-sales-data.csv`."
   ]
  },
  {
   "cell_type": "code",
   "execution_count": null,
   "metadata": {},
   "outputs": [],
   "source": [
    "#YOUR_CODE_HERE"
   ]
  },
  {
   "cell_type": "markdown",
   "metadata": {},
   "source": [
    "### D28.3.3 Filter Data\n",
    "\n",
    "The list can be filtered based on condition(s) by using: \n",
    "* `for` loop, or\n",
    "* list comprehension.\n",
    "\n",
    "#### Exercise\n",
    "* Find all sales records by company `Initech` and print out first 3 records.\n",
    "* Find all sales done on date '2015-01-06'."
   ]
  },
  {
   "cell_type": "code",
   "execution_count": null,
   "metadata": {},
   "outputs": [],
   "source": [
    "#YOUR_CODE_HERE"
   ]
  },
  {
   "cell_type": "markdown",
   "metadata": {},
   "source": [
    "### D28.3.4 Filter Data\n",
    "\n",
    "Both `isdigit()` and `isnumeric()` can be used to check a string which can be converted to **a positive integer**, e.g. `'1234'`.\n",
    "* But it will return `False` for either `'-1234'` or `'12.34'`\n",
    "\n",
    "#### Example\n",
    ">``` python\n",
    ">print('1234'.isdigit(),'1234'.isnumeric())\n",
    ">print('-1234'.isdigit(),'-1234'.isnumeric())\n",
    ">print('12.34'.isdigit(),'12.34'.isnumeric())\n",
    ">print('一二三四五'.isdigit(),'一二三四五'.isnumeric())\n",
    ">```"
   ]
  },
  {
   "cell_type": "markdown",
   "metadata": {},
   "source": [
    "### D28.3.5 Compute on Records\n",
    "\n",
    "You can perform simple data analysis on the data:\n",
    "* `sum()`, `count()`, `min()`, `max()` etc.\n",
    "* Remember to convert data to numerical value for computation or comparison.\n",
    "\n",
    "#### Exercise\n",
    "* Remove records with invalid Units value.\n",
    "* Find total units of sales on \"Hardware\"."
   ]
  },
  {
   "cell_type": "code",
   "execution_count": null,
   "metadata": {},
   "outputs": [],
   "source": [
    "#YOUR_CODE_HERE"
   ]
  }
 ],
 "metadata": {
  "kernelspec": {
   "display_name": "Python 3.10.2 64-bit",
   "language": "python",
   "name": "python3"
  },
  "language_info": {
   "codemirror_mode": {
    "name": "ipython",
    "version": 3
   },
   "file_extension": ".py",
   "mimetype": "text/x-python",
   "name": "python",
   "nbconvert_exporter": "python",
   "pygments_lexer": "ipython3",
   "version": "3.10.2"
  },
  "metadata": {
   "interpreter": {
    "hash": "dcacb0086e9a4f4eabd41c33bf4faac5ea0a3337ed3f5eff0680afa930572c04"
   }
  },
  "orig_nbformat": 2,
  "vscode": {
   "interpreter": {
    "hash": "a42ccb73e7d9bfdf27e036f1d2b8b681e55fc0743cc5586bc2474d4a60f4b886"
   }
  }
 },
 "nbformat": 4,
 "nbformat_minor": 2
}

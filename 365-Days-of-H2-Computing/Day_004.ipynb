{
 "cells": [
  {
   "cell_type": "markdown",
   "metadata": {},
   "source": [
    "# Learning Objectives\n",
    "\n",
    "- [ ]  2.2.3 Apply the fundamental programming constructs to control the flow of program execution:\n",
    "     * Sequence\n",
    "     * Selection\n",
    "     * Iteration \n",
    "\n",
    "[![Open In Colab](https://colab.research.google.com/assets/colab-badge.svg)](https://colab.research.google.com/github/njc-cz2-2021/Materials/blob/main/365-Days-of-H2-Computing/Day_004.ipynb)\n",
    "\n",
    "# References\n",
    "\n",
    "1. https://realpython.com/python-while-loop/#the-python-break-and-continue-statements"
   ]
  },
  {
   "cell_type": "markdown",
   "metadata": {},
   "source": [
    "## D4.1 Programming Constructs : Iteration\n",
    "\n",
    "The last programming construct is the iteration construct, which allows us to specify loops.\n",
    "\n",
    "Often, we will notice that our code requires the execution of similar repeated steps.\n",
    "\n",
    "The iteration, or loop construct allows us to automate repeated steps. More specifically, iteration is the act of repeating a process to achieve a specific end goal. When iteration is used, the sequence/set of instructions within the loop will keep repeating until a certain condition/requirement has been reached, or is no longer satisfied. Each repetition is also known as an iteration. The results of one iteration are used as the starting point for the next iteration.\n",
    "\n",
    "Iteration usually involves the use of loops. Most commonly used loops include:\n",
    "\n",
    "1. **For** loops : Loops with an explicit counter for every iteration. This allows the body of the `for` loop code to know about the sequencing (i.e. index number) of the iteration. \n",
    "2. **While-Do** loops : Loops which continually execute a statement while a particular expression (of a condition/set of conditions) is true. It is executed zero or more times. \n",
    "3. **Do-While** (or Repeat-Until) loops : Similar to while-do loops, except the expression is evaluated at the end. Hence, the block of code is executed at once, then only repeats when the specified condition or set of conditions is met. (Not in Python)\n",
    "\n",
    "In Python, the `for` and `while` loops follow the structure below:\n",
    "\n",
    ">```python\n",
    ">for index in <iterable>:\n",
    ">    <action_here>\n",
    ">\n",
    ">while <condition>:\n",
    ">    <action_here>\n",
    ">```"
   ]
  },
  {
   "cell_type": "markdown",
   "metadata": {},
   "source": [
    "In Python, lists and strings are `iterable` objects. \n",
    "\n",
    "For example, suppose we have the list `[1,2,3,4,5]`. We can print all the elements of the list line by line by using iteration."
   ]
  },
  {
   "cell_type": "code",
   "execution_count": null,
   "metadata": {},
   "outputs": [],
   "source": [
    "l = [1,2,3,4,5]\n",
    "\n",
    "# for loop approach\n",
    "for elem in l:\n",
    "    print(elem)\n",
    "\n",
    "# while loop approach\n",
    "n = len(l)\n",
    "\n",
    "i = 0\n",
    "while i < n:\n",
    "    print(l[i])\n",
    "    i += 1 "
   ]
  },
  {
   "cell_type": "markdown",
   "metadata": {},
   "source": [
    "Another example of an `iterable` object in Python is `range`. The syntax is `range(start,end,step)` and it will give an iterable that starts from `start` with the highest being `end - 1` (*note this*). `step` is an optional argument that specify how much the increment from `start` is. By default, `step = 1`.\n",
    "\n",
    "In Python, we can also use `break` and `continue` statements inside the loops to terminate a loop iteration halfway.\n",
    "- the `break` statement stops the loop iteration **completely**, while\n",
    "- the `continue` statement terminates the current loop iteration but goes back to check the condition if the rest of the iteration could be carried out."
   ]
  },
  {
   "cell_type": "markdown",
   "metadata": {},
   "source": [
    "#### Exercise D4.1\n",
    "\n",
    "What is the output for each of the following pieces of code?\n",
    "\n",
    "1. Code 1\n",
    "\n",
    "    >```python\n",
    "    >num = 10  \t\n",
    "    >while num > 3:\n",
    "    >   print(num) \n",
    "    >   num = num – 1\n",
    "    >```\n",
    "\n",
    "2. Code 2\n",
    "\n",
    "    >```python\n",
    "    >divisor = 2  \t\n",
    "    >for i in range(0, 10, 2):  \t \t\n",
    "    >   print(i // divisor)\n",
    "    >```\n",
    "\n",
    "3. Code 3\n",
    "\n",
    "    >```python\n",
    "    >num = 10  \t\n",
    "    >while True:  \t\t\n",
    "    >   if num < 7: \n",
    "    >       break  \t \t\t\n",
    "    >   print(num) \n",
    "    >   num -= 1\n",
    "    >```\n",
    "\n",
    "4. Code 4\n",
    "\n",
    "    >```python\n",
    "    >count = 0  \t\n",
    "    >for letter in \"Snow!\": \n",
    "    >   print(\"Letter #\" + str(count), \" is \", letter)\n",
    "    >   count += 1\n",
    "    >```"
   ]
  },
  {
   "cell_type": "code",
   "execution_count": null,
   "metadata": {},
   "outputs": [],
   "source": [
    "# YOUR ANSWER HERE"
   ]
  },
  {
   "cell_type": "markdown",
   "metadata": {},
   "source": [
    "#### Exercise D4.2\n",
    "Write a program that helps the user to print each character in a given string.\n",
    "\n",
    "Example interaction:\n",
    "\n",
    ">```text\n",
    ">Please enter a string: abcdef \n",
    ">a\n",
    ">b\n",
    ">c\n",
    ">d\n",
    ">e\n",
    ">f\n",
    ">```"
   ]
  },
  {
   "cell_type": "code",
   "execution_count": null,
   "metadata": {},
   "outputs": [],
   "source": [
    "# YOUR ANSWER HERE"
   ]
  },
  {
   "cell_type": "markdown",
   "metadata": {},
   "source": [
    "#### Exercise D4.3\n",
    "The Kingdom of Zumbania recently banned the number 7. \n",
    "- Print all the numbers that is a multiple of 7.\n",
    "- Find the sum of all the numbers from 1 to 50 (inclusive) are neither multiples of 7 nor has 7 in it? "
   ]
  },
  {
   "cell_type": "code",
   "execution_count": null,
   "metadata": {},
   "outputs": [],
   "source": [
    "# YOUR ANSWER HERE"
   ]
  },
  {
   "cell_type": "markdown",
   "metadata": {},
   "source": [
    "#### Exercise D4.4\n",
    "Show that for any integer $n$, $n^5$ and $n$ always have the same last digit."
   ]
  },
  {
   "cell_type": "code",
   "execution_count": null,
   "metadata": {},
   "outputs": [],
   "source": [
    "# YOUR ANSWER HERE"
   ]
  }
 ],
 "metadata": {
  "kernelspec": {
   "display_name": "Python 3",
   "language": "python",
   "name": "python3"
  },
  "language_info": {
   "codemirror_mode": {
    "name": "ipython",
    "version": 3
   },
   "file_extension": ".py",
   "mimetype": "text/x-python",
   "name": "python",
   "nbconvert_exporter": "python",
   "pygments_lexer": "ipython3",
   "version": "3.12.1"
  }
 },
 "nbformat": 4,
 "nbformat_minor": 2
}

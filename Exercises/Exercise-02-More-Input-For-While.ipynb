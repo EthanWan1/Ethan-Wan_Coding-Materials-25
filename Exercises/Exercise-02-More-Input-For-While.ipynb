{
 "cells": [
  {
   "attachments": {},
   "cell_type": "markdown",
   "metadata": {},
   "source": [
    "# Exercise 2\n",
    "\n",
    "Related Notes:\n",
    "- Chapter_01_Data_Types\n",
    "- Chapter_02_Programming_Constructs\n",
    "\n",
    "[![Open In Colab](https://colab.research.google.com/assets/colab-badge.svg)](https://colab.research.google.com/github/njc-cz2-2021/Materials/blob/main/Exercises/Exercise-02-More-Input-For-While.ipynb) "
   ]
  },
  {
   "attachments": {},
   "cell_type": "markdown",
   "metadata": {},
   "source": [
    "## Exercise 2.1 Power\n",
    " \n",
    "Write a program that prints out the first $m$ numbers that can be written as a positive integer taken to the power $n$. \n",
    "\n",
    "Example interaction: \n",
    "\n",
    ">```text\n",
    ">Input the number of terms, m: 5 \n",
    ">Input the n-th power: 3 \n",
    ">1\n",
    ">8\n",
    ">27\n",
    ">64\n",
    ">125\n",
    ">```"
   ]
  },
  {
   "cell_type": "code",
   "execution_count": null,
   "metadata": {},
   "outputs": [],
   "source": [
    "#YOUR CODE HERE"
   ]
  },
  {
   "cell_type": "markdown",
   "metadata": {},
   "source": [
    "## Exercise 2.2 Guess The Secret Number\n",
    " \n",
    "Write a program that stores a secret integer in a variable. The user has to guess the secret integer, the program should loop until they get it right.\n",
    "\n",
    "The problem: \n",
    "-   Decide on a secret integer between 1 and 100 inclusive yourself.\n",
    "-\tRequest an integer from the user. \n",
    "-\tif the user inputted a value that is too high, print 'Your number is too high. Try again.' and the program loops\n",
    "-   if the user inputted a value that is too low, print 'Your number is too low. Try again.' and the program loops\n",
    "-   if the user inputted a value that is the same as the secret integer, print 'Congratulations. You guessed correctly.' and the program ends.\n",
    "\n",
    "Example interaction: \n",
    "\n",
    ">```text\n",
    ">#Secret number is 31\n",
    ">Input a quantity: 37 \n",
    ">Your number is too high. Try again. \n",
    ">Input a quantity: 25 \n",
    ">Your number is too low. Try again.\n",
    ">Input a quantity: 31 \n",
    ">Congratulations. You guessed correctly.\n",
    ">```"
   ]
  },
  {
   "cell_type": "code",
   "execution_count": null,
   "metadata": {},
   "outputs": [],
   "source": [
    "#YOUR CODE HERE"
   ]
  },
  {
   "cell_type": "markdown",
   "metadata": {},
   "source": [
    "## Exercise 2.3\n",
    "\n",
    "In mathematics, a **geometric sequence** is a sequence of real numbers \n",
    "$$u_1,u_2,\\cdots, u_n$$\n",
    "such that the ratio between two consecutive terms is constant, i.e. $\\frac{u_{n+1}}{u_n}=r$ for some constant $r\\in \\mathbb{R}\\backslash \\{0,1\\}$, called the **common ratio** and $n\\geq 1$.\n",
    "\n",
    "For example, the sequence $2,6,18,54,162,\\dots$ is an geometric sequence with first term $2$ and common ratio $3$.\n",
    "\n",
    "Write a program to generate the first $n$ terms of an geometric sequence with a user defined first term $a$ and common ratio $r$.\n",
    "\n",
    "The problem: \n",
    "- Request a numeric input from the user to be used as the first term.  Let us denote this input as `first_term`.\n",
    "- Request a numeric input from the user to be used as the common difference.  Let us denote this input as `common_ratio`.\n",
    "- Request an integer input from the user for the number of terms.  Let us denote this input as `number_of_terms`.\n",
    "- Print out the sequence up to the $n$th term.\n",
    "\n",
    "Example interaction: \n",
    "\n",
    ">```text\n",
    ">Please input the first term in the geometric sequence:\n",
    ">2\n",
    ">Please input the common ratio:\n",
    ">3\n",
    ">Please input the number of terms:\n",
    ">5\n",
    ">The first 5 terms of the geometric sequence are:\n",
    ">2\n",
    ">6\n",
    ">18\n",
    ">54\n",
    ">162\n",
    ">```"
   ]
  },
  {
   "cell_type": "code",
   "execution_count": null,
   "metadata": {},
   "outputs": [],
   "source": [
    "#YOUR CODE HERE"
   ]
  },
  {
   "cell_type": "markdown",
   "metadata": {},
   "source": [
    "## Exercise 2.4\n",
    "\n",
    "Given a geometric sequence with first term $a$ and common ratio $r$.\n",
    "\n",
    "Write a program that:\n",
    "- Request a numeric input from the user to be used as the first term.  Let us denote this input as `first_term`.\n",
    "- Request a numeric input from the user to be used as the common difference.  Let us denote this input as `common_ratio`.\n",
    "- Request an integer input from the user for the index for the term in the sequence.  Let us denote this input as `n`.\n",
    "- Print out the $n$th term in the sequence.\n",
    "- Print out the sum of the first $n$ terms in the sequence.\n",
    "\n",
    "Example interaction: \n",
    "\n",
    ">```text\n",
    ">Please input the first term in the geometric sequence:\n",
    ">2\n",
    ">Please input the common ratio:\n",
    ">3\n",
    ">Please input the index :\n",
    ">5\n",
    ">The 5th term in the sequence is:\n",
    ">162\n",
    ">The sum of the first 5 terms in the sequence is:\n",
    ">242\n",
    ">```"
   ]
  },
  {
   "cell_type": "code",
   "execution_count": null,
   "metadata": {},
   "outputs": [],
   "source": [
    "#YOUR CODE HERE"
   ]
  },
  {
   "cell_type": "markdown",
   "metadata": {},
   "source": [
    "## Exercise 2.5\n",
    "\n",
    "Given a geometric sequence with first term $1$ and common ratio $r$. Find the sum of the first 100 terms of the sequence if:\n",
    "- $r=2$ \n",
    "- $r=\\frac{1}{2}$ \n",
    "- $r=-3$ \n",
    "- $r=-\\frac{5}{6}$ \n",
    "- $r=4.1$\n",
    "- $r=0.7$\n",
    "\n",
    "What can you conclude about the relationship between the common ratio of the geometric sequence with the sum of the first $n$ terms of the geometric sequence as $n$ grows larger and larger? i.e., as $n\\rightarrow \\infty$. You might want to try with more values of $r$."
   ]
  },
  {
   "cell_type": "code",
   "execution_count": null,
   "metadata": {},
   "outputs": [],
   "source": [
    "#YOUR CODE HERE"
   ]
  },
  {
   "cell_type": "markdown",
   "metadata": {},
   "source": [
    "## Exercise 2.6 2019/NJC Tutorial/APGP/QB8 H2 Mathematics (Modified)\n",
    "\n",
    "An athlete is considering two plans for a training program.\n",
    "\n",
    "Plan I: Run 2000 m on day 1, 2400 m on day 2, and on each successive day increase the distance run by 400 m.\n",
    "\n",
    "Plan II: Run 2000 m on day 1, 2200 m on day 2, and on each successive day multiply the distance run by a constant factor $\\frac{11}{10}$.\n",
    "\n",
    "- **(a)** For Plan I, find the least value of $n$ for which the total distance run on days 1 to $n$, inclusive, exceeds 200 000 m.\n",
    "\n",
    "- **(b)** For Plan II, find the least value of N for which the distance run on day $N$ exceeds 16 000.\n",
    "\n",
    "- **(c)** Assume that athlete $A$ decided to go with Plan I and another athlete $B$ decided to with Plan II, when will athlete $B$'s total distance run first exceeds athlete $A$'s total distance run? "
   ]
  },
  {
   "cell_type": "code",
   "execution_count": null,
   "metadata": {},
   "outputs": [],
   "source": [
    "#YOUR CODE HERE"
   ]
  }
 ],
 "metadata": {
  "kernelspec": {
   "display_name": "Python 3",
   "language": "python",
   "name": "python3"
  },
  "language_info": {
   "codemirror_mode": {
    "name": "ipython",
    "version": 3
   },
   "file_extension": ".py",
   "mimetype": "text/x-python",
   "name": "python",
   "nbconvert_exporter": "python",
   "pygments_lexer": "ipython3",
   "version": "3.10.2 (tags/v3.10.2:a58ebcc, Jan 17 2022, 14:12:15) [MSC v.1929 64 bit (AMD64)]"
  },
  "orig_nbformat": 2,
  "vscode": {
   "interpreter": {
    "hash": "a42ccb73e7d9bfdf27e036f1d2b8b681e55fc0743cc5586bc2474d4a60f4b886"
   }
  }
 },
 "nbformat": 4,
 "nbformat_minor": 2
}
